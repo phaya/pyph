{
  "cells": [
    {
      "metadata": {
        "collapsed": true
      },
      "cell_type": "markdown",
      "source": "# Emparejar y buscar\n\n[Pablo A. Haya](https://pablohaya.com)"
    },
    {
      "metadata": {},
      "cell_type": "markdown",
      "source": "Hay veces que queremos poner en foco en si un cadena de texto cumple o no determina expresión regular. "
    },
    {
      "metadata": {},
      "cell_type": "markdown",
      "source": "La función `re.match()` exige que la expresión regular se cumpla desde el comienzo de la cadena. Esta función es habitual utilizarla como parte de una estructura `if:...else:` de manera que se tomen distintas acciones dependiendo si cumple o no la expresión regular.\n\nEn el siguiente ejemplo se comprueba si todas las letras de una palabra están en mayúsculas."
    },
    {
      "metadata": {
        "trusted": true
      },
      "cell_type": "code",
      "source": "import re\n\nif re.match(r\"[A-Z]+\",\"PABLITO\"):\n    print(\"Todas mayúsculas\")\nelse:\n    print(\"No todas mayúsculas\")",
      "execution_count": 2,
      "outputs": [
        {
          "output_type": "stream",
          "text": "Todas mayúsculas\n",
          "name": "stdout"
        }
      ]
    },
    {
      "metadata": {},
      "cell_type": "markdown",
      "source": "**Prueba tú mismo**. La misma expresión regular que el último ejemplo con las cadenas `\"PABLITO clavó\"`."
    },
    {
      "metadata": {},
      "cell_type": "markdown",
      "source": "Si queremos asegurar que la expresión también se cumpla hasta el final de la cadena tenemos que añadir el símbolo `$` al final de la misma."
    },
    {
      "metadata": {
        "trusted": true
      },
      "cell_type": "code",
      "source": "if re.match(r\"[A-Z]+$\",\"PABLITO clavó\"):\n    print(\"Todas mayúsculas\")\nelse:\n    print(\"No todas mayúsculas\")",
      "execution_count": 3,
      "outputs": [
        {
          "output_type": "stream",
          "text": "No todas mayúsculas\n",
          "name": "stdout"
        }
      ]
    },
    {
      "metadata": {},
      "cell_type": "markdown",
      "source": "Por ejemplo, si queremos detectar si una palabra termina en punto se nos podría ocurrir."
    },
    {
      "metadata": {
        "trusted": true
      },
      "cell_type": "code",
      "source": "if re.match(r\"\\w+.$\", \"clavito.\"):\n    print(\"Termina en punto\")\nelse:\n    print(\"No termina en punto\")",
      "execution_count": 4,
      "outputs": [
        {
          "output_type": "stream",
          "text": "Termina en punto\n",
          "name": "stdout"
        }
      ]
    },
    {
      "metadata": {},
      "cell_type": "markdown",
      "source": "**Prueba tú mismo**. A comprobar si `\"clavito\"` termina en punto o no."
    },
    {
      "metadata": {},
      "cell_type": "markdown",
      "source": "Hay que recordar que el `.` es un símbolo con un significado especial que hace referencia a cualquier caracter. De este manera, `\\w+` empareja con `\"clavit\"`, y el `.` con la `o`. Es preciso incluir `\\.` para especificar que nos referimos al caracter `.`, y distinguirlo del símbolo. "
    },
    {
      "metadata": {},
      "cell_type": "markdown",
      "source": "**Prueba tú mismo**. A modificar la expresión regular para que `\"clavito\"` se detecte como que no termina en punto."
    },
    {
      "metadata": {},
      "cell_type": "markdown",
      "source": "En otros lenguajes de programación es preciso incluir un marcador de principio de cadena `^` que en el caso de `Python` está implícito en la función `re.match()`. Así, `re.match(r\"[A-Z]+$\",\"PABLITO\")` es equivalente `re.match(r\"^[A-Z]+$\",\"PABLITO\")`."
    },
    {
      "metadata": {},
      "cell_type": "markdown",
      "source": "La función `re.search()` busca la primera aparición que cumpla la expresión regular. Es similar a `re.match()` pero sin exigir que tenga que comenzar desde el principio del texto.\n\nEl siguiente ejemplo busca y empareja la primera aparición de una palabra que empieze por `cla` "
    },
    {
      "metadata": {
        "trusted": true
      },
      "cell_type": "code",
      "source": "trabalenguas = \"Pablito clavó un clavito, ¿qué clavito clavo Pablito?\"\n\nm = re.search(r\"cla\\w+\", trabalenguas)\nif m:\n    print(m.group())",
      "execution_count": 5,
      "outputs": [
        {
          "output_type": "stream",
          "text": "clavó\n",
          "name": "stdout"
        }
      ]
    },
    {
      "metadata": {},
      "cell_type": "markdown",
      "source": "En caso de encontrar una cadena que empareje la expresión regular, es posible localizar donde empieza y donde acaba mediante los métodos `start()`, y `end()`, los cuales indican el número de caracteres desde el principio de la cadena."
    },
    {
      "metadata": {
        "trusted": true
      },
      "cell_type": "code",
      "source": "print(m.start())\nprint(m.end())",
      "execution_count": 6,
      "outputs": [
        {
          "output_type": "stream",
          "text": "8\n13\n",
          "name": "stdout"
        }
      ]
    },
    {
      "metadata": {},
      "cell_type": "markdown",
      "source": "Se puede comprobar que estos métodos devuelven los índices que delimitan la cadena encontrada dentro del texto. "
    },
    {
      "metadata": {
        "trusted": true
      },
      "cell_type": "code",
      "source": "trabalenguas[m.start():m.end()]  ",
      "execution_count": 16,
      "outputs": [
        {
          "output_type": "execute_result",
          "execution_count": 16,
          "data": {
            "text/plain": "'clavó'"
          },
          "metadata": {}
        }
      ]
    },
    {
      "metadata": {},
      "cell_type": "markdown",
      "source": "Utilizando estos índices, se encontrar todas las aparaciones que cumple la expresión regular aunque el código tiene cierta complejidad"
    },
    {
      "metadata": {
        "trusted": true
      },
      "cell_type": "code",
      "source": "trabalenguas = \"Pablito clavó un clavito, ¿qué clavito clavo Pablito?\"\n\nm = re.search(r\"cla\\w+\", trabalenguas) \nwhile (m):\n    print(trabalenguas,\"=>\", m.group())\n    trabalenguas = trabalenguas[m.end():]\n    m = re.search(r\"cla\\w+\", trabalenguas) ",
      "execution_count": 20,
      "outputs": [
        {
          "output_type": "stream",
          "text": "Pablito clavó un clavito, ¿qué clavito clavo Pablito? => clavó\n un clavito, ¿qué clavito clavo Pablito? => clavito\n, ¿qué clavito clavo Pablito? => clavito\n clavo Pablito? => clavo\n",
          "name": "stdout"
        }
      ]
    },
    {
      "metadata": {},
      "cell_type": "markdown",
      "source": "## Ejercicios"
    },
    {
      "metadata": {},
      "cell_type": "markdown",
      "source": "**1. Ejercicio** Dado el siguiente listado de términos separados por comas:\n\n```\n1,20,300,999,-123,+54,1.0,1.238994,-4.534,+0.34,9.,.2,a33,64b\n```\n\nDefine una expresión regular que reconozca si es un número natural. Para probar esta expresión regular con cada término, dividelo primero, y aplica la expresión regular por separado a cada uno. \n\n_Pista_: El resultado tiene que ser:\n\n```\n1 : ok\n20 : ok\n300 : ok\n999 : ok\n-123 : fallo\n+54 : fallo\n1.0 : fallo\n1.238994 : fallo\n-4.534 : fallo\n+0.34 : fallo\n9. : fallo\n.2 : fallo\na33 : fallo\n64b : fallo\n```"
    },
    {
      "metadata": {
        "trusted": true
      },
      "cell_type": "code",
      "source": "import re\n\n#numeros = [\"1\", \"20\",\"300\",\"999\",\"-123\", \"+54\", \"1.0\", \"1.238994\", \"-4.534\", \"+0.34\", \"9.\", \".2\", \"a33\", \"64b\"]\nnumeros = \"1,20,300,999,-123,+54,1.0,1.238994,-4.534,+0.34,9.,.2,a33,64b\".split(\",\")\nfor n in numeros:\n    if re.match(r\"\\d+$\", n):\n        print(n, \": OK\")\n    else:\n        print(n, \": fallo\")",
      "execution_count": null,
      "outputs": []
    },
    {
      "metadata": {},
      "cell_type": "markdown",
      "source": "**2. Ejercicio** ¿Cómo modificarías la expresión regular anterior para reconocer números enteros negativos también? \n\n_Pista_: Fijarse en qué el número `-123` ahora si que cumple"
    },
    {
      "metadata": {
        "trusted": true
      },
      "cell_type": "code",
      "source": "import re\n\nnumeros = [\"1\", \"20\",\"300\",\"999\",\"-123\", \"+54\", \"1.0\", \"1.238994\", \"-4.534\", \"+0.34\", \".2\", \"a33\", \"64b\"]\nfor n in numeros:\n    if re.match(r\"-?\\d+$\", n):\n        print(n, \": OK\")\n    else:\n        print(n, \": fallo\")",
      "execution_count": 19,
      "outputs": [
        {
          "output_type": "stream",
          "text": "1 : OK\n20 : OK\n300 : OK\n999 : OK\n-123 : OK\n+54 : err\n1.0 : err\n1.238994 : err\n-4.534 : err\n+0.34 : err\n.2 : err\na33 : err\n64b : err\n",
          "name": "stdout"
        }
      ]
    },
    {
      "metadata": {},
      "cell_type": "markdown",
      "source": "**3. Ejercicio** Y si queremos reconocer también el símbolo `+`. \n\n_Pista_: Ejemplos de números que deberías reconocer hasta el momento con la misma expresión regular: 3934, -723, +10"
    },
    {
      "metadata": {
        "trusted": true
      },
      "cell_type": "code",
      "source": "import re\n\nnumeros = [\"1\", \"20\",\"300\",\"999\",\"-123\", \"+54\", \"1.0\", \"1.238994\", \"-4.534\", \"+0.34\", \"9.\", \".2\", \"a33\", \"64b\"]\nfor n in numeros:\n    if re.match(r\"[+-]?\\d+$\", n):\n        print(n, \": OK\")\n    else:\n        print(n, \": fallo\")",
      "execution_count": 26,
      "outputs": [
        {
          "output_type": "stream",
          "text": "1 : OK\n20 : OK\n300 : OK\n999 : OK\n-123 : OK\n+54 : OK\n1.0 : err\n1.238994 : err\n-4.534 : err\n+0.34 : err\n9. : err\n.2 : err\na33 : err\n64b : err\n",
          "name": "stdout"
        }
      ]
    },
    {
      "metadata": {},
      "cell_type": "markdown",
      "source": "**4. Ejercicio** Ampliar la expresión regular anterior para que reconozca número decimales."
    },
    {
      "metadata": {
        "trusted": true
      },
      "cell_type": "code",
      "source": "import re\n\nnumeros = [\"1\", \"20\",\"300\",\"999\",\"-123\", \"+54\", \"1.0\", \"1.238994\", \"-4.534\", \"+0.34\", \"9.\", \".2\", \"a33\", \"64b\"]\nfor n in numeros:\n    if re.match(r\"[+-.]?\\d+([.]\\d*)?$\", n):\n        print(n, \": OK\")\n    else:\n        print(n, \": fallo\")",
      "execution_count": 1,
      "outputs": [
        {
          "output_type": "stream",
          "text": "1 : OK\n20 : OK\n300 : OK\n999 : OK\n-123 : OK\n+54 : OK\n1.0 : OK\n1.238994 : OK\n-4.534 : OK\n+0.34 : OK\n9. : OK\n.2 : OK\na33 : fallo\n64b : fallo\n",
          "name": "stdout"
        }
      ]
    },
    {
      "metadata": {},
      "cell_type": "markdown",
      "source": "**5. Ejercicio** Realizar una expresión regular que reconozca fraciones enteras. Pruebala con la siguiente lista de términos:\n\n```\n1/2,2/3,3/4,12/12,1/123,123 / 2,+5/6,-3/5,2/,/1,a2/1,2/1a,2/4/4\n```\n\n_Pista_: El resultado tendría que ser\n\n```\n1/2 : OK\n2/3 : OK\n3/4 : OK\n12/12 : OK\n1/123 : OK\n123 / 2 : OK\n+5/6 : OK\n-3/5 : OK\n2/ : err\n/1 : err\na2/1 : err\n2/1a : err\n2/4/4 : err\n```"
    },
    {
      "metadata": {
        "trusted": true
      },
      "cell_type": "code",
      "source": "import re\n\n#numeros = [\"1/2\", \"2/3\",\"3/4\",\"12/12\",\"1/123\", \"123 / 2\", \"a2/1\", \"2/1a\"]\nnumeros = \"1/2,2/3,3/4,12/12,1/123,123 / 2,+5/6,-3/5,2/,/1,a2/1,2/1a,2/4/4\".split(\",\")\nfor n in numeros:\n    if re.match(r\"[+-]?\\d+\\s?/\\s?\\d+$\", n):\n        print(n, \": OK\")\n    else:\n        print(n, \": fallo\")",
      "execution_count": 34,
      "outputs": [
        {
          "output_type": "stream",
          "text": "1/2 : OK\n2/3 : OK\n3/4 : OK\n12/12 : OK\n1/123 : OK\n123 / 2 : OK\n+5/6 : OK\n-3/5 : OK\n2/ : err\n/1 : err\na2/1 : err\n2/1a : err\n2/4/4 : err\n",
          "name": "stdout"
        }
      ]
    },
    {
      "metadata": {},
      "cell_type": "markdown",
      "source": "**6. Ejercicio** Realizar una expresión regular que reconozca fecha. Pruébala con la siguiente lista de términos:\n\n```\n4/7/2014,04/07/2014,4-7-2014,4.7.2014,04/Jul/2014\n```\n\nque tienen que ser reconocidos todos como fecha."
    },
    {
      "metadata": {
        "trusted": true
      },
      "cell_type": "code",
      "source": "fechas = \"4/7/2014,04/07/2014,4-7-2014,4.7.2014,04/Jul/2014\".split(\",\")\nfor n in fechas:\n    if re.match(r\"\\d{1,2}[./-][0-9A-Za-z]{1,3}[./-]\\d{4}$\", n):\n        print(n, \": OK\")\n    else:\n        print(n, \": fallo\")",
      "execution_count": 58,
      "outputs": [
        {
          "output_type": "stream",
          "text": "4/7/2014 : OK\n04/07/2014 : OK\n4-7-2014 : OK\n4.7.2014 : OK\n04/Jul/2014 : OK\n",
          "name": "stdout"
        }
      ]
    },
    {
      "metadata": {},
      "cell_type": "markdown",
      "source": "**7. Ejercicio** Realizar una expresión regular que reconozca un porcentaje. Pruébala con el siguiente listado de términos:\n\n```\n1%,10%,10 %, 3.4%,-3.405%,13.87 %,%74\n```\n\n_Pista_: Debería emparejar todos excepto el último"
    },
    {
      "metadata": {
        "trusted": true
      },
      "cell_type": "code",
      "source": "import re\n\nnumeros = [\"1%\", \"10%\", \"10 %\", \"3.4%\", \"-3.405%\", \"13.87 %\", \"%74\"]\nfor n in numeros:\n    if re.match(r\"[+-]?(\\d)+([.]\\d*)?\\s?%$\", n):\n        print(n, \": OK\")\n    else:\n        print(n, \": fallo\")",
      "execution_count": 61,
      "outputs": [
        {
          "output_type": "stream",
          "text": "1% : OK\n10% : OK\n10 % : OK\n3.4% : OK\n-3.405% : OK\n13.87 % : OK\n%74 : err\n",
          "name": "stdout"
        }
      ]
    },
    {
      "metadata": {},
      "cell_type": "markdown",
      "source": "**8. Ejercicio** Realizar una expresión regular que reconozca siglas separadas por puntos, y pruébala con el siguiente listado.\n\n```\nU.S.A.,U.S.A,EE.UU.,E.U,E.U.,USA\n```\n\n_Pista_: deberían emperajar todos excepto el último"
    },
    {
      "metadata": {
        "trusted": true
      },
      "cell_type": "code",
      "source": "import re\n\ntokens = [\"U.S.A.\", \"U.S.A\", \"EE.UU.\",\"E.U\", \"E.U.\",\"USA\"]\nfor t in tokens:\n    if re.match(r\"\\w+\\.(\\w\\.?)+$\", t):\n        print(t, \": OK\")\n    else:\n        print(t, \": fallo\")",
      "execution_count": 68,
      "outputs": [
        {
          "output_type": "stream",
          "text": "U.S.A. : OK\nU.S.A : OK\nEE.UU. : OK\nE.U : OK\nE.U. : OK\nUSA : err\n",
          "name": "stdout"
        }
      ]
    }
  ],
  "metadata": {
    "kernelspec": {
      "name": "python36",
      "display_name": "Python 3.6",
      "language": "python"
    },
    "language_info": {
      "mimetype": "text/x-python",
      "nbconvert_exporter": "python",
      "name": "python",
      "pygments_lexer": "ipython3",
      "version": "3.6.6",
      "file_extension": ".py",
      "codemirror_mode": {
        "version": 3,
        "name": "ipython"
      }
    }
  },
  "nbformat": 4,
  "nbformat_minor": 2
}