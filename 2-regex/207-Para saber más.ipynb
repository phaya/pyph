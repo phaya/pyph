{
  "cells": [
    {
      "metadata": {},
      "cell_type": "markdown",
      "source": "## Para seguir practicando"
    },
    {
      "metadata": {},
      "cell_type": "markdown",
      "source": "* http://www.pyregex.com/: página web donde probar en línea expresiones regulares en Python.\n* https://regexone.com/: breve curso complementario donde seguir prácticando."
    },
    {
      "metadata": {
        "collapsed": true
      },
      "cell_type": "markdown",
      "source": "## Chuleta de posibles patrones \n\n\n    abc...     Letras\n    123...     Dígitos\n    [abc]      'a', 'b', ó 'c'\n    [^abc]     Cualquier caracter excepto 'a', 'b', ó 'c'\n    [0-9]      Dígitos del 0 al 9\n    \\d         Cualquier dígito [0-9]\n    \\D         Cualquier caracter que no sea un dígito\n    [a-z]      Caracteres de la 'a' la 'z'\n    \\w         Cualquier caracter alfanumérico\n    \\W         Cualquier caracter no alfanumérico\n    \\s         Cualquier caracter separador\n    \\S         Cualquier caracter no separador\n    \\b         Delimitador de comienzo o fin de palabra\n    \\B         Delimitador de no comienzo o no fin de palabra \n    .          Cualquier caracter (excepto retorno de carro)\n    \\.         Punto\n    *          Cero o más repeticiones\n    +          Uno o más repeticiones\n    ?          Opcional\n    {m}        m repeticiones\n    {m,n}      m a n repeticiones\n    ^...$      Comienzo y fin\n    (...)      Captura de grupos\n    (.*)       Captura todo\n    \\1         Referencia al grupo 1\n    (abc|def)  Emparaja abc o def"
    }
  ],
  "metadata": {
    "kernelspec": {
      "name": "python36",
      "display_name": "Python 3.6",
      "language": "python"
    },
    "language_info": {
      "mimetype": "text/x-python",
      "nbconvert_exporter": "python",
      "name": "python",
      "pygments_lexer": "ipython3",
      "version": "3.6.6",
      "file_extension": ".py",
      "codemirror_mode": {
        "version": 3,
        "name": "ipython"
      }
    }
  },
  "nbformat": 4,
  "nbformat_minor": 2
}