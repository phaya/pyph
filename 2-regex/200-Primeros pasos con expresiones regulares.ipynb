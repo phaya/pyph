{
  "cells": [
    {
      "metadata": {
        "collapsed": true
      },
      "cell_type": "markdown",
      "source": "# Primeros pasos con expresiones regulares\n\n[Pablo A. Haya](https://pablohaya.com)"
    },
    {
      "metadata": {},
      "cell_type": "markdown",
      "source": "La expresiones regulares constituye un lenguaje específico que permite determinar si un texto contiene alguna cadena de caracteres que responde a un determinado patrón. Las expresiones regulares permiten especificar estos patrones mediante una combinación de operadores propios. Existe un determinado estándar al que se ajustan todos los lenguajes de programación, aunque luego la sintaxis puede variar ligeramente de uno a otro.\n\nEl módulo que implementa expresiones regulares en Python se denomina `re`. La documentación en la versión 3 está accesible [en línea](https://docs.python.org/3/library/re.html).\n\nHay cuatro operaciones básicas que se pueden realizar con expresiones regulares (entre paréntesis como se nombran en `Python`):\n\n* Extraer (`findall`): dado un texto extrae todas las cadenas dentro del mismo que cumplen una determinada expresión regular.\n* Buscar (`match` y `search`): dado un texto indica si existe una cadena que cumpla la expresión regular. En el caso de `match` exige que el principio del texto coincida con el patrón buscado. En el caso de `search` devuelve la primera aparición en la cadena independientemente donde se encuentre. \n* Sustituir (`sub`): dado un texto sustituye todas las cadenas que cumplan la expresión regular por otra cadena. Esta operación sería la versión sofisticada de `str.replace()`.\n* Dividir (`split`): divide un texto en subcadenas según una expresión regular. Esta operación es equivalente a `str.split()`, pero el separador se determina mediante una expresión regular en vez de un posible subconjunto de caracteres."
    },
    {
      "metadata": {},
      "cell_type": "markdown",
      "source": "La expresión regular más simple es una cadena texto. Basicamente estamos indicando que tenemos que encontrar otras cadenas que sean exactemente iguales. \n\nVamos a ver un ejemplo con la función `findall()` que nos devuelve todas las apariciones que cumplan la expresión regular. En este caso, todas las apariciones de la cadena que indiquemos."
    },
    {
      "metadata": {
        "trusted": true
      },
      "cell_type": "code",
      "source": "import re\n\nre.findall(r\"tristes\", \"Tres tristes tigres tragaban trigo en un trigal en tres tristes trastos\")",
      "execution_count": 2,
      "outputs": [
        {
          "output_type": "execute_result",
          "execution_count": 2,
          "data": {
            "text/plain": "['tristes', 'tristes']"
          },
          "metadata": {}
        }
      ]
    },
    {
      "metadata": {},
      "cell_type": "markdown",
      "source": "Nos devuelve las dos aparaciones de `tristes` en el trabaleguas que hemos indicado como segundo parámetro. Vemos que el primer parámetro indica la expresión regular como `r\"tristes\"`. El modificador `r` sólo es obligatorio cuando tengamos expresiones regulares más complejas, pero lo vamos a incluir siempre, de manera que sea más fácil distinguir entre la expresión regular, y el texto donde se aplica."
    },
    {
      "metadata": {},
      "cell_type": "markdown",
      "source": "Hay que tener en cuenta que estamos realizando una búsqueda literal de la cadena `tristes` dentro de otra cadena, es decir, estamos pidiendo que encuentre todas las veces en que la letras `t`, `r`, `i`,`s`,`t`, `e` aparecen juntas. Si eliminamos los espacios del trabalenguas anterior, el resultado es el mismo, ya que sigue encontrándo dos veces la cadena `tristes."
    },
    {
      "metadata": {
        "trusted": true
      },
      "cell_type": "code",
      "source": "import re\n\nre.findall(r\"tristes\", \"Trestristestigrestragabantrigoenuntrigalentrestristestrastos\")",
      "execution_count": 11,
      "outputs": [
        {
          "output_type": "execute_result",
          "execution_count": 11,
          "data": {
            "text/plain": "['tristes', 'tristes']"
          },
          "metadata": {}
        }
      ]
    },
    {
      "metadata": {},
      "cell_type": "markdown",
      "source": "Podemos utilizar la función `len()` para determinar cuantas apariciones hemos encontrado."
    },
    {
      "metadata": {
        "trusted": true
      },
      "cell_type": "code",
      "source": "len(re.findall(r\"tristes\", \"Tres tristes tigres tragaban trigo en un trigal en tres tristes trastos\"))",
      "execution_count": 3,
      "outputs": [
        {
          "output_type": "execute_result",
          "execution_count": 3,
          "data": {
            "text/plain": "2"
          },
          "metadata": {}
        }
      ]
    },
    {
      "metadata": {},
      "cell_type": "markdown",
      "source": "Si no se encuentra ninguna aparición, el resultado es una lista vacía."
    },
    {
      "metadata": {
        "trusted": true
      },
      "cell_type": "code",
      "source": "re.findall(r\"tristos\", \"Tres tristes tigres tragaban trigo en un trigal en tres tristes trastos\")",
      "execution_count": 4,
      "outputs": [
        {
          "output_type": "execute_result",
          "execution_count": 4,
          "data": {
            "text/plain": "[]"
          },
          "metadata": {}
        }
      ]
    },
    {
      "metadata": {},
      "cell_type": "markdown",
      "source": "**Prueba tú mismo**. A realizar una expresión regular que comprueba cuantas letras `e` hay en el trabalenguas anterior."
    },
    {
      "metadata": {},
      "cell_type": "markdown",
      "source": "**Prueba tú mismo**. A comprobar cuantas veces se encuentra `tres tristes`."
    },
    {
      "metadata": {},
      "cell_type": "markdown",
      "source": "Las búsqueda son sensibles a las mayúsculas y minúsculas como has podido comprobar. `findall()` encuentra una sola vez la cadena `tres tristes`, ignorando la subcadena `Tres tristes` que se encuentra al principio."
    },
    {
      "metadata": {},
      "cell_type": "markdown",
      "source": "Una primera opción consiste en indicar diferentes expresiones alternativas con el operador `|`."
    },
    {
      "metadata": {
        "trusted": true
      },
      "cell_type": "code",
      "source": "re.findall(r\"Tres tristes|tres tristes\", \"Tres tristes tigres tragaban trigo en un trigal en tres tristes trastos\")",
      "execution_count": 9,
      "outputs": [
        {
          "output_type": "execute_result",
          "execution_count": 9,
          "data": {
            "text/plain": "['Tres tristes', 'tres tristes']"
          },
          "metadata": {}
        }
      ]
    },
    {
      "metadata": {},
      "cell_type": "markdown",
      "source": "Otra opción más conveniente ara indicar que la búsqueda no tenga en cuenta las diferencias entre mayúsculas y minúsculas. La primera es añadir el parámetro `re.IGNORECASE` en la llamada a la función."
    },
    {
      "metadata": {
        "trusted": true
      },
      "cell_type": "code",
      "source": "re.findall(r\"tres tristes\", \"Tres tristes tigres tragaban trigo en un trigal en tres tristes trastos\", re.IGNORECASE)",
      "execution_count": 10,
      "outputs": [
        {
          "output_type": "execute_result",
          "execution_count": 10,
          "data": {
            "text/plain": "['Tres tristes', 'tres tristes']"
          },
          "metadata": {}
        }
      ]
    },
    {
      "metadata": {},
      "cell_type": "markdown",
      "source": "**Prueba tú mismo**. A comprobar cuantas veces aparece la letra `t` incluyendo la `T` mayúscula inicial."
    },
    {
      "metadata": {},
      "cell_type": "markdown",
      "source": "## Ejercicios"
    },
    {
      "metadata": {},
      "cell_type": "markdown",
      "source": "**1. Ejercicio** Dado el siguiente texto:\n\n\n> La lingüística (del francés linguistique; este de linguiste, «lingüista» y aquel del latín \"lingua\", «lengua») es el estudio científico del origen, la evolución y la estructura del lenguaje, a fin de deducir las leyes que rigen las lenguas (antiguas y modernas). Así, la Lingüística estudia las estructuras fundamentales del lenguaje humano, sus variaciones a través de todas las familias de lenguas (las cuales también identifica y clasifica) y las condiciones que hacen posible la comprensión y la comunicación por medio de la lengua natural, (esto último es particularmente cierto en el enfoque generativista). \n\nencontrar todas las apariciones de las cadenas `ling` o `leng` en todas sus formas posibles."
    },
    {
      "metadata": {},
      "cell_type": "markdown",
      "source": "**2. Ejercicio** Determinar en la novela de _La Celestina_ de Fernando de Rojas si Calisto interviene más veces que Melibea, o al revés. La novela se puede descargar de http://www.gutenberg.org/cache/epub/1619/pg1619.txt"
    }
  ],
  "metadata": {
    "kernelspec": {
      "name": "python36",
      "display_name": "Python 3.6",
      "language": "python"
    },
    "language_info": {
      "mimetype": "text/x-python",
      "nbconvert_exporter": "python",
      "name": "python",
      "pygments_lexer": "ipython3",
      "version": "3.6.6",
      "file_extension": ".py",
      "codemirror_mode": {
        "version": 3,
        "name": "ipython"
      }
    }
  },
  "nbformat": 4,
  "nbformat_minor": 2
}