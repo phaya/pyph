{
  "cells": [
    {
      "metadata": {
        "collapsed": true
      },
      "cell_type": "markdown",
      "source": "# Cero o uno, cero o más, uno o más\n\n[Pablo A. Haya](https://pablohaya.com)"
    },
    {
      "metadata": {},
      "cell_type": "markdown",
      "source": "El símbolo `?` indica que la expresión regular reconocerá cero o una repetición de la cadena precedente. En la siguiente expresión `planchas?` reconoce tanto `plancha` como `planchas`."
    },
    {
      "metadata": {
        "trusted": true
      },
      "cell_type": "code",
      "source": "import re\n\ntrabalenguas = \"Si Pancha plancha con cuatro planchas, con cuantas planchas Pancha plancha\"\nre.findall(r\"planchas?\", trabalenguas)",
      "execution_count": 3,
      "outputs": [
        {
          "output_type": "execute_result",
          "execution_count": 3,
          "data": {
            "text/plain": "['plancha', 'planchas', 'planchas', 'plancha']"
          },
          "metadata": {}
        }
      ]
    },
    {
      "metadata": {},
      "cell_type": "markdown",
      "source": "**Prueba tú mismo**. Modifica la expresión regular anterior para que también incluya las apariciones de `Pancha`"
    },
    {
      "metadata": {},
      "cell_type": "markdown",
      "source": "Otro símbolo que se emplea muy frecuentemente es `*` que indica que se reconoce cero o más repeticiones de la cadena precedente. Por ejemplo, la siguiente expresión `ja*` reconoce tantas `a` como queramos."
    },
    {
      "metadata": {
        "trusted": true
      },
      "cell_type": "code",
      "source": "risas = \"jaaa!, jaa!, ja, jaaaaaaa!, jaa, j!\"\nre.findall(r\"ja*\", risas)",
      "execution_count": 5,
      "outputs": [
        {
          "output_type": "execute_result",
          "execution_count": 5,
          "data": {
            "text/plain": "['jaaa', 'jaa', 'ja', 'jaaaaaaa', 'jaa', 'j']"
          },
          "metadata": {}
        }
      ]
    },
    {
      "metadata": {},
      "cell_type": "markdown",
      "source": "**Prueba tú mismo**. Limita la expresión anterior para que solo reconozca aquellas risas terminadas en admiración `!`."
    },
    {
      "metadata": {},
      "cell_type": "markdown",
      "source": "**Prueba tú mismo**. La expresión anterior reconoce también `j!` ¿Por qué? ¿Cómo modificarías la expresión regular para que reconozca al menos una `a`?"
    },
    {
      "metadata": {
        "trusted": true
      },
      "cell_type": "code",
      "source": "re.findall(r\"jaa*!?\", risas)",
      "execution_count": null,
      "outputs": []
    },
    {
      "metadata": {},
      "cell_type": "markdown",
      "source": "El símbolo `+` simplifica el ejercicio anterior ya que reconoce uno o más apariciones de la cadena precendete."
    },
    {
      "metadata": {
        "trusted": true
      },
      "cell_type": "code",
      "source": "re.findall(r\"ja+!\", risas)",
      "execution_count": null,
      "outputs": []
    },
    {
      "metadata": {},
      "cell_type": "markdown",
      "source": "Combinando con la definición de rangos `[]` se pueden realizar expresiones regulares más sofísticadas."
    },
    {
      "metadata": {},
      "cell_type": "markdown",
      "source": "**Prueba tú mismo**. Define y prueba una expresión regular que reconozca todas las carcajadas de `risas = \"jaaa!, jee!, ji!, joooooooo!, juu!\"`"
    },
    {
      "metadata": {},
      "cell_type": "markdown",
      "source": "El siguiente caracter especial es `.` que indica que es un comodín que reconoce cualquier caracter excepto los saltos de líneas. \n\nEn este ejemplo queremos extraer todas las palabras que empiecen con `c` y contenga `nt` como `cuentes`, `cuentos`, `cuantos`, o `cuentas`. Un primer patrón que se nos ocurre es buscar palabras que entre la `c` y la `nt` tengan dos caracteres cualesquiera (`..`), y después de `nt` tengan otros dos caracteres (`..`). "
    },
    {
      "metadata": {
        "trusted": true
      },
      "cell_type": "code",
      "source": "trabalenguas = \"\"\"Cuando cuentes cuentos cuenta cuantos cuentos cuentas por que, \nsi no cuentas cuantos cuentos cuentas, nunca sabrás cuantos cuentos sabes contar.\"\"\"\n\nprint(re.findall(r\"c..nt..\", trabalenguas))",
      "execution_count": 6,
      "outputs": [
        {
          "output_type": "stream",
          "text": "['cuentes', 'cuentos', 'cuenta ', 'cuantos', 'cuentos', 'cuentas', 'cuentas', 'cuantos', 'cuentos', 'cuentas', 'cuantos', 'cuentos']\n",
          "name": "stdout"
        }
      ]
    },
    {
      "metadata": {},
      "cell_type": "markdown",
      "source": "Como se puede comprobar cada punto espera que haya un caracter obligatoriamente ya que omite la palabra `contar`, que sólo tiene un caracter entre la `c` y `nt`, y nos devuelve la palabra `cuenta ` que incluye un espacio como uno de los caracteres que espera.\n\n¿Cómo le indicamos que puede habar un número variable de caracteres entre la `c` y la `nt`? Combinando el punto con el asterisco. El patrón `.*` indica que espera encontrar cualquier número de caracteres. \n\nModificamos la expresión regular por `c.*nt..`, y comprobamos que pasa:"
    },
    {
      "metadata": {
        "trusted": true
      },
      "cell_type": "code",
      "source": "trabalenguas = \"\"\"Cuando cuentes cuentos cuenta cuantos cuentos cuentas por que, \nsi no cuentas cuantos cuentos cuentas, nunca sabrás cuantos cuentos sabes contar.\"\"\"\n\nprint(re.findall(r\"c.*nt..\", trabalenguas))",
      "execution_count": 7,
      "outputs": [
        {
          "output_type": "stream",
          "text": "['cuentes cuentos cuenta cuantos cuentos cuentas', 'cuentas cuantos cuentos cuentas, nunca sabrás cuantos cuentos sabes contar']\n",
          "name": "stdout"
        }
      ]
    },
    {
      "metadata": {},
      "cell_type": "markdown",
      "source": "El resultado no parece que sea el esperado. Por defecto, expresiones como `.*`, o `.+` intentan extraer la cadena más larga que responde a ese patrón. De la primera cadena que encuentra, hemos resaltado los caracteres que hacen que se dispare el patrón: \n\n_**c**uentes cuentos cuenta cuantos cuentos cue**ntas**_\n\nEl patrón `.*` toma todos los caracteres hasta la última subcadena que es capaz de cumplir `nt..`, aunque entre medias haya encontrado múltiples subcadenas que también lo cumplen. \n\nEste comportamiento se denomina avaricioso (_greedy_), y viene heredado de otros lenguajes de programación diseñados antes que Python. Es posible desactivarlo incluyendo el símbolo `?` (cuidado no confundir con el uso de este símbolo con el operador cero o uno)."
    },
    {
      "metadata": {
        "trusted": true
      },
      "cell_type": "code",
      "source": "trabalenguas = \"\"\"Cuando cuentes cuentos cuenta cuantos cuentos cuentas por que, \nsi no cuentas cuantos cuentos cuentas, nunca sabrás cuantos cuentos sabes contar.\"\"\"\n\nprint(re.findall(r\"c.*?nt..\", trabalenguas))",
      "execution_count": 8,
      "outputs": [
        {
          "output_type": "stream",
          "text": "['cuentes', 'cuentos', 'cuenta ', 'cuantos', 'cuentos', 'cuentas', 'cuentas', 'cuantos', 'cuentos', 'cuentas', 'ca sabrás cuantos', 'cuentos', 'contar']\n",
          "name": "stdout"
        }
      ]
    },
    {
      "metadata": {},
      "cell_type": "markdown",
      "source": "Hemos mejorado el resultado, pero todavía nos queda por pulirlo. Se sigue colando una cadena ajena al patrón que buscamos: `ca sabrás cuantos`. Aunque hemos desactivado el comportamiento avaricioso, los espacios son caracteres que entran dentro de `.*`. De esta manera, `a sabrás cua` es perfectamente válido.\n\nDe las varias formas de indicar que sólo extraiga palabras completas, la más directa es emplear la bandera `\\b`. "
    },
    {
      "metadata": {
        "trusted": true
      },
      "cell_type": "code",
      "source": "trabalenguas = \"\"\"Cuando cuentes cuentos cuenta cuantos cuentos cuentas por que, \nsi no cuentas cuantos cuentos cuentas, nunca sabrás cuantos cuentos sabes contar.\"\"\"\n\nprint(re.findall(r\"\\bc.*?nt..\\b\", trabalenguas))",
      "execution_count": 9,
      "outputs": [
        {
          "output_type": "stream",
          "text": "['cuentes', 'cuentos', 'cuenta ', 'cuantos', 'cuentos', 'cuentas', 'cuentas', 'cuantos', 'cuentos', 'cuentas', 'cuantos', 'cuentos', 'contar']\n",
          "name": "stdout"
        }
      ]
    },
    {
      "metadata": {},
      "cell_type": "markdown",
      "source": "Tenemos ya la solución sino fuera por que se nos cuela un espacio en `cuenta `. Como las palabras pueden terminar con uno o más caracteres, sustituimos los `..` finales por `.*?`. De nuevo, recordar que la `?` desactiva el comportamiento avaricioso. "
    },
    {
      "metadata": {
        "trusted": true
      },
      "cell_type": "code",
      "source": "trabalenguas = \"\"\"Cuando cuentes cuentos cuenta cuantos cuentos cuentas por que, \nsi no cuentas cuantos cuentos cuentas, nunca sabrás cuantos cuentos sabes contar.\"\"\"\n\nprint(re.findall(r\"\\bc.*?nt.*?\\b\", trabalenguas))",
      "execution_count": 20,
      "outputs": [
        {
          "output_type": "stream",
          "text": "['cuentes', 'cuentos', 'cuenta', 'cuantos', 'cuentos', 'cuentas', 'cuentas', 'cuantos', 'cuentos', 'cuentas', 'cuantos', 'cuentos', 'contar']\n",
          "name": "stdout"
        }
      ]
    },
    {
      "metadata": {},
      "cell_type": "markdown",
      "source": "**Prueba tú mismo**. A extraer todas las palabras que empiezen por `t`, y contengan una `j` de `trabalenguas = \"Me trajo Tajo tres trajes tres trajes me trajo Tajo\"`"
    },
    {
      "metadata": {},
      "cell_type": "markdown",
      "source": "**Prueba tú mismo**. En el trabalenguas anterior se han comentido algunos errores ortográficos quedan `\"\"\"Cuando cntes cuentos cuenta cuantos cuentos cuentas por que, si no cuentas cuantos cuentos cuentas, nun ca sabrás cuantos cuentos sabes contar.\"\"\"`. Modificar la expresión para que sólo encuentre palabras correctas."
    },
    {
      "metadata": {
        "trusted": true
      },
      "cell_type": "code",
      "source": "\ntrabalenguas = \"\"\"Cuando cntes cuentos cuenta cuantos cuentos cuentas por que, \nsi no cuentas cuantos cuentos cuentas, nun ca sabrás cuantos cuentos sabes contar.\"\"\"\n\nprint(re.findall(r\"\\bc[^ ]+?nt[^ ]+?\\b\", trabalenguas))",
      "execution_count": 25,
      "outputs": [
        {
          "output_type": "stream",
          "text": "['cuentos', 'cuenta', 'cuantos', 'cuentos', 'cuentas', 'cuentas', 'cuantos', 'cuentos', 'cuentas', 'cuantos', 'cuentos', 'contar']\n",
          "name": "stdout"
        }
      ]
    },
    {
      "metadata": {},
      "cell_type": "markdown",
      "source": "El símbolo `*` define que la expresión regular tiene que emparejar cero o más caracteres, mientras que el símbolo `+` sería uno o más caracteres. Hay veces que te puede interesar cambiar estos límites, por ejemplo, quiero emparejar como mínimo 2 y como máximo 4 caracteres. Esto se indica mediante `{2,4}`.\n\nEn el siguiente ejemplo se quieren encontrar aquellas palabras que contenga uno o dos caracteres entre  `c` y `nt`, o después de `nt`. Si te fijas quedan excluidas la segunda y tercera palabra que hubieran emparejado con `+`.  "
    },
    {
      "metadata": {
        "trusted": true
      },
      "cell_type": "code",
      "source": "trabalenguas = \"\"\"Cuando cueeeeeeeeeentes cuentoooooos cuenta cuantos cuentos cuentas por que, \nsi no cuentas cuantos cuentos cuentas, nunca sabrás cuantos cuentos sabes contar.\n\"\"\"\n\nprint(re.findall(r\"\\bc.{1,2}nt.{1,2}\\b\", trabalenguas))",
      "execution_count": 28,
      "outputs": [
        {
          "output_type": "stream",
          "text": "['cuenta ', 'cuantos', 'cuentos', 'cuentas', 'cuentas', 'cuantos', 'cuentos', 'cuentas', 'cuantos', 'cuentos', 'contar']\n",
          "name": "stdout"
        }
      ]
    },
    {
      "metadata": {},
      "cell_type": "markdown",
      "source": "**Prueba tú mismo**. A buscar todas las palabras que tenga entre una y cinco letras"
    },
    {
      "metadata": {
        "trusted": true
      },
      "cell_type": "code",
      "source": "print(re.findall(r\"\\b[^ ]{1,5}\\b\", trabalenguas))",
      "execution_count": 31,
      "outputs": [
        {
          "output_type": "stream",
          "text": "['por', 'que', 'si', 'no', 'nunca', 'sabes']\n",
          "name": "stdout"
        }
      ]
    },
    {
      "metadata": {},
      "cell_type": "markdown",
      "source": "**Prueba tú mismo**. A buscar todas las palabras de cinco letras"
    },
    {
      "metadata": {
        "trusted": true
      },
      "cell_type": "code",
      "source": "print(re.findall(r\"\\b[^ ]{5}\\b\", trabalenguas))",
      "execution_count": 30,
      "outputs": [
        {
          "output_type": "stream",
          "text": "['nunca', 'sabes']\n",
          "name": "stdout"
        }
      ]
    },
    {
      "metadata": {},
      "cell_type": "markdown",
      "source": "## Ejercicios"
    },
    {
      "metadata": {},
      "cell_type": "markdown",
      "source": "**1. Ejercicio** Dada la siguiente lista de nombres:\n\n```\nling = \"Willem Adelaar,John L. Austin,Charles Bally,Andrés Bello,Émile Benveniste,Leonard Bloomfield,Franz Bopp,Ignacio Bosque,Salvador Gutiérrez Ordóñez,Francisco Marcos Marín,Pedro Martín Butragueño,Lyle Campbell,Rodolfo Cerrón Palomino,Eugen Coșeriu,Noam Chomsky,Violeta Demonte,Lucien Tesnière,Robert M. W. Dixon,John Rupert Firth,Joseph Greenberg,Jacob Grimm y Wilhelm Grimm,Claude Hagège,Michael Halliday,Henk Haverkate,Louis Hjelmslev,Roman Jakobson,William Labov,George Lakoff,Čestmír Loukotka,André Martinet,Alfredo Matus Olivier,Igor Mel'čuk,Merritt Ruhlen,Edward Sapir,Ferdinand de Saussure,Sergéi Stárostin,John Sinclair,Morris Swadesh,Alfredo Torero,Nikolái Trubetskói,Robert van Valin,Teun van Dijk,Viktor Vinográdov\"\n```\n\nextraer aquellos nombres y apellidos que empiecen por `J`."
    },
    {
      "metadata": {
        "trusted": true
      },
      "cell_type": "code",
      "source": "import re\nling = \"Willem Adelaar,John L. Austin,Charles Bally,Andrés Bello,Émile Benveniste,Leonard Bloomfield,Franz Bopp,Ignacio Bosque,Salvador Gutiérrez Ordóñez,Francisco Marcos Marín,Pedro Martín Butragueño,Lyle Campbell,Rodolfo Cerrón Palomino,Eugen Coșeriu,Noam Chomsky,Violeta Demonte,Lucien Tesnière,Robert M. W. Dixon,John Rupert Firth,Joseph Greenberg,Jacob Grimm y Wilhelm Grimm,Claude Hagège,Michael Halliday,Henk Haverkate,Louis Hjelmslev,Roman Jakobson,William Labov,George Lakoff,Čestmír Loukotka,André Martinet,Alfredo Matus Olivier,Igor Mel'čuk,Merritt Ruhlen,Edward Sapir,Ferdinand de Saussure,Sergéi Stárostin,John Sinclair,Morris Swadesh,Alfredo Torero,Nikolái Trubetskói,Robert van Valin,Teun van Dijk,Viktor Vinográdov\"\nre.findall(r\"\\bV.*? V[^ ]*?\\b\", ling)",
      "execution_count": 10,
      "outputs": [
        {
          "output_type": "execute_result",
          "execution_count": 10,
          "data": {
            "text/plain": "[\"Violeta Demonte,Lucien Tesnière,Robert M. W. Dixon,John Rupert Firth,Joseph Greenberg,Jacob Grimm y Wilhelm Grimm,Claude Hagège,Michael Halliday,Henk Haverkate,Louis Hjelmslev,Roman Jakobson,William Labov,George Lakoff,Čestmír Loukotka,André Martinet,Alfredo Matus Olivier,Igor Mel'čuk,Merritt Ruhlen,Edward Sapir,Ferdinand de Saussure,Sergéi Stárostin,John Sinclair,Morris Swadesh,Alfredo Torero,Nikolái Trubetskói,Robert van Valin\",\n 'Viktor Vinográdov']"
          },
          "metadata": {}
        }
      ]
    },
    {
      "metadata": {},
      "cell_type": "markdown",
      "source": "**2. Ejercicio** Siguiendo con el ejercicio anterior extraer aquellos lingüistas cuyo nombre y apellido empiece por `V`."
    },
    {
      "metadata": {
        "trusted": true
      },
      "cell_type": "code",
      "source": "ling = \"Willem Adelaar,John L. Austin,Charles Bally,Andrés Bello,Émile Benveniste,Leonard Bloomfield,Franz Bopp,Ignacio Bosque,Salvador Gutiérrez Ordóñez,Francisco Marcos Marín,Pedro Martín Butragueño,Lyle Campbell,Rodolfo Cerrón Palomino,Eugen Coșeriu,Noam Chomsky,Violeta Demonte,Lucien Tesnière,Robert M. W. Dixon,John Rupert Firth,Joseph Greenberg,Jacob Grimm y Wilhelm Grimm,Claude Hagège,Michael Halliday,Henk Haverkate,Louis Hjelmslev,Roman Jakobson,William Labov,George Lakoff,Čestmír Loukotka,André Martinet,Alfredo Matus Olivier,Igor Mel'čuk,Merritt Ruhlen,Edward Sapir,Ferdinand de Saussure,Sergéi Stárostin,John Sinclair,Morris Swadesh,Alfredo Torero,Nikolái Trubetskói,Robert van Valin,Teun van Dijk,Viktor Vinográdov\"\nre.findall(r\"V\\w+ +V\\w+\", ling)",
      "execution_count": 2,
      "outputs": [
        {
          "output_type": "execute_result",
          "execution_count": 2,
          "data": {
            "text/plain": "['Viktor Vinográdov']"
          },
          "metadata": {}
        }
      ]
    },
    {
      "metadata": {},
      "cell_type": "markdown",
      "source": "**3. Ejercicio** Dado el siguiente extracto de una página web:\n\n```\n<h2><a></a><a href=\"/browse/authors/u#a5605\">Unamuno, Miguel de, 1864-1936</a></h2>\n<ul>\n  <li><a href=\"/ebooks/44512\">Abel Sánchez: Una Historia de Pasión</a> (Spanish) (as Author)</li>\n  <li><a href=\"/ebooks/49149\">Amor y Pedagogía</a> (Spanish) (as Author)</li>\n  <li><a href=\"/ebooks/59852\">Del sentimiento trágico de la vida</a> (Spanish) (as Author)</li>\n  <li><a href=\"/ebooks/49836\">Niebla (Nivola)</a> (Spanish) (as Author)</li>\n  <li><a href=\"/ebooks/44358\">La Tía Tula (Novela)</a> (Spanish) (as Author)</li>\n  <li><a href=\"/ebooks/55916\">Tres novelas ejemplares y un prólogo</a> (Spanish) (as Author)</li>\n  <li><a href=\"/ebooks/40827\">La voz de la conseja</li>\n<br>Selección de las mejores novelas breves y cuentos de los más esclarecidos literatos</a> (Spanish) (as Author)</li>\n</ul>\n```\n\nextraer todas las etiquetas html de apertura, es decir, por ejemplo, `<h2>` debería aparecer, en cambio `</h2>` no."
    },
    {
      "metadata": {
        "trusted": true
      },
      "cell_type": "code",
      "source": "re.findall(r\"<[^/].*?>\", s)",
      "execution_count": null,
      "outputs": []
    },
    {
      "metadata": {},
      "cell_type": "markdown",
      "source": "**4. Ejercicio** Dado el siguiente correo electrónico:\n\n```\nMIME-Version: 1.0\nFrom: <usuario01@ejemplo.es>\nTo: usuario02@ejemplo.es, \"Usuario 03\" <usuario-03@ejemplo.es>\nCc: <usuario.08@ejemplo.es>, <usuario09@ejemplo.es>\nDate: Wed, 9 Jan 2019 08:36:15 -0800\nSubject: <Ficheros solicitados>\nX-FLAG=CONFIRM_DELIVERY\nX-FLAG=ATTACH <c:\\docs\\files\\data01.zip, MIME> -X\n\nOs adjunto los ficheros solicitados\n```\n\nextraer todas las direcciones de correo electrónico."
    },
    {
      "metadata": {
        "trusted": true
      },
      "cell_type": "code",
      "source": "s = \"\"\"MIME-Version: 1.0\nFrom: <usuario01@ejemplo.es>\nTo: usuario02@ejemplo.es, \"Usuario 03\" <usuario-03@ejemplo.es>\nCc: <usuario.08@ejemplo.es>, <usuario09@ejemplo.es>\nDate: Wed, 9 Jan 2019 08:36:15 -0800\nSubject: <Ficheros solicitados>\nX-FLAG=CONFIRM_DELIVERY\nX-FLAG=ATTACH <c:\\docs\\files\\data01.zip, MIME> -X\n\nOs adjunto los ficheros solicitados\"\"\"\n\nre.findall(r\"[\\w.-]+?@[\\w-]+\\.\\w+\", s)",
      "execution_count": 18,
      "outputs": [
        {
          "output_type": "execute_result",
          "execution_count": 18,
          "data": {
            "text/plain": "['usuario01@ejemplo.es',\n 'usuario02@ejemplo.es',\n 'usuario-03@ejemplo.es',\n 'usuario.08@ejemplo.es',\n 'usuario09@ejemplo.es']"
          },
          "metadata": {}
        }
      ]
    }
  ],
  "metadata": {
    "kernelspec": {
      "name": "python36",
      "display_name": "Python 3.6",
      "language": "python"
    },
    "language_info": {
      "mimetype": "text/x-python",
      "nbconvert_exporter": "python",
      "name": "python",
      "pygments_lexer": "ipython3",
      "version": "3.6.6",
      "file_extension": ".py",
      "codemirror_mode": {
        "version": 3,
        "name": "ipython"
      }
    }
  },
  "nbformat": 4,
  "nbformat_minor": 2
}