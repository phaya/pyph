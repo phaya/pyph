{
  "cells": [
    {
      "metadata": {
        "collapsed": true
      },
      "cell_type": "markdown",
      "source": "# Dividir\n\n[Pablo A. Haya](https://pablohaya.com)"
    },
    {
      "metadata": {},
      "cell_type": "markdown",
      "source": "En la introducción comentabamos que existen diversas operaciones que se pueden realizar empleando expresiones regulares. Una muy útil es dividir un texto en palabras, o sentencias, o una palabra en varias partes."
    },
    {
      "metadata": {},
      "cell_type": "markdown",
      "source": "Si estamos buscando separar un texto en palabras, podemos utilizar la función `re.findall()` que ya conocemos. Recordemos que el símbolo `\\w` permite recuperar todas las letras, números, y el caracter `_`. Combinándolo con el símbolo `+` podemos separar fácilmente una frase en palabras."
    },
    {
      "metadata": {
        "trusted": true
      },
      "cell_type": "code",
      "source": "import re\n\ntrabalenguas = \"\"\"Cuando cuentes cuentos cuenta cuantos cuentos cuentas por que,\nsi no cuentas cuantos cuentos cuentas, nunca sabrás cuantos cuentos sabes contar.\"\"\"\n\nre.findall(r\"\\w+\", trabalenguas)",
      "execution_count": 4,
      "outputs": [
        {
          "output_type": "execute_result",
          "execution_count": 4,
          "data": {
            "text/plain": "['Cuando',\n 'cuentes',\n 'cuentos',\n 'cuenta',\n 'cuantos',\n 'cuentos',\n 'cuentas',\n 'por',\n 'que',\n 'si',\n 'no',\n 'cuentas',\n 'cuantos',\n 'cuentos',\n 'cuentas',\n 'nunca',\n 'sabrás',\n 'cuantos',\n 'cuentos',\n 'sabes',\n 'contar']"
          },
          "metadata": {}
        }
      ]
    },
    {
      "metadata": {},
      "cell_type": "markdown",
      "source": "El módulo `re` incluye una función específica para separar un texto, `re.split()`,  que es la versión potente del método `split()` que incorporan las cadenas de caracteres.\n\nSiguiendo con el ejemplo anterior, si utilizamos la función `re.split()` tenemos que definir un expresión regular que indique cuales son los separadores. Aquí acude a nuestra ayuda el símbolo especial `\\s` que nos permite hacer referencia a cualquier caracter que suele actuar como separador (ej. espacio en blanco, retornos de carro, saltos de línea...)"
    },
    {
      "metadata": {
        "trusted": true
      },
      "cell_type": "code",
      "source": "trabalenguas = \"\"\"Cuando cuentes cuentos cuenta cuantos cuentos cuentas por que,\nsi no cuentas cuantos cuentos cuentas, nunca sabrás cuantos cuentos sabes contar.\"\"\"\n\nre.split(r\"\\s\", trabalenguas)",
      "execution_count": 7,
      "outputs": [
        {
          "output_type": "execute_result",
          "execution_count": 7,
          "data": {
            "text/plain": "['Cuando',\n 'cuentes',\n 'cuentos',\n 'cuenta',\n 'cuantos',\n 'cuentos',\n 'cuentas',\n 'por',\n 'que,',\n 'si',\n 'no',\n 'cuentas',\n 'cuantos',\n 'cuentos',\n 'cuentas,',\n 'nunca',\n 'sabrás',\n 'cuantos',\n 'cuentos',\n 'sabes',\n 'contar.']"
          },
          "metadata": {}
        }
      ]
    },
    {
      "metadata": {},
      "cell_type": "markdown",
      "source": "Si te fijas la expresión anterior no hemos incluido el símbolo `+` después de `\\s`."
    },
    {
      "metadata": {},
      "cell_type": "markdown",
      "source": "**Prueba tú mismo**. Modifica el trabalenguas anterior e incluye más de un espacio para separar algunas de las palabras. Prueba a ejecutar `re.split()` con `\\s`, y con `\\s+` ¿cual es la diferencia? ¿por qué?"
    },
    {
      "metadata": {},
      "cell_type": "markdown",
      "source": "Una diferencia aparente pequeña pero importante entre `re.findall(\\w+)` y `re.split(\\s+)` es que este segundo incluye los símbolos de puntuación como parte de las palabras, como es de `que,`, y `contar.` en el ejemplo anterior. Recordar que `\\w+` empareja letras y dígitos, y el caracter `_` con lo que cualquier símbolo de puntuación queda excluido. Mientras que `\\s+` divide únicamente por los símbolos de separación universales que comentabamos más arriba. Esta diferencia se hace más evidente si incluimos más símbolos de puntuación. "
    },
    {
      "metadata": {},
      "cell_type": "markdown",
      "source": "**Prueba tú mismo**. Las dos operaciones `re.findall(\\w+)` y `re.split(\\s+)` con el siguiente trabalenguas `\"Pablito clavó un clavito. ¿Qué clavito clavó Pablito?\"`"
    },
    {
      "metadata": {},
      "cell_type": "markdown",
      "source": "Podemos jugar también con la expresión contraria a `\\s` que es `\\S`, la cual reconoce cualquier caracter que **no** sea un separador."
    },
    {
      "metadata": {},
      "cell_type": "markdown",
      "source": "**Prueba tú mismo**. A utilizar de nuevo `re.findall()` con `\\S+` para separar las palabras del trabalenguas ¿qué diferencia hay con `\\w+`? ¿y con `\\s+` utilizando `re.split()`? ¿y con `\\W+` utilizando `re.split()`?"
    },
    {
      "metadata": {},
      "cell_type": "markdown",
      "source": "## Ejercicios"
    },
    {
      "metadata": {},
      "cell_type": "markdown",
      "source": "**1. Ejercicio** Dada el siguiente texto:\n\n```\nLos signos de puntuación delimitan las frases y los párrafos, establecen la jerarquía sintáctica de las proposiciones para conseguir estructurar al texto, ordenan las ideas y las jerarquizan en principales y secundarias. La puntuación varía según el estilo de escritura; sin embargo, las diferencias de estilo que se puedan presentar no eximen a nadie los signos con ciertas normas mínimas y de evitar errores generalmente considerados como inaceptables. De ahí la importancia de conocer y aplicar las normas básicas de la puntuación. \n```\n\ndividirlo en oraciones considerando el `;` también como un separador."
    },
    {
      "metadata": {
        "trusted": true
      },
      "cell_type": "code",
      "source": "s = \"\"\"Los signos de puntuación delimitan las frases y los párrafos, establecen la jerarquía sintáctica de las proposiciones para conseguir estructurar al texto, ordenan las ideas y las jerarquizan en principales y secundarias. La puntuación varía según el estilo de escritura; sin embargo, las diferencias de estilo que se puedan presentar no eximen a nadie los signos con ciertas normas mínimas y de evitar errores generalmente considerados como inaceptables. De ahí la importancia de conocer y aplicar las normas básicas de la puntuación.\"\"\"\n\nre.split(r\"[.;]\", s)",
      "execution_count": 20,
      "outputs": [
        {
          "output_type": "execute_result",
          "execution_count": 20,
          "data": {
            "text/plain": "['Los signos de puntuación delimitan las frases y los párrafos, establecen la jerarquía sintáctica de las proposiciones para conseguir estructurar al texto, ordenan las ideas y las jerarquizan en principales y secundarias',\n ' La puntuación varía según el estilo de escritura',\n ' sin embargo, las diferencias de estilo que se puedan presentar no eximen a nadie los signos con ciertas normas mínimas y de evitar errores generalmente considerados como inaceptables',\n ' De ahí la importancia de conocer y aplicar las normas básicas de la puntuación',\n '']"
          },
          "metadata": {}
        }
      ]
    },
    {
      "metadata": {
        "trusted": true
      },
      "cell_type": "code",
      "source": "",
      "execution_count": null,
      "outputs": []
    }
  ],
  "metadata": {
    "kernelspec": {
      "name": "python36",
      "display_name": "Python 3.6",
      "language": "python"
    },
    "language_info": {
      "mimetype": "text/x-python",
      "nbconvert_exporter": "python",
      "name": "python",
      "pygments_lexer": "ipython3",
      "version": "3.6.6",
      "file_extension": ".py",
      "codemirror_mode": {
        "version": 3,
        "name": "ipython"
      }
    }
  },
  "nbformat": 4,
  "nbformat_minor": 2
}