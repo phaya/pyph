{
  "cells": [
    {
      "metadata": {
        "collapsed": true
      },
      "cell_type": "markdown",
      "source": "# Rangos\n\n[Pablo A. Haya](https://pablohaya.com)"
    },
    {
      "metadata": {},
      "cell_type": "markdown",
      "source": "Veíamos en el tema anterior que una ignorar las mayúsculas y minúsculas es mediante el parámetro `re.IGNORECASE`. Otra forma es emplear el operador `[]` que permite indicar varias alternativas. "
    },
    {
      "metadata": {
        "trusted": true
      },
      "cell_type": "code",
      "source": "import re\n\nre.findall(r\"[Tt]res tristes\", \"Tres tristes tigres tragaban trigo en un trigal en tres tristes trastos\")",
      "execution_count": 1,
      "outputs": [
        {
          "output_type": "execute_result",
          "execution_count": 1,
          "data": {
            "text/plain": "['Tres tristes', 'tres tristes']"
          },
          "metadata": {}
        }
      ]
    },
    {
      "metadata": {},
      "cell_type": "markdown",
      "source": "`[Tt]`indica que bien empieza por `T` bien por `t`. "
    },
    {
      "metadata": {},
      "cell_type": "markdown",
      "source": "**Prueba tú mismo**. A comprobar de nuevo cuantas veces aparece la letra `t` incluyendo la `T` mayúscula  con este operador."
    },
    {
      "metadata": {},
      "cell_type": "markdown",
      "source": "Este operador permite incluir todas las alternativas que quieran. Por ejemplo, podemos buscar todas las vocales."
    },
    {
      "metadata": {
        "trusted": true
      },
      "cell_type": "code",
      "source": "re.findall(r\"[aeiou]\", \"Tres tristes tigres tragaban trigo en un trigal en tres tristes trastos\")",
      "execution_count": 2,
      "outputs": [
        {
          "output_type": "execute_result",
          "execution_count": 2,
          "data": {
            "text/plain": "['e',\n 'i',\n 'e',\n 'i',\n 'e',\n 'a',\n 'a',\n 'a',\n 'i',\n 'o',\n 'e',\n 'u',\n 'i',\n 'a',\n 'e',\n 'e',\n 'i',\n 'e',\n 'a',\n 'o']"
          },
          "metadata": {}
        }
      ]
    },
    {
      "metadata": {},
      "cell_type": "markdown",
      "source": "Cuando los caracteres son consecutivos podemos evitar listarlos individualmente definiendo un rango. Por ejemplo, encontrar cuantas letras minúsculas tiene el trabalenguas sería tan sencillo como: "
    },
    {
      "metadata": {
        "trusted": true
      },
      "cell_type": "code",
      "source": "len(re.findall(r\"[a-z]\", \"Tres tristes tigres tragaban trigo en un trigal en tres tristes trastos\"))",
      "execution_count": 3,
      "outputs": [
        {
          "output_type": "execute_result",
          "execution_count": 3,
          "data": {
            "text/plain": "59"
          },
          "metadata": {}
        }
      ]
    },
    {
      "metadata": {},
      "cell_type": "markdown",
      "source": "En este caso `[a-z]` es una notación más compacta, y equivalente a `[abcdefghijklmnopqrstuvwxyz]`. \n\nVamos a comprobar que realmente lo está haciendo bien. La longitud del texto tiene que ser igual al número de minúsculas, más el número de mayúsculas, más el número de espacios."
    },
    {
      "metadata": {
        "trusted": true
      },
      "cell_type": "code",
      "source": "trabalenguas = \"Tres tristes tigres tragaban trigo en un trigal en tres tristes trastos\"\ntext_len = len(trabalenguas)\nminus_len = len(re.findall(r\"[a-z]\", trabalenguas))\nmayus_len = len(re.findall(r\"[A-Z]\", trabalenguas))\nesp_len = len(re.findall(r\" \", trabalenguas))\nprint(text_len, minus_len + mayus_len + esp_len)",
      "execution_count": 4,
      "outputs": [
        {
          "output_type": "stream",
          "text": "71 71\n",
          "name": "stdout"
        }
      ]
    },
    {
      "metadata": {},
      "cell_type": "markdown",
      "source": "Si queremos encontrar todas las letras podríamos estar tentados a utilizar el rango `[A-z]`."
    },
    {
      "metadata": {
        "trusted": true
      },
      "cell_type": "code",
      "source": "minus_mayus_len = len(re.findall(r\"[A-z]\", trabalenguas))\nprint(text_len, minus_mayus_len + esp_len)",
      "execution_count": 5,
      "outputs": [
        {
          "output_type": "stream",
          "text": "71 71\n",
          "name": "stdout"
        }
      ]
    },
    {
      "metadata": {},
      "cell_type": "markdown",
      "source": "En este caso funciona, pero en otras situaciones nos puede dar comportamientos inesperados. En el siguiente ejemplo, hemos sustituido los espacios por el caracter `_`."
    },
    {
      "metadata": {
        "trusted": true
      },
      "cell_type": "code",
      "source": "trabalenguas = \"Tres tristes tigres tragaban trigo en un trigal en tres tristes trastos\"\ntrabalenguas = trabalenguas.replace(\" \", \"_\")\ntext_len = len(trabalenguas)\nminus_mayus_len = len(re.findall(r\"[A-z]\", trabalenguas))\nsubr_len = len(re.findall(\"_\", trabalenguas))\nprint(text_len, minus_mayus_len + subr_len)",
      "execution_count": 6,
      "outputs": [
        {
          "output_type": "stream",
          "text": "71 82\n",
          "name": "stdout"
        }
      ]
    },
    {
      "metadata": {},
      "cell_type": "markdown",
      "source": "Ahora, el resultado difere ya que lo que está ocurriendo es que el caracter `_` pertenece también al rango `A-z`, de manera que estos caracteres se cuentan dos veces. Esto lo podemos comprobar en las tablas de [caracteres unicode](https://en.wikipedia.org/wiki/List_of_Unicode_characters#Basic_Latin), o mediante el siguiente código que imprime todos los caracteres entre `A` y `z`."
    },
    {
      "metadata": {
        "trusted": true
      },
      "cell_type": "code",
      "source": "for i in range(ord('A'), ord('z') + 1):\n    print(chr(i), end=\"\")",
      "execution_count": 7,
      "outputs": [
        {
          "output_type": "stream",
          "text": "ABCDEFGHIJKLMNOPQRSTUVWXYZ[\\]^_`abcdefghijklmnopqrstuvwxyz",
          "name": "stdout"
        }
      ]
    },
    {
      "metadata": {},
      "cell_type": "markdown",
      "source": "Se observa claramente que las letras mayúsculas y minúsculas no están consecutivas, sino que hay una serie de caracteres entre medias. \n\nSi queremos dejar únicamente las letras, el rango sería `[A-Za-z]`:"
    },
    {
      "metadata": {
        "trusted": true
      },
      "cell_type": "code",
      "source": "minus_mayus_len = len(re.findall(r\"[A-Za-z]\", trabalenguas))\nprint(text_len, minus_mayus_len + esp_len)",
      "execution_count": null,
      "outputs": []
    },
    {
      "metadata": {},
      "cell_type": "markdown",
      "source": "La expresión anterior es equivalente a `[ABCDEFGHIJKLMNOPQRSTUVWXYZabcdefghijklmnopqrstuvwxyz]`"
    },
    {
      "metadata": {},
      "cell_type": "markdown",
      "source": "**Prueba tú mismo**. A comprobar la diferencia entre los rangos `[A-Za-z]`, y `[A-Z][a-z]`"
    },
    {
      "metadata": {},
      "cell_type": "markdown",
      "source": "Con los dígitos podemos también emplear el rango `[0-9]` como una notación más compacta, y equivalente a `[0123456789]`. "
    },
    {
      "metadata": {},
      "cell_type": "markdown",
      "source": "**Prueba tú mismo**. Sustituye en el trabalenguas la palabra `tres` (tanto en mayúsculas como en minúsculas) por el número `3`, incluye el rango correspondiente para que encuentre todos los dígitos que hay en el mismo."
    },
    {
      "metadata": {},
      "cell_type": "markdown",
      "source": "Para aquellos rangos, como `[0-9]`, que se emplean muy habiltualmente, se dispone de unas símbolos especiales que actúan como un atajo. En este caso, el rango anterior se puede sustituir por `\\d`. "
    },
    {
      "metadata": {
        "trusted": true
      },
      "cell_type": "code",
      "source": "len(re.findall(r\"\\d\", \"3 tristes tigres tragaban trigo en un trigal en 3 tristes trastos\"))",
      "execution_count": null,
      "outputs": []
    },
    {
      "metadata": {},
      "cell_type": "markdown",
      "source": "Un símbolo equivalente, pero mucho más potente, es `\\w`, que incluye todas las letras, **independientemente del idioma**, los dígitos, y el caracter `_`. Esto nos quita mucho quebraderos de cabeza para encontrar todas las letras del alfabeto latino, aunque nos incluya los números y el caracter `_`"
    },
    {
      "metadata": {
        "trusted": true
      },
      "cell_type": "code",
      "source": "print(re.findall(r\"\\w\", \"Pablito clavó un clavito. ¿Qué clavito clavó Pablito?\"))",
      "execution_count": 9,
      "outputs": [
        {
          "output_type": "stream",
          "text": "['P', 'a', 'b', 'l', 'i', 't', 'o', 'c', 'l', 'a', 'v', 'ó', 'u', 'n', 'c', 'l', 'a', 'v', 'i', 't', 'o', 'Q', 'u', 'é', 'c', 'l', 'a', 'v', 'i', 't', 'o', 'c', 'l', 'a', 'v', 'ó', 'P', 'a', 'b', 'l', 'i', 't', 'o']\n",
          "name": "stdout"
        }
      ]
    },
    {
      "metadata": {},
      "cell_type": "markdown",
      "source": "mientras que:"
    },
    {
      "metadata": {
        "trusted": true
      },
      "cell_type": "code",
      "source": "print(re.findall(r\"[A-Za-z]\", \"Pablito clavó un clavito. ¿Qué clavito clavó Pablito?\"))",
      "execution_count": 10,
      "outputs": [
        {
          "output_type": "stream",
          "text": "['P', 'a', 'b', 'l', 'i', 't', 'o', 'c', 'l', 'a', 'v', 'u', 'n', 'c', 'l', 'a', 'v', 'i', 't', 'o', 'Q', 'u', 'c', 'l', 'a', 'v', 'i', 't', 'o', 'c', 'l', 'a', 'v', 'P', 'a', 'b', 'l', 'i', 't', 'o']\n",
          "name": "stdout"
        }
      ]
    },
    {
      "metadata": {},
      "cell_type": "markdown",
      "source": "nos deja fuera las vocales acentuadas."
    },
    {
      "metadata": {},
      "cell_type": "markdown",
      "source": "La expresión `\\W` sería la inversa a `\\w`, es decir, encontrar todos los caracteres que no sean letras, números o el caracter `_`. "
    },
    {
      "metadata": {
        "trusted": true
      },
      "cell_type": "code",
      "source": "print(re.findall(r\"\\W\", \"Pablito clavó un clavito. ¿Qué clavito clavó Pablito?\"))",
      "execution_count": null,
      "outputs": []
    },
    {
      "metadata": {},
      "cell_type": "markdown",
      "source": "Es posible también indicar que caracteres queremos excluir empleando `^`. El siguiente ejemplo imprime cualquier caracter que no sea mayúscula."
    },
    {
      "metadata": {
        "trusted": true
      },
      "cell_type": "code",
      "source": "print(re.findall(r\"[^A-Z]\", \"Pablito clavó un clavito. ¿Qué clavito clavó Pablito?\"))",
      "execution_count": 16,
      "outputs": [
        {
          "output_type": "stream",
          "text": "['a', 'b', 'l', 'i', 't', 'o', ' ', 'c', 'l', 'a', 'v', 'ó', ' ', 'u', 'n', ' ', 'c', 'l', 'a', 'v', 'i', 't', 'o', '.', ' ', '¿', 'u', 'é', ' ', 'c', 'l', 'a', 'v', 'i', 't', 'o', ' ', 'c', 'l', 'a', 'v', 'ó', ' ', 'a', 'b', 'l', 'i', 't', 'o', '?']\n",
          "name": "stdout"
        }
      ]
    },
    {
      "metadata": {},
      "cell_type": "markdown",
      "source": "**Prueba tú mismo**. Imprime la lista de todos los caracteres que nos sean minúsculas."
    },
    {
      "metadata": {},
      "cell_type": "markdown",
      "source": "Si queremos evitar intepretar el caracter `^`, y tratarlo como un caracter más tendremos que indicarlo precediendo del caracter `\\`"
    },
    {
      "metadata": {
        "trusted": true
      },
      "cell_type": "code",
      "source": "re.findall(r\".\\^¿\", \"Pablito clavó un clavito.^¿Qué clavito clavó Pablito?\")",
      "execution_count": 20,
      "outputs": [
        {
          "output_type": "execute_result",
          "execution_count": 20,
          "data": {
            "text/plain": "['.^¿']"
          },
          "metadata": {}
        }
      ]
    },
    {
      "metadata": {},
      "cell_type": "markdown",
      "source": "## Ejercicios"
    },
    {
      "metadata": {},
      "cell_type": "markdown",
      "source": "**1. Ejercicio** Dado el siguiente texto:\n\n> Beatriz Galindo, llamada la Latina (Salamanca, c. 1465-Madrid, 23 de noviembre de 1535), fue una escritora y humanista española, maestra de latín y gramática de la reina Isabel la Católica y preceptora de sus hijos.\n\nencontrar todas las letras mayúsculas que se emplean."
    },
    {
      "metadata": {
        "trusted": true
      },
      "cell_type": "code",
      "source": "import re\ntexto = \"Beatriz Galindo, llamada la Latina (Salamanca, c. 1465-Madrid, 23 de noviembre de 1535), fue una escritora y humanista española, maestra de latín y gramática de la reina Isabel la Católica y preceptora de sus hijos.\"\nprint(re.findall(r\"[A-Z]\", texto))",
      "execution_count": null,
      "outputs": []
    },
    {
      "metadata": {},
      "cell_type": "markdown",
      "source": "**2. Ejercicio** Siguiendo con el texto anterior, encontrar todas las letras minúsculas."
    },
    {
      "metadata": {
        "trusted": true
      },
      "cell_type": "code",
      "source": "print(3)",
      "execution_count": null,
      "outputs": []
    },
    {
      "metadata": {
        "trusted": true
      },
      "cell_type": "code",
      "source": "",
      "execution_count": null,
      "outputs": []
    },
    {
      "metadata": {},
      "cell_type": "markdown",
      "source": "**3. Ejercicio** Siguiendo con el texto anterior, encontrar todas las cifras que se mencionan."
    },
    {
      "metadata": {},
      "cell_type": "markdown",
      "source": "**4. Ejercicio** Siguiendo con el texto anterior, encontrar todas los letras mayúsculas y minúsculas, más los cifras que lo componen. Pista: el total son 171."
    },
    {
      "metadata": {},
      "cell_type": "markdown",
      "source": "**5. Ejercicio** Siguiendo con el texto anterior, encontrar todas los números de cuatro cifras que se mencionan."
    }
  ],
  "metadata": {
    "kernelspec": {
      "name": "python36",
      "display_name": "Python 3.6",
      "language": "python"
    },
    "language_info": {
      "mimetype": "text/x-python",
      "nbconvert_exporter": "python",
      "name": "python",
      "pygments_lexer": "ipython3",
      "version": "3.6.6",
      "file_extension": ".py",
      "codemirror_mode": {
        "version": 3,
        "name": "ipython"
      }
    }
  },
  "nbformat": 4,
  "nbformat_minor": 2
}