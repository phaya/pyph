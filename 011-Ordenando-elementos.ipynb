{
 "cells": [
  {
   "cell_type": "markdown",
   "metadata": {},
   "source": [
    "# Ordenando elementos\n",
    "\n",
    "[Pablo A. Haya](https://pablohaya.com)"
   ]
  },
  {
   "cell_type": "markdown",
   "metadata": {},
   "source": [
    "Hay que tener en cuenta que en los diccionarios no hay orden definido, lo cual se puede comprobar al imprimir los elementos del mismo."
   ]
  },
  {
   "cell_type": "code",
   "execution_count": null,
   "metadata": {},
   "outputs": [],
   "source": [
    "poetas = {\"Rubén Darío\":1867, \"Antonio Machado\": 1875, \n",
    "          \"Gabriela Mistral\":1889, \"Juan Ramón Jiménez\":1881}\n",
    "\n",
    "for k,v in poetas.items():    \n",
    "    print(k, v)"
   ]
  },
  {
   "cell_type": "markdown",
   "metadata": {},
   "source": [
    "Es posible imprimir en orden según las claves, o los valores, pero primeramente tenemos que entender que devuelve el método `items()`."
   ]
  },
  {
   "cell_type": "code",
   "execution_count": null,
   "metadata": {},
   "outputs": [],
   "source": [
    "poetas.items()"
   ]
  },
  {
   "cell_type": "markdown",
   "metadata": {},
   "source": [
    "Lo que tenemos es una lista de tuplas, donde cada tupla se compone de dos elementos, la clave y el valor correspondiente. Una lista si que es una estructura de datos ordenable, y para ello empleamos la función `sorted()`."
   ]
  },
  {
   "cell_type": "code",
   "execution_count": null,
   "metadata": {},
   "outputs": [],
   "source": [
    "sorted(poetas.items())"
   ]
  },
  {
   "cell_type": "markdown",
   "metadata": {},
   "source": [
    "Como vemos la lista se ordena a partir de las claves alfabéticamente. Podemos emplear el bucle que hemos visto anteriormente para imprimir los elementos en líneas separadas. "
   ]
  },
  {
   "cell_type": "code",
   "execution_count": null,
   "metadata": {},
   "outputs": [],
   "source": [
    "for k,v in sorted(poetas.items()):\n",
    "    print(k, v)"
   ]
  },
  {
   "cell_type": "markdown",
   "metadata": {},
   "source": [
    "La función `sorted()` admite distintos argumentos. Si queremos la lista ordenada de mayor a menor incluimos el parámetro `reverse`, que por defecto es `False`."
   ]
  },
  {
   "cell_type": "code",
   "execution_count": null,
   "metadata": {},
   "outputs": [],
   "source": [
    "for k,v in sorted(poetas.items(), reverse=True):\n",
    "    print(k, v)"
   ]
  },
  {
   "cell_type": "markdown",
   "metadata": {},
   "source": [
    "Y si necesitamos ordenar por los valores lo indicamos con el parámetro `key`."
   ]
  },
  {
   "cell_type": "code",
   "execution_count": null,
   "metadata": {},
   "outputs": [],
   "source": [
    "for k,v in sorted(poetas.items(), key=lambda x: x[1]):    \n",
    "    print(k,v)"
   ]
  },
  {
   "cell_type": "markdown",
   "metadata": {},
   "source": [
    "La sintaxis del parámetro `key` es un tanto esotérica pero basicamente lo que se indica con `x[1]` es que se ordena por el segundo elemento de la tupla. Si la tupla tuviera más elementos se puede cambiar el índice para ordenar por el que se quiera. Por defecto, el valor de `key` es `lambda x: x[0]`, de manera que se ordena siempre por el primero que corresponde a las claves del diccionario."
   ]
  },
  {
   "cell_type": "markdown",
   "metadata": {},
   "source": [
    "**Prueba tú mismo** Prueba a combinar ambos parámetros para imprimir los elementos ordenados según los valores en orden inverso."
   ]
  },
  {
   "cell_type": "markdown",
   "metadata": {},
   "source": [
    "## Ejercicios"
   ]
  },
  {
   "cell_type": "markdown",
   "metadata": {},
   "source": [
    "**1. Ejercicio** Dado el siguiente poema:\n",
    "\n",
    "```\n",
    "En la realidad no hay adjetivos\n",
    "ni conjunciones ni preposiciones\n",
    "¿quién ha visto jamás una Y\n",
    "fuera de la Gramática de Bello?\n",
    "en la realidad hay solo acciones y cosas\n",
    "un hombre bailando con una mujer\n",
    "una mujer amamantando a su nene\n",
    "un funeral - un árbol - una vaca\n",
    "la interjección la pone el sujeto\n",
    "el adverbio lo pone el profesor\n",
    "y el verbo ser es una alucinación del\n",
    "filósofo.\n",
    "```\n",
    "\n",
    "Se ha realizado el análisis morfosintáctico del mismo, y se ha almacena en la siguiente variable:\n",
    "\n",
    "```\n",
    "poema_pos = [\n",
    "    [(\"En\",\"EN\",\"PREP\"),\n",
    "    (\"la\",\"EL\",\"ART\"),\n",
    "    (\"realidad\",\"REALIDAD\",\"N\"),\n",
    "    (\"no\",\"NO\",\"ADV\"),\n",
    "    (\"hay\",\"HABER\",\"V\"),\n",
    "    (\"adjetivos\",\"ADJETIVO\",\"N\")],\n",
    "    [(\"ni\",\"NI\",\"C\"),\n",
    "    (\"conjunciones\",\"CONJUNCIÓN\",\"N\"),\n",
    "    (\"ni\",\"NI\",\"C\"),\n",
    "    (\"preposiciones\",\"PREPOSICIÓN\",\"N\")],\n",
    "    [(\"¿\",\"¿\",\"PUNCT\"),\n",
    "    (\"quién\",\"QUIÉN\",\"P\"),\n",
    "    (\"ha\",\"HABER\",\"AUX\"),\n",
    "    (\"visto\",\"VER\",\"V\"),\n",
    "    (\"jamás\",\"JAMÁS\",\"ADV\"),\n",
    "    (\"una\",\"UNIR\",\"V\"),\n",
    "    (\"Y\",\"Y\",\"NPR\")],\n",
    "    [(\"fuera de\",\"FUERA DE\",\"PREP\"),\n",
    "    (\"la\",\"EL\",\"ART\"),\n",
    "    (\"Gramática de Bello\",\"GRAMÁTICA DE BELLO\",\"NPR\"),\n",
    "    (\"?\",\"?\",\"PUNCT\")],\n",
    "    [(\"en\",\"EN\",\"PREP\"),\n",
    "    (\"la\",\"EL\",\"ART\"),\n",
    "    (\"realidad\",\"REALIDAD\",\"N\"),\n",
    "    (\"hay\",\"HABER\",\"V\"),\n",
    "    (\"solo\",\"SOLO\",\"ADJ\"),\n",
    "    (\"acciones\",\"ACCIÓN\",\"N\"),\n",
    "    (\"y\",\"Y\",\"C\"),\n",
    "    (\"cosas\",\"COSA\",\"N\")],\n",
    "    [(\"un\",\"UN\",\"Q\"),\n",
    "    (\"hombre\",\"HOMBRE\",\"MD\"),\n",
    "    (\"bailando\",\"BAILAR\",\"V\"),\n",
    "    (\"con\",\"CON\",\"PREP\"),\n",
    "    (\"una\",\"UN\",\"Q\"),\n",
    "    (\"mujer\",\"MUJER\",\"N\")],\n",
    "    [(\"una\",\"UN\",\"Q\"),\n",
    "    (\"mujer\",\"MUJER\",\"N\"),\n",
    "    (\"amamantando\",\"AMAMANTAR\",\"V\"),\n",
    "    (\"a\",\"A\",\"PREP\"),\n",
    "    (\"su\",\"SU\",\"POSS\"),\n",
    "    (\"nene\",\"NENE\",\"N\")],\n",
    "    [(\"un\",\"UN\",\"Q\"),\n",
    "    (\"funeral\",\"FUNERAL\",\"ADJ\"),\n",
    "    (\"-\",\"-\",\"PUNCT\"),\n",
    "    (\"un\",\"UN\",\"Q\"),\n",
    "    (\"árbol\",\"ÁRBOL\",\"N\"),\n",
    "    (\"-\",\"-\",\"PUNCT\"),\n",
    "    (\"una\",\"UN\",\"Q\"),\n",
    "    (\"vaca\",\"VACA\",\"N\")],\n",
    "    [(\"la\",\"EL\",\"ART\"),\n",
    "    (\"interjección\",\"INTERJECCIÓN\",\"N\"),\n",
    "    (\"la\",\"LO\",\"P\"),\n",
    "    (\"pone\",\"PONER\",\"V\"),\n",
    "    (\"el\",\"EL\",\"ART\"),\n",
    "    (\"sujeto\",\"SUJERO\",\"N\")],\n",
    "    [(\"el\",\"EL\",\"ART\"),\n",
    "    (\"adverbio\",\"ADVERBIO\",\"N\"),\n",
    "    (\"lo\",\"LO\",\"P\"),\n",
    "    (\"pone\",\"PONER\",\"V\"),\n",
    "    (\"el\",\"EL\",\"ART\"),\n",
    "    (\"profesor\",\"PROFESOR\",\"N\")],\n",
    "    [(\"y\",\"Y\",\"C\"),\n",
    "    (\"el\",\"EL\",\"ART\"),\n",
    "    (\"verbo\",\"VERBO\",\"N\"),\n",
    "    (\"ser\",\"SER\",\"AUX\"),\n",
    "    (\"es\",\"SER\",\"V\"),\n",
    "    (\"una\",\"UN\",\"Q\"),\n",
    "    (\"alucinación\",\"ALUCINACIÓN\",\"N\"),\n",
    "    (\"de\",\"DE\",\"PREP\"),\n",
    "    (\"el\",\"EL\",\"ART\")],\n",
    "    [(\"filósofo\",\"FILÓSOFO\",\"N\")]\n",
    "]\n",
    "```\n",
    "\n",
    "en el que cada palabra se representa por una tupla que contiene el término, el lema, y la categoría gramatical.\n",
    "\n",
    "Imprimir en orden descendente una gráfica de barras utilizando el caracter `*` para representa barras horizontales.\n",
    "\n",
    "La salida debe ser:\n",
    "\n",
    "```\n",
    "******************* N 19\n",
    "********* V 9\n",
    "********* ART 9\n",
    "******* Q 7\n",
    "****** PREP 6\n",
    "**** PUNCT 4\n",
    "**** C 4\n",
    "*** P 3\n",
    "** AUX 2\n",
    "** NPR 2\n",
    "** ADV 2\n",
    "** ADJ 2\n",
    "* POSS 1\n",
    "* MD 1\n",
    "```"
   ]
  }
 ],
 "metadata": {
  "kernelspec": {
   "display_name": "Python 3",
   "language": "python",
   "name": "python3"
  },
  "language_info": {
   "codemirror_mode": {
    "name": "ipython",
    "version": 3
   },
   "file_extension": ".py",
   "mimetype": "text/x-python",
   "name": "python",
   "nbconvert_exporter": "python",
   "pygments_lexer": "ipython3",
   "version": "3.6.1"
  }
 },
 "nbformat": 4,
 "nbformat_minor": 2
}
