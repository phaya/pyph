{
 "cells": [
  {
   "cell_type": "markdown",
   "metadata": {},
   "source": [
    "# Bucles\n",
    "\n",
    "[Pablo A. Haya](https://pablohaya.com)"
   ]
  },
  {
   "cell_type": "markdown",
   "metadata": {},
   "source": [
    "Con las listas hemos descubierto que podemos guardar en una única variable múltiple datos, y también hemos visto diferentes formas de acceder a los diferentes elementos que componen la lista. Con lo que ya sabemos, podemos definir la siguiente lista con los versos de un famoso soneto de Quevedo."
   ]
  },
  {
   "cell_type": "code",
   "execution_count": null,
   "metadata": {
    "collapsed": true
   },
   "outputs": [],
   "source": [
    "soneto = [\"Retirado en la paz de estos desiertos,\", \n",
    "          \"con pocos, pero doctos libros juntos,\",\n",
    "          \"vivo en conversación con los difuntos,\",\n",
    "          \"y escucho con mis ojos a los muertos.\",\n",
    "          \"Si no siempre entendidos, siempre abiertos,\",\n",
    "          \"o enmiendan, o fecundan mis asuntos;\",\n",
    "          \"y en músicos callados contrapuntos\",\n",
    "          \"al sueño de la vida hablan despiertos.\",\n",
    "          \"Las grandes almas que la muerte ausenta,\",\n",
    "          \"de injurias de los años, vengadora,\",\n",
    "          \"libra, ¡oh gran don Joseph!, docta la imprenta.\",\n",
    "          \"En fuga irrevocable huye la hora;\",\n",
    "          \"pero aquélla el mejor cálculo cuenta,\",\n",
    "          \"que en la lección y estudios nos mejora.\"]"
   ]
  },
  {
   "cell_type": "markdown",
   "metadata": {},
   "source": [
    "Si quisieramos imprimir cada uno de los versos se nos puede ocurrir la siguiente instrucción:"
   ]
  },
  {
   "cell_type": "code",
   "execution_count": null,
   "metadata": {},
   "outputs": [],
   "source": [
    "print(soneto)"
   ]
  },
  {
   "cell_type": "markdown",
   "metadata": {},
   "source": [
    "pero el resultado no es el esperado. Aunque podemos ver el contenido de la lista, y reconocemos cada uno de los versos, no se imprimen un verso por línea, y con los acentos correctos. \n",
    "\n",
    "Podríamos imprimir verso a verso accediendo a cada uno de los elementos como veíamos anteriormente."
   ]
  },
  {
   "cell_type": "code",
   "execution_count": null,
   "metadata": {},
   "outputs": [],
   "source": [
    "print(soneto[0])\n",
    "print(soneto[1])\n",
    "print(soneto[2])\n",
    "print(soneto[3])"
   ]
  },
  {
   "cell_type": "markdown",
   "metadata": {},
   "source": [
    "pero, aunque esto podría funcionar para lista con pocos elementos, se nos hace tedioso tener que imprimir cada elemento en una línea. Imagina de nuevo si tuvieramos que imprimir la Iliada. \n",
    "\n",
    "En este punto salen a nuestro rescate el bucle `for` que nos permite realizar la misma operación sobre cada elemento de la lista. "
   ]
  },
  {
   "cell_type": "code",
   "execution_count": null,
   "metadata": {},
   "outputs": [],
   "source": [
    "for verso in soneto:\n",
    "    print(verso)"
   ]
  },
  {
   "cell_type": "markdown",
   "metadata": {},
   "source": [
    "Veamos los componentes que tiene este tipo de bucle. En la primera línea declaramos la lista que vamos a recorrer, y declaramos también una variable auxiliar, en este caso la hemos llamado `verso` pero podemos elegir cualquier nombre, y terminamos la línea con dos puntos `:`. Esta declaración del bucle se podría leer como _Para cada verso en soneto_, o lo que sería lo mismo si pensamos en una lista genérica _Para cada elemento en la lista_.\n",
    "\n",
    "A continuación, se incluyen la operación a realizar teniendo en cuena que esta operación se realizará tantas veces como elementos tenga la lista, y que en cada iteración la variable auxiliar que hemos definido tomará un valor distinto. Así, el código anterior es equivalente a escribir catorce veces `print()` cada una con su `verso[0]`, `verso[1]`...`verso[13]` correspondiente.\n",
    "\n",
    "Se pueden incluir más de operación dentro de la declaración del bucle. Importantísimo, cada instrucción que queramos que se repita tendrá que ir sangrada hacia la derecha indicando de esta manera que es una operación que pertenece al bucle. Se suele incluir una sangría de cuatro espacios.\n"
   ]
  },
  {
   "cell_type": "code",
   "execution_count": null,
   "metadata": {},
   "outputs": [],
   "source": [
    "for verso in soneto:\n",
    "    long_verso = len(verso)\n",
    "    print(long_verso, verso)"
   ]
  },
  {
   "cell_type": "markdown",
   "metadata": {},
   "source": [
    "**Prueba tú mismo**. Imprime, junto con la longitud del verso y el propio verso, un número entero al azar desde 1 hasta la longitud del verso."
   ]
  },
  {
   "cell_type": "markdown",
   "metadata": {},
   "source": [
    "**Prueba tú mismo**. Ejecuta el siguiente código:\n",
    "\n",
    "```\n",
    "for verso in soneto:\n",
    "    long_verso = len(verso)\n",
    "print(long_verso, verso)\n",
    "```\n",
    "\n",
    "y explica porqué solo se imprime el último verso, y su longitud"
   ]
  },
  {
   "cell_type": "markdown",
   "metadata": {},
   "source": [
    "Como la declaración del bucle lo que necesita es una lista, podemos emplear la operación de _slicing_ que hemos visto anterior para iterar sobre un trozo de la lista en vez de sobre la lista completa. Por ejemplo, si queremos imprimir los cuatro primeros versos del soneto nos valdría el siguiente código:"
   ]
  },
  {
   "cell_type": "code",
   "execution_count": null,
   "metadata": {},
   "outputs": [],
   "source": [
    "for verso in soneto[:4]:\n",
    "    print(verso)"
   ]
  },
  {
   "cell_type": "markdown",
   "metadata": {},
   "source": [
    "**Prueba tú mismo**. Imprime los versos desde el que comienza con _Si no siempre_ hasta el que termina con _hablan despiertos_ inclusives."
   ]
  },
  {
   "cell_type": "markdown",
   "metadata": {},
   "source": [
    "Puede que queramos repetir una serie de operaciones un número fijo de veces, en vez de tener que depender de los elementos de una lista. Un ejemplo podría ser imprimir una misma frase 20 veces. \n",
    "\n",
    "Vamos a ver una primera aproximación partiendo de una lista de veinte elementos."
   ]
  },
  {
   "cell_type": "code",
   "execution_count": null,
   "metadata": {},
   "outputs": [],
   "source": [
    "lista = [0,1,2,3,4,5,6,7,9,10,11,12,13,14,15,16,17,18,19]\n",
    "for i in lista:\n",
    "    print(i)"
   ]
  },
  {
   "cell_type": "markdown",
   "metadata": {},
   "source": [
    "No parece muy razonable crearnos una lista que tenga 20 elementos, y luego recorrerla imprimiendo cada elemento. En vez de eso, Python nos permite hacer algo más sencillo empleando la función `range()`. Esta función, en su uso más sencillo, recibe como parámetro un número, y devuelve una lista de números enteros desde el 0 hasta el número indicado, sin incluirlo."
   ]
  },
  {
   "cell_type": "code",
   "execution_count": null,
   "metadata": {},
   "outputs": [],
   "source": [
    "for i in range(20):\n",
    "    print(i)"
   ]
  },
  {
   "cell_type": "markdown",
   "metadata": {},
   "source": [
    "Así, podemos utilizar `range()` para resolver el problema que comentamos de imprimir 20 veces la misma frase."
   ]
  },
  {
   "cell_type": "code",
   "execution_count": null,
   "metadata": {},
   "outputs": [],
   "source": [
    "for i in range(20):\n",
    "    print(\"¡Democrad! !Libertacia! ¡Puebla el vivo!\")"
   ]
  },
  {
   "cell_type": "markdown",
   "metadata": {},
   "source": [
    "Aunque no hemos utilizado la variable auxiliar `i` dentro del bucle es obligatorio declararla."
   ]
  },
  {
   "cell_type": "markdown",
   "metadata": {},
   "source": [
    "**Prueba tú mismo**. Modifica ligeramente el ejemplo anterior para mostrar los valores que toma `i` añadiendo su valor como número línea."
   ]
  },
  {
   "cell_type": "markdown",
   "metadata": {},
   "source": [
    "Siguiendo con un ejemplo similar ¿cómo haríamos para poner el número de línea a cada verso del soneto anterior? Podríamos emplear la función `range()` para generar los números de línea, y acceder a distintos versos."
   ]
  },
  {
   "cell_type": "code",
   "execution_count": null,
   "metadata": {},
   "outputs": [],
   "source": [
    "for index in range(len(soneto)):\n",
    "    print(index, soneto[index])"
   ]
  },
  {
   "cell_type": "markdown",
   "metadata": {},
   "source": [
    "Afortundamente, Python dispone de la función `enumerate()` que simplifica el código anterior al poder iterar directamente sobre la lista, y obtener a la vez tanto la posición como el valor"
   ]
  },
  {
   "cell_type": "code",
   "execution_count": null,
   "metadata": {},
   "outputs": [],
   "source": [
    "for index, verso in enumerate(soneto):\n",
    "    print(index, verso)"
   ]
  },
  {
   "cell_type": "markdown",
   "metadata": {},
   "source": [
    "Por otro lado, se puede anidar los bucles de manera que para iteración del primer bucle se realizan tantas iteraciones del segundo como elementos tenga. El siguiente ejemplo ilustra como se anidan bucles."
   ]
  },
  {
   "cell_type": "code",
   "execution_count": null,
   "metadata": {},
   "outputs": [],
   "source": [
    "for i in range(5):\n",
    "    for j in range(3):\n",
    "        print(i,j)"
   ]
  },
  {
   "cell_type": "markdown",
   "metadata": {},
   "source": [
    "---\n",
    "\n",
    "**Para saber más**\n",
    "\n",
    "Una operación que puede sonar un tanto avanzado pero muy útil es **list comprehensions**, que se podría traducir por _compresiones de lista_. Esta operación permite crear una lista a partir de otra lista aplicando a cada elemento de la lista original una operación, es decir, vamos recorriendo una lista, realizamos una o varias operaciones sobre cada elemento, y el resultado lo guardamos como un elemento de una nueva lista. ¿Complicado? Veamos un ejemplo "
   ]
  },
  {
   "cell_type": "code",
   "execution_count": null,
   "metadata": {},
   "outputs": [],
   "source": [
    "[len(verso) for verso in soneto]"
   ]
  },
  {
   "cell_type": "markdown",
   "metadata": {},
   "source": [
    "Vamos a analizar la expresión anterior. Como lo que estamos creando es una nueva lista se incluyen los corchetes de apertura y cierre `[]`. Lo que hay dentro de los corchetes es un bucle expresado de manera un tanto rocambolesca. Empezando por la derecha vemos una estructuta conocida `for verso in soneto` que indica que se va a recorrer cada elemento de soneto, y se va almacenar en la variable auxilar `verso`. Finalmente, a la izquierda de la declaración, incluimos la operación a realizar, en este caso, se obtiene la longitud en caracteres de cada verso (`len(verso')).\n",
    "\n",
    "Como un poco de paciencia podríamos comprobar que los elementos de la nueva lista de número que hemos generado coinciden con el número de caracteres de cada uno de los versos del soneto de Quevedo. Así, el primer verso tiene 38 caracteres, 37 el segundo, y así sucesivamente hasta los 41 del último.\n",
    "\n",
    "La lista resultante la podemos almancenar en una nueva variable por si queremos operar con ella"
   ]
  },
  {
   "cell_type": "code",
   "execution_count": null,
   "metadata": {},
   "outputs": [],
   "source": [
    "n_caracteres = [len(verso) for verso in soneto]\n",
    "\n",
    "print(len(n_caracteres))\n",
    "print(len(n_caracteres) == len(soneto))\n",
    "print(sum(n_caracteres))"
   ]
  },
  {
   "cell_type": "markdown",
   "metadata": {},
   "source": [
    "Las tres líneas que hemos imprimido corresponde a:\n",
    "    \n",
    "1. El número de elementos que tiene la lista.\n",
    "2. El resultado de comprobar que el número elementos de la lista `n_caracteres` es el mismo que el de la lista `soneto`, el cual es verdadero (`True`) ya que ambas tienen el mismo número de elementos como no podía ser de otra manera.\n",
    "3. La suma de los elementos de la lista `n_caracteres` que nos devuelve el número de caracteres total del soneto."
   ]
  },
  {
   "cell_type": "markdown",
   "metadata": {},
   "source": [
    "Las compresiones de lista no son más que una notación sucinta de crear una lista ya que podríamos hacerlo con lo que ya sabemos hasta ahora."
   ]
  },
  {
   "cell_type": "code",
   "execution_count": null,
   "metadata": {},
   "outputs": [],
   "source": [
    "n_caracteres = []\n",
    "for verso in soneto:\n",
    "    n_caracteres = n_caracteres + [len(verso)]\n",
    "\n",
    "print(n_caracteres)"
   ]
  },
  {
   "cell_type": "markdown",
   "metadata": {},
   "source": [
    "## Ejercicios"
   ]
  },
  {
   "cell_type": "markdown",
   "metadata": {},
   "source": [
    "**1. Ejercicio** Imprimir el título y los 3 primeros versos del siguiente poema\n",
    "\n",
    "```\n",
    "poema = [\"NO VOLVERÉ A SER JOVEN\",\n",
    "         \"Que la vida iba en serio\",\n",
    "         \"uno lo empieza a comprender más tarde\",\n",
    "         \"-como todos los jóvenes, yo vine\",\n",
    "         \"a llevarme la vida por delante.\",\n",
    "         \"Dejar huella quería\",\n",
    "         \"y marcharme entre aplausos\",\n",
    "         \"-envejecer, morir, eran tan sólo\",\n",
    "         \"las dimensiones del teatro.\",\n",
    "         \"Pero ha pasado el tiempo\",\n",
    "         \"y la verdad desagradable asoma:\",\n",
    "         \"envejecer, morir,\",\n",
    "         \"es el único argumento de la obra.\"]\n",
    "```\n",
    "\n",
    "La salida tiene que ser:\n",
    "\n",
    "```\n",
    "NO VOLVERÉ A SER JOVEN\n",
    "Que la vida iba en serio\n",
    "uno lo empieza a comprender más tarde\n",
    "-como todos los jóvenes, yo vine\n",
    "```"
   ]
  },
  {
   "cell_type": "markdown",
   "metadata": {},
   "source": [
    "**2. Ejercicio** Siguiendo con el poema anterior, imprimir el título por separado, una línea en blanco, y a continuación el poema completo.\n",
    "\n",
    "La salida quedaría:\n",
    "\n",
    "```\n",
    "NO VOLVERÉ A SER JOVEN\n",
    "\n",
    "Que la vida iba en serio\n",
    "uno lo empieza a comprender más tarde\n",
    "-como todos los jóvenes, yo vine\n",
    "a llevarme la vida por delante.\n",
    "Dejar huella quería\n",
    "y marcharme entre aplausos\n",
    "-envejecer, morir, eran tan sólo\n",
    "las dimensiones del teatro.\n",
    "Pero ha pasado el tiempo\n",
    "y la verdad desagradable asoma:\n",
    "envejecer, morir,\n",
    "es el único argumento de la obra.\n",
    "```"
   ]
  },
  {
   "cell_type": "markdown",
   "metadata": {},
   "source": [
    "**3. Ejercicio** Con el mismo poema, imprimir el título por separado, a continuación los primeros cuatro versos, y luego puntos suspensivos.\n",
    "\n",
    "La salida debería quedar como:\n",
    "\n",
    "```\n",
    "NO VOLVERÉ A SER JOVEN\n",
    "\n",
    "Que la vida iba en serio\n",
    "uno lo empieza a comprender más tarde\n",
    "-como todos los jóvenes, yo vine\n",
    "a llevarme la vida por delante.\n",
    "...\n",
    "```"
   ]
  },
  {
   "cell_type": "markdown",
   "metadata": {},
   "source": [
    "**4. Ejercicio** Imprimir el poema anterior al revés\n",
    "\n",
    "La salida quedá como:\n",
    "```\n",
    "es el único argumento de la obra.\n",
    "envejecer, morir,\n",
    "y la verdad desagradable asoma:\n",
    "Pero ha pasado el tiempo\n",
    "las dimensiones del teatro.\n",
    "-envejecer, morir, eran tan sólo\n",
    "y marcharme entre aplausos\n",
    "Dejar huella quería\n",
    "a llevarme la vida por delante.\n",
    "-como todos los jóvenes, yo vine\n",
    "uno lo empieza a comprender más tarde\n",
    "Que la vida iba en serio\n",
    "NO VOLVERÉ A SER JOVEN\n",
    "```"
   ]
  },
  {
   "cell_type": "markdown",
   "metadata": {},
   "source": [
    "**5. Ejercicio** Dadas dos listas, una que contiene los versos de una canción, y otra que contiene el orden en que se tienen que imprimir, mostrar la canción completa según el orden establecido.\n",
    "\n",
    "\n",
    "La canción es una lista con todos los versos.\n",
    "\n",
    "```\n",
    "cancion = [\"¡Arroyo claro,\",\"Fuente serena!\",\"¿Qué tiene tu divino\",\"Corazón en fiesta?\",\n",
    "           \"¿Qué tienes en tus manos\",\"De primavera?\", \"¿Qué sientes en tu boca\",\"Roja y sedienta?\",\n",
    "           \"¿Por qué te vas tan lejos\",\"De la plazuela?\",\"¿Quién te enseñó el camino\", \"De los poetas?\", \n",
    "           \"Un doblar de campanas,\",\"Perdidas en la niebla.\",\"Una rosa de sangre\",\"Y una azucena.\",\n",
    "           \"El sabor de los huesos\",\"De mi gran calavera.\",\"¡Voy en busca de magos\",\"Y de princesas!\",\n",
    "           \"\"]\n",
    "```\n",
    "\n",
    "El orden se define mediante una lista con las posiciones de los versos ordenada por cómo se tienen que imprimir:\n",
    "\n",
    "```\n",
    "orden = [0,1,20,2,3,4,5,6,7,8,9,10,11,20,0,1,20,2,3,12,13,20,4,5,14,15,20,6,7,16,17,20,8,9,18,19,20,10,11,0,1]\n",
    "```\n",
    "\n",
    "La salida esperada es la siguiente.\n",
    "```\n",
    "¡Arroyo claro,\n",
    "Fuente serena!\n",
    "\n",
    "¿Qué tiene tu divino\n",
    "Corazón en fiesta?\n",
    "¿Qué tienes en tus manos\n",
    "De primavera?\n",
    "¿Qué sientes en tu boca\n",
    "Roja y sedienta?\n",
    "¿Por qué te vas tan lejos\n",
    "De la plazuela?\n",
    "¿Quién te enseñó el camino\n",
    "De los poetas?\n",
    "\n",
    "¡Arroyo claro,\n",
    "Fuente serena!\n",
    "\n",
    "¿Qué tiene tu divino\n",
    "Corazón en fiesta?\n",
    "Un doblar de campanas,\n",
    "Perdidas en la niebla.\n",
    "\n",
    "¿Qué tienes en tus manos\n",
    "De primavera?\n",
    "Una rosa de sangre\n",
    "Y una azucena.\n",
    "\n",
    "¿Qué sientes en tu boca\n",
    "Roja y sedienta?\n",
    "El sabor de los huesos\n",
    "De mi gran calavera.\n",
    "\n",
    "¿Por qué te vas tan lejos\n",
    "De la plazuela?\n",
    "¡Voy en busca de magos\n",
    "Y de princesas!\n",
    "\n",
    "¿Quién te enseñó el camino\n",
    "De los poetas?\n",
    "¡Arroyo claro,\n",
    "Fuente serena!\n",
    "```"
   ]
  },
  {
   "cell_type": "markdown",
   "metadata": {},
   "source": [
    "**6. Ejercicio** A partir del siguiente poema representado como una lista de estrofas\n",
    "\n",
    "```\n",
    "poema = [[\"Érase una vez\",\n",
    "         \"un lobito bueno\",\n",
    "         \"al que maltrataban\", \n",
    "         \"todos los corderos.\"],\n",
    "         [\"Y había también\",\n",
    "         \"un príncipe malo,\",\n",
    "         \"una bruja hermosa\",\n",
    "         \"y un pirata honrado.\"],\n",
    "         [\"Todas estas cosas\",\n",
    "         \"había una vez.\",\n",
    "         \"Cuando yo soñaba\",\n",
    "         \"un mundo al revés.\"]]\n",
    "```\n",
    "\n",
    "Imprimirlo dejando una línea en blanco entre cada estrofa\n",
    "\n",
    "El resultado debería ser:\n",
    "    \n",
    "```\n",
    "Érase una vez\n",
    "un lobito bueno\n",
    "al que maltrataban\n",
    "todos los corderos.\n",
    "\n",
    "Y había también\n",
    "un príncipe malo,\n",
    "una bruja hermosa\n",
    "y un pirata honrado.\n",
    "\n",
    "Todas estas cosas\n",
    "había una vez.\n",
    "Cuando yo soñaba\n",
    "un mundo al revés.\n",
    "``` "
   ]
  },
  {
   "cell_type": "markdown",
   "metadata": {},
   "source": [
    "**7. Ejercicio** Dado el poema siguiente poema\n",
    "\n",
    "```\n",
    "poema = [\"Educar es lo mismo\",\n",
    "         \"que poner motor a una barca...\",\n",
    "         \"hay que medir, pesar, equilibrar\",\n",
    "         \"... y poner todo en marcha.\",\n",
    "         \"Para eso,\",\n",
    "         \"uno tiene que llevar en el alma\",\n",
    "         \"un poco de marino...\",\n",
    "         \"un poco de pirata...\",\n",
    "         \"un poco de poeta...\",\n",
    "         \"y un kilo y medio de paciencia\",\n",
    "         \"concentrada.\",\n",
    "         \"Pero es consolador soñar\",\n",
    "         \"mientras uno trabaja,\",\n",
    "         \"que ese barco, ese niño\",\n",
    "         \"irá muy lejos por el agua.\",\n",
    "         \"Soñar que ese navío\",\n",
    "         \"llevará nuestra carga de palabras\",\n",
    "         \"hacia puertos distantes,\",\n",
    "         \"hacia islas lejanas.\",\n",
    "         \"Soñar que cuando un día\",\n",
    "         \"esté durmiendo nuestra propia barca,\",\n",
    "         \"en barcos nuevos seguirá\",\n",
    "         \"nuestra bandera\",\n",
    "         \"enarbolada.\"]\n",
    "```\n",
    "\n",
    "imprimir la longitud del verso más corto, y la del verso más largo.\n",
    "\n",
    "El resultado es:\n",
    "\n",
    "```\n",
    "9 36\n",
    "```"
   ]
  }
 ],
 "metadata": {
  "kernelspec": {
   "display_name": "Python 3",
   "language": "python",
   "name": "python3"
  },
  "language_info": {
   "codemirror_mode": {
    "name": "ipython",
    "version": 3
   },
   "file_extension": ".py",
   "mimetype": "text/x-python",
   "name": "python",
   "nbconvert_exporter": "python",
   "pygments_lexer": "ipython3",
   "version": "3.6.1"
  }
 },
 "nbformat": 4,
 "nbformat_minor": 1
}
