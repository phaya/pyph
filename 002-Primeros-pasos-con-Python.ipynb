{
 "cells": [
  {
   "cell_type": "markdown",
   "metadata": {},
   "source": [
    "# Primeros pasos con Python\n",
    "\n",
    "[Pablo A. Haya](https://pablohaya.com)"
   ]
  },
  {
   "cell_type": "markdown",
   "metadata": {},
   "source": [
    "Existen muchas acepciones de lo que puede considerarse programar. Para nosotros consiste en describir una serie de instrucciones que serán ejecutadas mediante una máquina. Estas instrucciones se describen mediante un lenguaje formal, esto es, un lenguaje que consta de una reglas sintácticas y gramaticales estrictas, y cuya interpretación es unívoca. El lenguaje que entiende la máquina (**código máquina**) es distinto del lenguaje en el cual escribimos nuestros programas (**código fuente**). Entre medias se situa una aplicación especial, denominada **intérprete**, que se encarga de traducir las instrucciones de nuestro programa al lenguaje de la máquina."
   ]
  },
  {
   "cell_type": "markdown",
   "metadata": {},
   "source": [
    "Vamos a ver como funciona el interprete. Seleccionamos la siguiente celda, y la ejecutamos pulsando `Ctrl` y `Enter` a la vez."
   ]
  },
  {
   "cell_type": "code",
   "execution_count": null,
   "metadata": {},
   "outputs": [],
   "source": [
    "2+2"
   ]
  },
  {
   "cell_type": "markdown",
   "metadata": {},
   "source": [
    "Como si fuera una calculadora el interprete de Python recibe la operación `2+2`, y devuelve inmediatamente el resultado. Se pueden combinar más de una operación en una misma celda. "
   ]
  },
  {
   "cell_type": "code",
   "execution_count": null,
   "metadata": {},
   "outputs": [],
   "source": [
    "2+2\n",
    "1/2\n",
    "5*3"
   ]
  },
  {
   "cell_type": "markdown",
   "metadata": {},
   "source": [
    "Pero el interprete sólo te devuelve el resultado de la última (`5*3`). Las otras dos operaciones se han ejecutado lo que pasa que el interprete no muestra el resultado.\n",
    "\n",
    "Una instrucción muy útil que nos permite ver el resultado en cualquier momento es `print`. "
   ]
  },
  {
   "cell_type": "code",
   "execution_count": null,
   "metadata": {},
   "outputs": [],
   "source": [
    "print(2+2)\n",
    "print(3/2)\n",
    "print(5*3)"
   ]
  },
  {
   "cell_type": "markdown",
   "metadata": {},
   "source": [
    "Los paréntesis permiten agrupar operaciones para indicar el orden en que se realizan."
   ]
  },
  {
   "cell_type": "code",
   "execution_count": null,
   "metadata": {},
   "outputs": [],
   "source": [
    "print(2+6/2)\n",
    "print((2+6)/4)"
   ]
  },
  {
   "cell_type": "markdown",
   "metadata": {},
   "source": [
    "En la primera línea de código se realiza primero la división `3/4`, y luego la suma, ya que la división y la multiplicación tienen mayor precendencia que la suma y la resta. Los paréntesis de la segunda operación revierten el orden en que se realizan las operaciones indicando que primero se haga la suma. "
   ]
  },
  {
   "cell_type": "markdown",
   "metadata": {},
   "source": [
    "**Prueba tú mismo**. Realiza la siguientes operaciones: \n",
    "\n",
    "1. `3*4/2`\n",
    "* `(3*4)/2`\n",
    "* `3+4/2`\n",
    "* `(3+4)/2`\n",
    "* `3*4/2*3`\n",
    "* `3*4/(2*3)`\n",
    "\n",
    "y razona porqué las dos primeras dan el mismo resultado, mientras que las cuatro últimas difieren."
   ]
  },
  {
   "cell_type": "markdown",
   "metadata": {},
   "source": [
    "Uno de los quebraderos de cabeza a los que se enfrenta cualquier programador novato es precisamente aconstumbrarse a la falta de flexibilidad a la hora de comunicarse con la máquina. Cualquier incorrección en el programa, por pequeño que sea, impide que el programa continue su ejecución, y que haya que arreglarlo. Aunque la interpretación de lo que se quería hacer fuera trivial, el interprete no pasa una.\n",
    "\n",
    "Por ejemplo, si ejecutamos la instrucción `print(2*2)` sin el paréntesis final."
   ]
  },
  {
   "cell_type": "code",
   "execution_count": null,
   "metadata": {},
   "outputs": [],
   "source": [
    "print(2*2"
   ]
  },
  {
   "cell_type": "markdown",
   "metadata": {},
   "source": [
    "El interprete nos indica que se ha producido un error de sintaxis (`SyntaxError`). Nos dice también que ha encontrado un final inesperado, y nos señala el lugar concreto del error con el símbolo `^`. Si, podría ser más explícito y decirnos que nos falta un parentesis, en vez de darnos pistas, o incluso podría asumir que falta el paréntesis de cierre, pero no, el interprete, como ya hemos comentado, no es muy listo, y no puede adivinar nuestras intenciones. \n",
    "\n",
    "Asi que no hay que asustarse si nos encontramos con un error, si no armarse de valor, leerlo con calma, y repasar lo hemos escrito."
   ]
  },
  {
   "cell_type": "markdown",
   "metadata": {},
   "source": [
    "---\n",
    "\n",
    "**Para saber más** \n",
    "\n",
    "Python pueden interpretar operaciones matemáticas más allá de las cuatro básicas (`+ - * /`) que hemos visto implementadas en Python.\n",
    "\n",
    "Por ejemplo, la exponenciación\n",
    "```\n",
    "2**10\n",
    "1024\n",
    "```\n",
    "\n",
    "Módulo o resto entero de la división\n",
    "\n",
    "```\n",
    "5 % 3\n",
    "2\n",
    "```"
   ]
  },
  {
   "cell_type": "markdown",
   "metadata": {},
   "source": [
    "## Ejercicios"
   ]
  },
  {
   "cell_type": "markdown",
   "metadata": {},
   "source": [
    "**1. Ejercicio** Un corpus de documentos que contiene 152 millones de palabras, la forma `de` aparece 10 millones de veces ¿Cual es su frecuencia por millón de palabras dicha forma? \n",
    "\n",
    "Pista: \n",
    "\n",
    "$fpmw = \\frac{nt}{nw} · 1,000,000$\n",
    "\n",
    "donde \n",
    "\n",
    "$fpmw$ = frequency per million words\n",
    "\n",
    "$nt$ = número de apariciones totales de la palabras\n",
    "\n",
    "$nw$ = número total de palabras\n",
    "\n",
    "Biber, D., Conrad, S. & Reppen, R. (1998). Corpus linguistics: Investigating language structure and use. Cambridge: Cambridge University Press. "
   ]
  },
  {
   "cell_type": "markdown",
   "metadata": {},
   "source": [
    "**2. Ejercicio** Calcular cuantos libros caben en un lector de ebook de 16 GB si cada libro ocupa 2 MB. \n",
    "\n",
    "Pista: \n",
    "\n",
    "Un Gigabyte (GB) son $2^{30}$ bytes, mientras que un Megabyte (MB) son $2^{20}$ bytes. "
   ]
  }
 ],
 "metadata": {
  "kernelspec": {
   "display_name": "Python 3",
   "language": "python",
   "name": "python3"
  },
  "language_info": {
   "codemirror_mode": {
    "name": "ipython",
    "version": 3
   },
   "file_extension": ".py",
   "mimetype": "text/x-python",
   "name": "python",
   "nbconvert_exporter": "python",
   "pygments_lexer": "ipython3",
   "version": "3.6.1"
  }
 },
 "nbformat": 4,
 "nbformat_minor": 1
}
