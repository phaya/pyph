{
 "cells": [
  {
   "cell_type": "markdown",
   "metadata": {},
   "source": [
    "## Tuplas\n",
    "\n",
    "[Pablo A. Haya](https://pablohaya.com)"
   ]
  },
  {
   "cell_type": "markdown",
   "metadata": {},
   "source": [
    "Las tuplas es una estructura de datos muy similar a las listas. Un tupla se delimita mediante paréntesis `(` y `)`."
   ]
  },
  {
   "cell_type": "code",
   "execution_count": null,
   "metadata": {
    "collapsed": true
   },
   "outputs": [],
   "source": [
    "t = (\"Bravo\", \"león\", \",\", \"mi\", \"corazón\", \",\")"
   ]
  },
  {
   "cell_type": "markdown",
   "metadata": {},
   "source": [
    "Los elementos se encuentran también ordenados, y se acceden mediante la posición que ocupan, igual que en las listas."
   ]
  },
  {
   "cell_type": "code",
   "execution_count": null,
   "metadata": {},
   "outputs": [],
   "source": [
    "t[1]"
   ]
  },
  {
   "cell_type": "markdown",
   "metadata": {},
   "source": [
    "La gran diferencia con las listas es que las tuplas **no** se pueden modificar una vez creadas, esto es, no se puede cambiar un elemento, ni insertar nuevos elementos, ni eliminar un elemento de la tupla."
   ]
  },
  {
   "cell_type": "code",
   "execution_count": null,
   "metadata": {},
   "outputs": [],
   "source": [
    "t[5] = \".\""
   ]
  },
  {
   "cell_type": "markdown",
   "metadata": {},
   "source": [
    "Las tuplas se suelen emplear cuando no se piensa modificar la lista de elementos durante la ejecución del programa. Se pueden emplear en cualquier situación en la que se pudiera requerir una lista."
   ]
  },
  {
   "cell_type": "markdown",
   "metadata": {},
   "source": [
    "El siguiente código crea un nueva lista de tuplas que incluye el verso, y su longitud, pero sólo se incluyen aquellos que tienen una longitud menor que 35."
   ]
  },
  {
   "cell_type": "code",
   "execution_count": null,
   "metadata": {},
   "outputs": [],
   "source": [
    "estrofa = [\"Hoy, como un día, en la ancha mar violeta\",\n",
    "            \"hunde el sueño su pétrea escalinata,\",\n",
    "            \"y hace camino la infantil goleta,\", \n",
    "            \"y le salta el delfín de bronce y plata.\",\n",
    "            \"La hazaña y la aventura\",\n",
    "            \"cercando un corazón entelerido...\",\n",
    "            \"Montes de piedra dura-\",\n",
    "            \"-eco y eco- mi voz ha repetido.\",\n",
    "            \"¡Oh, descansar en el azul del día\",\n",
    "            \"como descansa el águila en el viento,\",\n",
    "            \"sobre la sierra fría,\",\n",
    "            \"segura de sus alas y su aliento!\",\n",
    "            \"La augusta confianza\",\n",
    "            \"a ti, Naturaleza, y paz te pido,\"\n",
    "            \"mi tregua de temor y de esperanza,\",\n",
    "            \"un grano de alegría, un mar de olvido...\"]\n",
    "\n",
    "estrofa_m35 = []\n",
    "for verso in estrofa:\n",
    "    if len(verso) < 35:\n",
    "        estrofa_m35.append((verso, len(verso)))\n",
    "print(estrofa_m35)"
   ]
  },
  {
   "cell_type": "markdown",
   "metadata": {},
   "source": [
    "Vamos demostrar como se accedería a cada uno de los distintos elementos."
   ]
  },
  {
   "cell_type": "code",
   "execution_count": null,
   "metadata": {},
   "outputs": [],
   "source": [
    "print(estrofa_m35[0][1])"
   ]
  },
  {
   "cell_type": "markdown",
   "metadata": {},
   "source": [
    "Con el primer índice accedemos a la tupla correspondiente, y con el segundo índice al elemento que queramos de la tupla. En este caso, estaríamos recuperando la longitud. "
   ]
  },
  {
   "cell_type": "markdown",
   "metadata": {},
   "source": [
    "**Prueba tú mismo** Imprime el cuatro verso, y su longitud de la lista `estrofa_m35`."
   ]
  },
  {
   "cell_type": "markdown",
   "metadata": {},
   "source": [
    "Una tupla puede tener la longitud que se quiera. En el siguiente código se añade a cada tupla la posición que ocupa el poema original, de manera que cada tupla tiene tres elementos."
   ]
  },
  {
   "cell_type": "code",
   "execution_count": null,
   "metadata": {},
   "outputs": [],
   "source": [
    "estrofa_m35 = []\n",
    "for index, verso in enumerate(estrofa):\n",
    "    if len(verso) < 35:\n",
    "        estrofa_m35.append((index, verso, len(verso)))\n",
    "print(estrofa_m35)"
   ]
  },
  {
   "cell_type": "markdown",
   "metadata": {},
   "source": [
    "**Pruéba tú mismo** Créate un nueva variable donde se almacenen la lista de tuplas de tres elementos anteriores, e imprime la posición y verso de todos los elementos de la nueva lista."
   ]
  },
  {
   "cell_type": "markdown",
   "metadata": {},
   "source": [
    "## Ejercicios"
   ]
  },
  {
   "cell_type": "markdown",
   "metadata": {},
   "source": [
    "**1. Ejercicio** Dado el siguiente poema:\n",
    "\n",
    "```\n",
    "En la realidad no hay adjetivos\n",
    "ni conjunciones ni preposiciones\n",
    "¿quién ha visto jamás una Y\n",
    "fuera de la Gramática de Bello?\n",
    "en la realidad hay solo acciones y cosas\n",
    "un hombre bailando con una mujer\n",
    "una mujer amamantando a su nene\n",
    "un funeral - un árbol - una vaca\n",
    "la interjección la pone el sujeto\n",
    "el adverbio lo pone el profesor\n",
    "y el verbo ser es una alucinación del\n",
    "filósofo.\n",
    "```\n",
    "\n",
    "Se ha realizado el análisis morfosintáctico del mismo, y se ha almacena en la siguiente variable:\n",
    "\n",
    "```\n",
    "poema_pos = [\n",
    "    [(\"En\",\"EN\",\"PREP\"),\n",
    "    (\"la\",\"EL\",\"ART\"),\n",
    "    (\"realidad\",\"REALIDAD\",\"N\"),\n",
    "    (\"no\",\"NO\",\"ADV\"),\n",
    "    (\"hay\",\"HABER\",\"V\"),\n",
    "    (\"adjetivos\",\"ADJETIVO\",\"N\")],\n",
    "    [(\"ni\",\"NI\",\"C\"),\n",
    "    (\"conjunciones\",\"CONJUNCIÓN\",\"N\"),\n",
    "    (\"ni\",\"NI\",\"C\"),\n",
    "    (\"preposiciones\",\"PREPOSICIÓN\",\"N\")],\n",
    "    [(\"¿\",\"¿\",\"PUNCT\"),\n",
    "    (\"quién\",\"QUIÉN\",\"P\"),\n",
    "    (\"ha\",\"HABER\",\"AUX\"),\n",
    "    (\"visto\",\"VER\",\"V\"),\n",
    "    (\"jamás\",\"JAMÁS\",\"ADV\"),\n",
    "    (\"una\",\"UNIR\",\"V\"),\n",
    "    (\"Y\",\"Y\",\"NPR\")],\n",
    "    [(\"fuera de\",\"FUERA DE\",\"PREP\"),\n",
    "    (\"la\",\"EL\",\"ART\"),\n",
    "    (\"Gramática de Bello\",\"GRAMÁTICA DE BELLO\",\"NPR\"),\n",
    "    (\"?\",\"?\",\"PUNCT\")],\n",
    "    [(\"en\",\"EN\",\"PREP\"),\n",
    "    (\"la\",\"EL\",\"ART\"),\n",
    "    (\"realidad\",\"REALIDAD\",\"N\"),\n",
    "    (\"hay\",\"HABER\",\"V\"),\n",
    "    (\"solo\",\"SOLO\",\"ADJ\"),\n",
    "    (\"acciones\",\"ACCIÓN\",\"N\"),\n",
    "    (\"y\",\"Y\",\"C\"),\n",
    "    (\"cosas\",\"COSA\",\"N\")],\n",
    "    [(\"un\",\"UN\",\"Q\"),\n",
    "    (\"hombre\",\"HOMBRE\",\"MD\"),\n",
    "    (\"bailando\",\"BAILAR\",\"V\"),\n",
    "    (\"con\",\"CON\",\"PREP\"),\n",
    "    (\"una\",\"UN\",\"Q\"),\n",
    "    (\"mujer\",\"MUJER\",\"N\")],\n",
    "    [(\"una\",\"UN\",\"Q\"),\n",
    "    (\"mujer\",\"MUJER\",\"N\"),\n",
    "    (\"amamantando\",\"AMAMANTAR\",\"V\"),\n",
    "    (\"a\",\"A\",\"PREP\"),\n",
    "    (\"su\",\"SU\",\"POSS\"),\n",
    "    (\"nene\",\"NENE\",\"N\")],\n",
    "    [(\"un\",\"UN\",\"Q\"),\n",
    "    (\"funeral\",\"FUNERAL\",\"ADJ\"),\n",
    "    (\"-\",\"-\",\"PUNCT\"),\n",
    "    (\"un\",\"UN\",\"Q\"),\n",
    "    (\"árbol\",\"ÁRBOL\",\"N\"),\n",
    "    (\"-\",\"-\",\"PUNCT\"),\n",
    "    (\"una\",\"UN\",\"Q\"),\n",
    "    (\"vaca\",\"VACA\",\"N\")],\n",
    "    [(\"la\",\"EL\",\"ART\"),\n",
    "    (\"interjección\",\"INTERJECCIÓN\",\"N\"),\n",
    "    (\"la\",\"LO\",\"P\"),\n",
    "    (\"pone\",\"PONER\",\"V\"),\n",
    "    (\"el\",\"EL\",\"ART\"),\n",
    "    (\"sujeto\",\"SUJERO\",\"N\")],\n",
    "    [(\"el\",\"EL\",\"ART\"),\n",
    "    (\"adverbio\",\"ADVERBIO\",\"N\"),\n",
    "    (\"lo\",\"LO\",\"P\"),\n",
    "    (\"pone\",\"PONER\",\"V\"),\n",
    "    (\"el\",\"EL\",\"ART\"),\n",
    "    (\"profesor\",\"PROFESOR\",\"N\")],\n",
    "    [(\"y\",\"Y\",\"C\"),\n",
    "    (\"el\",\"EL\",\"ART\"),\n",
    "    (\"verbo\",\"VERBO\",\"N\"),\n",
    "    (\"ser\",\"SER\",\"AUX\"),\n",
    "    (\"es\",\"SER\",\"V\"),\n",
    "    (\"una\",\"UN\",\"Q\"),\n",
    "    (\"alucinación\",\"ALUCINACIÓN\",\"N\"),\n",
    "    (\"de\",\"DE\",\"PREP\"),\n",
    "    (\"el\",\"EL\",\"ART\")],\n",
    "    [(\"filósofo\",\"FILÓSOFO\",\"N\")]\n",
    "]\n",
    "```\n",
    "\n",
    "en el que cada palabra se representa por una tupla que contiene el término, el lema, y la categoría gramatical.\n",
    "\n",
    "Imprimir el poema original:\n",
    "\n",
    "```\n",
    "En la realidad no hay adjetivos \n",
    "ni conjunciones ni preposiciones \n",
    "¿ quién ha visto jamás una Y \n",
    "fuera de la Gramática de Bello ? \n",
    "en la realidad hay solo acciones y cosas \n",
    "un hombre bailando con una mujer \n",
    "una mujer amamantando a su nene \n",
    "un funeral - un árbol - una vaca \n",
    "la interjección la pone el sujeto \n",
    "el adverbio lo pone el profesor \n",
    "y el verbo ser es una alucinación de el \n",
    "filósofo \n",
    "```\n",
    "\n",
    "e imprimir el número de apariciones de cada categoría gramatical:\n",
    "\n",
    "```\n",
    "POSS 1\n",
    "PREP 6\n",
    "Q 7\n",
    "ADV 2\n",
    "NPR 2\n",
    "C 4\n",
    "AUX 2\n",
    "V 9\n",
    "PUNCT 4\n",
    "MD 1\n",
    "ART 9\n",
    "ADJ 2\n",
    "P 3\n",
    "N 19\n",
    "```"
   ]
  }
 ],
 "metadata": {
  "kernelspec": {
   "display_name": "Python 3",
   "language": "python",
   "name": "python3"
  },
  "language_info": {
   "codemirror_mode": {
    "name": "ipython",
    "version": 3
   },
   "file_extension": ".py",
   "mimetype": "text/x-python",
   "name": "python",
   "nbconvert_exporter": "python",
   "pygments_lexer": "ipython3",
   "version": "3.6.1"
  }
 },
 "nbformat": 4,
 "nbformat_minor": 1
}
