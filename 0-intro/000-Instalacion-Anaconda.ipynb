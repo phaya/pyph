{
 "cells": [
  {
   "cell_type": "markdown",
   "metadata": {},
   "source": [
    "# Instalación distribución Anaconda\n",
    "\n",
    "[Pablo A. Haya](https://pablohaya.com)"
   ]
  },
  {
   "cell_type": "markdown",
   "metadata": {},
   "source": [
    "Para poder programar es preciso un editor de texto que nos permite crear programas, y una aplicación que interprete las instrucciones en Python de cada programa. Es habitual emplear entornos integrados que permiten tanto crear programas como ejecutarlos.  \n",
    "\n",
    "Aunque es posible instalar cada aplicación por separado"
   ]
  },
  {
   "cell_type": "markdown",
   "metadata": {},
   "source": [
    "Para realizar este curso vamos a utilizar la distribución [Anaconda](https://www.anaconda.com) que contiene tanto el interprete de `Python` como el entorno `Jupyter Notebook`. "
   ]
  },
  {
   "cell_type": "markdown",
   "metadata": {},
   "source": [
    "### Paso 1 \n",
    "\n",
    "Descargarse la versión que incluya `Python 3.7` para la plataforma correspondiente (Windows, Mac, Linux) desde: \n",
    "\n",
    "https://www.anaconda.com/distribution/"
   ]
  },
  {
   "cell_type": "markdown",
   "metadata": {},
   "source": [
    "![](img/captura-instalacion-1.png)"
   ]
  },
  {
   "cell_type": "markdown",
   "metadata": {},
   "source": [
    "### Paso 2\n",
    "\n",
    "Ejecutar el instalador descargado en el paso anterior"
   ]
  },
  {
   "cell_type": "markdown",
   "metadata": {},
   "source": [
    "![](img/captura-instalacion-2.png)"
   ]
  },
  {
   "cell_type": "markdown",
   "metadata": {},
   "source": [
    "### Paso 3"
   ]
  },
  {
   "cell_type": "markdown",
   "metadata": {},
   "source": [
    "Ejecutar `Jupyter Notebook`. En el caso de Windows, este programa está accesible desde el menú de inicio, dentro de la carpeta `Anaconda`. También es posible localizarlo a través de la caja de búsqueda. "
   ]
  },
  {
   "cell_type": "markdown",
   "metadata": {},
   "source": [
    "![](img/captura-instalacion-3.png)"
   ]
  },
  {
   "cell_type": "markdown",
   "metadata": {},
   "source": [
    "### Paso 4"
   ]
  },
  {
   "cell_type": "markdown",
   "metadata": {},
   "source": [
    "Si todo ha ido correcto, debería lanzarse el navegador web por defecto (Firefox, Chrome, Edge, Safari...), y debería aparecer un listado de carpetas. A partir de hay habrá que localizar donde se encuentran los _notebooks_ que se quieren ejectutar. "
   ]
  },
  {
   "cell_type": "markdown",
   "metadata": {},
   "source": [
    "![](img/captura-instalacion-4.png)"
   ]
  }
 ],
 "metadata": {
  "kernelspec": {
   "display_name": "Python 3",
   "language": "python",
   "name": "python3"
  },
  "language_info": {
   "codemirror_mode": {
    "name": "ipython",
    "version": 3
   },
   "file_extension": ".py",
   "mimetype": "text/x-python",
   "name": "python",
   "nbconvert_exporter": "python",
   "pygments_lexer": "ipython3",
   "version": "3.7.1"
  }
 },
 "nbformat": 4,
 "nbformat_minor": 2
}
