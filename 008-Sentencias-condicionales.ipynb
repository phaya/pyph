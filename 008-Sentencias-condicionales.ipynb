{
 "cells": [
  {
   "cell_type": "markdown",
   "metadata": {},
   "source": [
    "# Sentencias condicionales\n",
    "\n",
    "[Pablo A. Haya](https://pablohaya.com)"
   ]
  },
  {
   "cell_type": "markdown",
   "metadata": {},
   "source": [
    "En el código que hemos realizado hasta el momento, siempre se ejecutan todoas las instrucciones, como parece esperable, pero hay situaciones en las que nos interesa que una instrucción sólo se ejecuta si se cumple determinada condición. Antes de introducir la sentencia condicional `if` es preciso que hablemos del tipo de datos booleano (_boolean_).\n",
    "\n",
    "Es tipo de datos tiene únicamente dos posibles valores `True` o `False`. El primero representa que una condición verdadera, y el segunda falsa. Por ejemplo, los operadores de comparación como `>`, `<`, `<=`, `>=`, `==` ó `!=` devuelve como resultado un tipo de datos booleano. "
   ]
  },
  {
   "cell_type": "code",
   "execution_count": 72,
   "metadata": {},
   "outputs": [
    {
     "name": "stdout",
     "output_type": "stream",
     "text": [
      "True\n",
      "False\n",
      "True\n",
      "False\n",
      "True\n"
     ]
    }
   ],
   "source": [
    "print(1898 < 1927)\n",
    "print(1898 > 1898)\n",
    "print(1998 >= 1998)\n",
    "print(\"Rubén\" == \"Darío\")\n",
    "print(\"Rubén\" != \"Darío\")"
   ]
  },
  {
   "cell_type": "markdown",
   "metadata": {},
   "source": [
    "Las distintas instrucciones devuelve `True` ó `False` dependiendo de si se cumple o no. En la primera, claramente, 1898 es un número menor que 1927, con lo que se imprime `True`. La siguiente nos devuelve `False` ya que 1898 no es mayor que 1898, de echo, ningún número es mayor o menor que si mismo. En cambio, la tercera si se cumple la condición ya que que se emplea el operador mayor o igual, y todos los números son iguales a si mismos. \n",
    "\n",
    "La penúltima instrucción `\"Rubén\" == \"Darío\"` comprueba si dos cadenas son iguales, es decir tienen exactamente los mismos caracteres. Como el símbolo `=` ya lo tenemos reservado para realizar la asignación, se emplea un nuevo símbolo representado por `==` para comprobar si dos datos son iguales. En este caso, como son distintos devuelve `False`. Finalmente, el operador distinto de se representa por `!=`. Así, la última línea imprime  `True` ya que \"Rubén\" es distitno de \"Darío\"."
   ]
  },
  {
   "cell_type": "markdown",
   "metadata": {},
   "source": [
    "Otro operador básico es la negación (`not`) que invierte el resultado de verdadero a falso, y viceversa."
   ]
  },
  {
   "cell_type": "code",
   "execution_count": 73,
   "metadata": {},
   "outputs": [
    {
     "name": "stdout",
     "output_type": "stream",
     "text": [
      "True\n"
     ]
    }
   ],
   "source": [
    "print(not \"Rubén\" == \"Darío\")"
   ]
  },
  {
   "cell_type": "markdown",
   "metadata": {},
   "source": [
    "También es posible combinar varios operadores en la misma expresión lógica. Los paréntesis ayudan a indicar el orden en que se tienen evaluar cada expresión."
   ]
  },
  {
   "cell_type": "code",
   "execution_count": 74,
   "metadata": {},
   "outputs": [
    {
     "name": "stdout",
     "output_type": "stream",
     "text": [
      "False\n"
     ]
    }
   ],
   "source": [
    "print((not (1898 < 1927)) and (\"Rubén\" != \"Darío\"))"
   ]
  },
  {
   "cell_type": "markdown",
   "metadata": {},
   "source": [
    "**Prueba tú mismo** Razona cual es el resultado de la siguiente expresión:\n",
    "\n",
    "`not ((1898 > 1927) or not (\"Rubén\" == \"Darío\"))`"
   ]
  },
  {
   "cell_type": "markdown",
   "metadata": {},
   "source": [
    "Ahora si que podemos introducir la sentencia `if` en condiciones"
   ]
  },
  {
   "cell_type": "code",
   "execution_count": 3,
   "metadata": {},
   "outputs": [
    {
     "name": "stdout",
     "output_type": "stream",
     "text": [
      "Lo podemos tuitear\n"
     ]
    }
   ],
   "source": [
    "estrofa = [\"¡Oh, descansar en el azul del día\",\n",
    "           \"como descansa el águila en el viento,\",\n",
    "           \"sobre la sierra fría,\",\n",
    "           \"segura de sus alas y su aliento!\"]\n",
    "\n",
    "\n",
    "# Crea un lista con las longitudes de cada verso, y las suma\n",
    "len_verso = []\n",
    "for verso in estrofa:\n",
    "    len_verso.append(len(verso))\n",
    "n_caracteres = sum(len_verso)\n",
    "\n",
    "if n_caracteres <= 280:\n",
    "    print(\"Lo podemos tuitear\")\n",
    "else:\n",
    "    print(\"Hay que recortar :(\")"
   ]
  },
  {
   "cell_type": "markdown",
   "metadata": {},
   "source": [
    "En la anterior celda hemos incluido un código en el que no se ejecutan todas las instrucciones. Si `n_caracteres` es menor o igual a 280 se imprime \"Lo podemos tuitear\", en caso contrario se imprime \"Hay que recortar :(\". En cada ejecución, el texto que se imprime puede ser distintos dependiendo del valor que tenga `n_caracteres`.\n",
    "\n",
    "Si nos fijamos en el código hemos definido una función que simplemente cuenta el número de caracteres que tiene todos los elementos de una lista, presuponiendo que la lista contenga cadenas de caracteres. Hemos utilizado la estructura de comprensión de lista que vimos anteriormente.\n",
    "\n",
    "A continuación, viene la parte con la estructura condicional indicada por la sentencia `if` seguida de una condición devuelve de un valor booleano. La línea termina obligatoriamente con dos puntos `:`, como en la estructura del bucle `for`. Si se cumple la condición, es decir, que devuelve un valor `True` se ejecutan todas las instucciones que se encuentren indentadas a la derecha. La sentencia `else:` nos indica las instrucciones que siguen se ejecutarán en caso de que se no se cumpla la condición.\n",
    "\n",
    "Vamos a ver que pasa con si metemos más versos a la lista:"
   ]
  },
  {
   "cell_type": "code",
   "execution_count": 5,
   "metadata": {},
   "outputs": [
    {
     "name": "stdout",
     "output_type": "stream",
     "text": [
      "Hay que recortar :(\n"
     ]
    }
   ],
   "source": [
    "estrofa = [\"Hoy, como un día, en la ancha mar violeta\",\n",
    "            \"hunde el sueño su pétrea escalinata,\",\n",
    "            \"y hace camino la infantil goleta,\", \n",
    "            \"y le salta el delfín de bronce y plata.\",\n",
    "            \"La hazaña y la aventura\",\n",
    "            \"cercando un corazón entelerido...\",\n",
    "            \"Montes de piedra dura-\",\n",
    "            \"-eco y eco- mi voz ha repetido.\",\n",
    "            \"¡Oh, descansar en el azul del día\",\n",
    "            \"como descansa el águila en el viento,\",\n",
    "            \"sobre la sierra fría,\",\n",
    "            \"segura de sus alas y su aliento!\",\n",
    "            \"La augusta confianza\",\n",
    "            \"a ti, Naturaleza, y paz te pido,\"\n",
    "            \"mi tregua de temor y de esperanza,\",\n",
    "            \"un grano de alegría, un mar de olvido...\"]\n",
    "\n",
    "len_verso = []\n",
    "for verso in estrofa:\n",
    "    len_verso.append(len(verso))\n",
    "n_caracteres = sum(len_verso)\n",
    "\n",
    "if n_caracteres <= 280:\n",
    "    print(\"Lo podemos tuitear\")\n",
    "else:\n",
    "    print(\"Hay que recortar :(\")"
   ]
  },
  {
   "cell_type": "markdown",
   "metadata": {},
   "source": [
    "La parte que indica `else:` realmente es opcional, y podemos omitirla si lo consideramos necesario. Así, el siguiente código es válido"
   ]
  },
  {
   "cell_type": "code",
   "execution_count": 77,
   "metadata": {
    "collapsed": true
   },
   "outputs": [],
   "source": [
    "if n_caracteres <= 280:\n",
    "    print(\"Lo podemos tuitear\")"
   ]
  },
  {
   "cell_type": "markdown",
   "metadata": {},
   "source": [
    "Aunque no imprime nada ya `n_caracteres` es mayor que 280 con lo que no se ejecuta la única instrucción de imprimir."
   ]
  },
  {
   "cell_type": "markdown",
   "metadata": {},
   "source": [
    "**Prueba tú mismo** Genera una nueva lista que contenga los versos del poema anterior con una longitud menor que 35."
   ]
  },
  {
   "cell_type": "markdown",
   "metadata": {},
   "source": [
    "**Prueba tú mismo** Genera la lista que contiene las posiciones de los versos menores de 35."
   ]
  },
  {
   "cell_type": "markdown",
   "metadata": {},
   "source": [
    "---\n",
    "\n",
    "** Para saber más**\n",
    " \n",
    "Se puede sustituir el código obtener el número de caracteres de la estrofa por una comprensión de lista, de manera que quede más compacto.  "
   ]
  },
  {
   "cell_type": "code",
   "execution_count": 6,
   "metadata": {},
   "outputs": [
    {
     "name": "stdout",
     "output_type": "stream",
     "text": [
      "Lo podemos tuitear\n"
     ]
    }
   ],
   "source": [
    "estrofa = [\"¡Oh, descansar en el azul del día\",\n",
    "           \"como descansa el águila en el viento,\",\n",
    "           \"sobre la sierra fría,\",\n",
    "           \"segura de sus alas y su aliento!\"]\n",
    "\n",
    "n_caracteres = sum([len(verso) for verso in estrofa])\n",
    "\n",
    "if n_caracteres <= 280:\n",
    "    print(\"Lo podemos tuitear\")\n",
    "else:\n",
    "    print(\"Hay que recortar :(\")"
   ]
  },
  {
   "cell_type": "markdown",
   "metadata": {},
   "source": [
    "La sentencia\n",
    "\n",
    "```\n",
    "n_caracteres = sum([len(verso) for verso in estrofa])\n",
    "```\n",
    "\n",
    "es equivalente a:\n",
    "\n",
    "```\n",
    "len_verso = []\n",
    "for verso in estrofa:\n",
    "    len_verso.append(len(verso))\n",
    "n_caracteres = sum(len_verso)\n",
    "```"
   ]
  },
  {
   "cell_type": "markdown",
   "metadata": {},
   "source": [
    "Además, ñas comprensiones de listas también admiten incluir la sentencia condicional `if`, de manera que sólo se incluirán como elementos de la nueva lista aquellos que cumplan la condición."
   ]
  },
  {
   "cell_type": "code",
   "execution_count": 78,
   "metadata": {},
   "outputs": [
    {
     "name": "stdout",
     "output_type": "stream",
     "text": [
      "[33, 23, 33, 22, 31, 33, 21, 32, 20]\n"
     ]
    }
   ],
   "source": [
    "estrofa = [\"Hoy, como un día, en la ancha mar violeta\",\n",
    "            \"hunde el sueño su pétrea escalinata,\",\n",
    "            \"y hace camino la infantil goleta,\", \n",
    "            \"y le salta el delfín de bronce y plata.\",\n",
    "            \"La hazaña y la aventura\",\n",
    "            \"cercando un corazón entelerido...\",\n",
    "            \"Montes de piedra dura-\",\n",
    "            \"-eco y eco- mi voz ha repetido.\",\n",
    "            \"¡Oh, descansar en el azul del día\",\n",
    "            \"como descansa el águila en el viento,\",\n",
    "            \"sobre la sierra fría,\",\n",
    "            \"segura de sus alas y su aliento!\",\n",
    "            \"La augusta confianza\",\n",
    "            \"a ti, Naturaleza, y paz te pido,\"\n",
    "            \"mi tregua de temor y de esperanza,\",\n",
    "            \"un grano de alegría, un mar de olvido...\"]\n",
    "\n",
    "print([len(verso) for verso in estrofas if len(verso) < 35])"
   ]
  },
  {
   "cell_type": "markdown",
   "metadata": {},
   "source": [
    "El código anterior recorre cada `verso` de la variable `estrofas` (`for verso in estrofas`), y crea una nueva lista con las longitudes de los versos (`len(verso)`), pero únicamente se incluyen aquellos cuya longitud sea menor que 35 (`if len(verso) < 35`)."
   ]
  },
  {
   "cell_type": "markdown",
   "metadata": {},
   "source": [
    "La versión extendida sería:\n",
    "\n",
    "```\n",
    "len_verso = []\n",
    "for verso in estrofa:\n",
    "    if len(verso < 35):\n",
    "        len_verso.append(len(verso))\n",
    "print(len_verso)\n",
    "```"
   ]
  },
  {
   "cell_type": "markdown",
   "metadata": {},
   "source": [
    "## Ejercicios"
   ]
  },
  {
   "cell_type": "markdown",
   "metadata": {},
   "source": [
    "**1. Ejercicio** Dado el siguiente poema:\n",
    "\n",
    "```\n",
    "poema = [\n",
    "    \"Tu espalda es mi descanso, mi sosiego,\",\n",
    "    \"es la calma después de haber amado,\",\n",
    "    \"tu espalda es un refugio donde llego\",\n",
    "    \"a lamer mis heridas angustiado.\",\n",
    "    \"\",\n",
    "    \"Tu espalda es taller de mi poesía\",\n",
    "    \"en las noches que paso desvelado,\",\n",
    "    \"tu espalda tiene el fin de cada día,\",\n",
    "    \"es el sueño y un beso ya cansado.\",\n",
    "    \"\",\n",
    "    \"Y si todo se me hace cuesta arriba,\",\n",
    "    \"si la vida se ensaña con mi vida,\",\n",
    "    \"más que nunca, tu espalda es necesaria,\",\n",
    "    \"\",\n",
    "    \"Pues si es dura la mano del destino,\",\n",
    "    \"tu espalda es el altar donde me inclino\",\n",
    "    \"para llegar a Dios... con mi plegaria.\"\n",
    "]\n",
    "```\n",
    "\n",
    "imprimirlo eliminando los versos vacios.\n",
    "\n",
    "La salida es:\n",
    "\n",
    "```\n",
    "Tu espalda es mi descanso, mi sosiego,\n",
    "es la calma después de haber amado,\n",
    "tu espalda es un refugio donde llego\n",
    "a lamer mis heridas angustiado.\n",
    "Tu espalda es taller de mi poesía\n",
    "en las noches que paso desvelado,\n",
    "tu espalda tiene el fin de cada día,\n",
    "es el sueño y un beso ya cansado.\n",
    "Y si todo se me hace cuesta arriba,\n",
    "si la vida se ensaña con mi vida,\n",
    "más que nunca, tu espalda es necesaria,\n",
    "Pues si es dura la mano del destino,\n",
    "tu espalda es el altar donde me inclino\n",
    "para llegar a Dios... con mi plegaria.\n",
    "```"
   ]
  },
  {
   "cell_type": "code",
   "execution_count": 2,
   "metadata": {},
   "outputs": [
    {
     "name": "stdout",
     "output_type": "stream",
     "text": [
      "Tu espalda es mi descanso, mi sosiego,\n",
      "es la calma después de haber amado,\n",
      "tu espalda es un refugio donde llego\n",
      "a lamer mis heridas angustiado.\n",
      "Tu espalda es taller de mi poesía\n",
      "en las noches que paso desvelado,\n",
      "tu espalda tiene el fin de cada día,\n",
      "es el sueño y un beso ya cansado.\n",
      "Y si todo se me hace cuesta arriba,\n",
      "si la vida se ensaña con mi vida,\n",
      "más que nunca, tu espalda es necesaria,\n",
      "Pues si es dura la mano del destino,\n",
      "tu espalda es el altar donde me inclino\n",
      "para llegar a Dios... con mi plegaria.\n"
     ]
    }
   ],
   "source": [
    "# Eliminar los versos vacios de un poema\n",
    "poema = [\n",
    "    \"Tu espalda es mi descanso, mi sosiego,\",\n",
    "    \"es la calma después de haber amado,\",\n",
    "    \"tu espalda es un refugio donde llego\",\n",
    "    \"a lamer mis heridas angustiado.\",\n",
    "    \"\",\n",
    "    \"Tu espalda es taller de mi poesía\",\n",
    "    \"en las noches que paso desvelado,\",\n",
    "    \"tu espalda tiene el fin de cada día,\",\n",
    "    \"es el sueño y un beso ya cansado.\",\n",
    "    \"\",\n",
    "    \"Y si todo se me hace cuesta arriba,\",\n",
    "    \"si la vida se ensaña con mi vida,\",\n",
    "    \"más que nunca, tu espalda es necesaria,\",\n",
    "    \"\",\n",
    "    \"Pues si es dura la mano del destino,\",\n",
    "    \"tu espalda es el altar donde me inclino\",\n",
    "    \"para llegar a Dios... con mi plegaria.\"\n",
    "]\n",
    "\n",
    "poema_sin = [verso for verso in poema if verso != \"\"]\n",
    "\n",
    "for verso in poema_sin:\n",
    "    print(verso)"
   ]
  },
  {
   "cell_type": "markdown",
   "metadata": {},
   "source": [
    "**2. Ejercicio** Dado el siguiente poema:\n",
    "\n",
    "```\n",
    "poema = [\"Educar es lo mismo\",\n",
    "         \"que poner motor a una barca...\",\n",
    "         \"hay que medir, pesar, equilibrar\",\n",
    "         \"... y poner todo en marcha.\",\n",
    "         \"Para eso,\",\n",
    "         \"uno tiene que llevar en el alma\",\n",
    "         \"un poco de marino...\",\n",
    "         \"un poco de pirata...\",\n",
    "         \"un poco de poeta...\",\n",
    "         \"y un kilo y medio de paciencia\",\n",
    "         \"concentrada.\",\n",
    "         \"Pero es consolador soñar\",\n",
    "         \"mientras uno trabaja,\",\n",
    "         \"que ese barco, ese niño\",\n",
    "         \"irá muy lejos por el agua.\",\n",
    "         \"Soñar que ese navío\",\n",
    "         \"llevará nuestra carga de palabras\",\n",
    "         \"hacia puertos distantes,\",\n",
    "         \"hacia islas lejanas.\",\n",
    "         \"Soñar que cuando un día\",\n",
    "         \"esté durmiendo nuestra propia barca,\",\n",
    "         \"en barcos nuevos seguirá\",\n",
    "         \"nuestra bandera\",\n",
    "         \"enarbolada.\"]\n",
    "```\n",
    "\n",
    "imprimir el verso más corto.\n",
    "\n",
    "El resultado tiene que ser:\n",
    "\n",
    "```\n",
    "['Para eso,']\n",
    "```"
   ]
  },
  {
   "cell_type": "code",
   "execution_count": 4,
   "metadata": {},
   "outputs": [
    {
     "name": "stdout",
     "output_type": "stream",
     "text": [
      "['Para eso,']\n"
     ]
    }
   ],
   "source": [
    "poema = [\"Educar es lo mismo\",\n",
    "         \"que poner motor a una barca...\",\n",
    "         \"hay que medir, pesar, equilibrar\",\n",
    "         \"... y poner todo en marcha.\",\n",
    "         \"Para eso,\",\n",
    "         \"uno tiene que llevar en el alma\",\n",
    "         \"un poco de marino...\",\n",
    "         \"un poco de pirata...\",\n",
    "         \"un poco de poeta...\",\n",
    "         \"y un kilo y medio de paciencia\",\n",
    "         \"concentrada.\",\n",
    "         \"Pero es consolador soñar\",\n",
    "         \"mientras uno trabaja,\",\n",
    "         \"que ese barco, ese niño\",\n",
    "         \"irá muy lejos por el agua.\",\n",
    "         \"Soñar que ese navío\",\n",
    "         \"llevará nuestra carga de palabras\",\n",
    "         \"hacia puertos distantes,\",\n",
    "         \"hacia islas lejanas.\",\n",
    "         \"Soñar que cuando un día\",\n",
    "         \"esté durmiendo nuestra propia barca,\",\n",
    "         \"en barcos nuevos seguirá\",\n",
    "         \"nuestra bandera\",\n",
    "         \"enarbolada.\"]\n",
    "\n",
    "# Encontrar el verso más corto de un poema\n",
    "long_min = min([len(verso) for verso in poema])\n",
    "verso_min = [verso for verso in poema if len(verso) == long_min]\n",
    "print(verso_min)"
   ]
  },
  {
   "cell_type": "markdown",
   "metadata": {},
   "source": [
    "**3. Ejercicio** Dado el siguiente extracto:\n",
    "\n",
    "```\n",
    "extracto = [['No', 'pretendas', 'saber', ',', 'pues', 'no', 'está', 'permitido', ',', \n",
    "             'el', 'fin', 'que', 'a', 'mí', 'y', 'a', 'ti', ',', 'Leucónoe', ',', \n",
    "             'nos', 'tienen', 'asignados', 'los', 'dioses', ',', 'ni', 'consultes', \n",
    "             'los', 'números', 'Babilónicos', '.'], \n",
    "            ['Mejor', 'será', 'aceptar', 'lo', 'que', 'venga', ',', 'ya', 'sean', \n",
    "             'muchos', 'los', 'inviernos', 'que', 'Júpiter', 'te', 'conceda', ',', \n",
    "             'o', 'sea', 'éste', 'el', 'último', ',', 'el', 'que', 'ahora', 'hace', \n",
    "             'que', 'el', 'mar', 'Tirreno', 'rompa', 'contra', 'los', 'opuestos', \n",
    "             'cantiles', '.'], \n",
    "            ['No', 'seas', 'loca', ',', 'filtra', 'tus', 'vinos', 'y', 'adapta', 'al', \n",
    "             'breve', 'espacio', 'de', 'tu', 'vida', 'una', 'esperanza', 'larga', '.'], \n",
    "            ['Mientras', 'hablamos', ',', 'huye', 'el', 'tiempo', 'envidioso', '.'], \n",
    "            ['Vive', 'el', 'día', 'de', 'hoy', '.'], \n",
    "            ['Captúralo', '.'], \n",
    "            ['No', 'fíes', 'del', 'incierto', 'mañana', '.']]\n",
    "```\n",
    "\n",
    "realizar un programa que recupere el texto original con los signos puntuación colocados correctamente, esto es, pegados a la última palabra.\n",
    "\n",
    "La sálida esperada es:\n",
    "\n",
    "```\n",
    "No pretendas saber, pues no está permitido, el fin que a mí y a ti, Leucónoe, nos tienen asignados los dioses, ni consultes los números Babilónicos. \n",
    "Mejor será aceptar lo que venga, ya sean muchos los inviernos que Júpiter te conceda, o sea éste el último, el que ahora hace que el mar Tirreno rompa contra los opuestos cantiles. \n",
    "No seas loca, filtra tus vinos y adapta al breve espacio de tu vida una esperanza larga. \n",
    "Mientras hablamos, huye el tiempo envidioso. \n",
    "Vive el día de hoy. \n",
    "Captúralo. \n",
    "No fíes del incierto mañana.\n",
    "```"
   ]
  },
  {
   "cell_type": "code",
   "execution_count": null,
   "metadata": {
    "collapsed": true
   },
   "outputs": [],
   "source": [
    "# Dado el siguiente extracto imprimirlo en varias frases de manera que las comas \n",
    "# se impriman sin espacio respecto al token anterior\n",
    "extracto = [['No', 'pretendas', 'saber', ',', 'pues', 'no', 'está', 'permitido', ',', \n",
    "             'el', 'fin', 'que', 'a', 'mí', 'y', 'a', 'ti', ',', 'Leucónoe', ',', \n",
    "             'nos', 'tienen', 'asignados', 'los', 'dioses', ',', 'ni', 'consultes', \n",
    "             'los', 'números', 'Babilónicos', '.', ''], \n",
    "            ['Mejor', 'será', 'aceptar', 'lo', 'que', 'venga', ',', 'ya', 'sean', \n",
    "             'muchos', 'los', 'inviernos', 'que', 'Júpiter', 'te', 'conceda', ',', \n",
    "             'o', 'sea', 'éste', 'el', 'último', ',', 'el', 'que', 'ahora', 'hace', \n",
    "             'que', 'el', 'mar', 'Tirreno', 'rompa', 'contra', 'los', 'opuestos', \n",
    "             'cantiles', '.', ''], \n",
    "            ['No', 'seas', 'loca', ',', 'filtra', 'tus', 'vinos', 'y', 'adapta', 'al', \n",
    "             'breve', 'espacio', 'de', 'tu', 'vida', 'una', 'esperanza', 'larga', '.', ''], \n",
    "            ['Mientras', 'hablamos', ',', 'huye', 'el', 'tiempo', 'envidioso', '.', ''], \n",
    "            ['Vive', 'el', 'día', 'de', 'hoy', '.', ''], \n",
    "            ['Captúralo', '.', ''], \n",
    "            ['No', 'fíes', 'del', 'incierto', 'mañana', '.', '']]\n",
    "\n",
    "for linea in extracto:\n",
    "    linea_imprimir = linea[0]\n",
    "    for token in linea[1:]:\n",
    "        if not token in [\",\", \".\"]:\n",
    "            linea_imprimir = linea_imprimir + \" \"\n",
    "        linea_imprimir = linea_imprimir + token\n",
    "    print(linea_imprimir)"
   ]
  },
  {
   "cell_type": "markdown",
   "metadata": {},
   "source": [
    "**4. Ejercicio** Dado el siguiente poema:\n",
    "\n",
    "```\n",
    "poema = [\"No cojas la cuchara con la mano izquierda.\",\n",
    "         \"No pongas los codos en la mesa.\",\n",
    "         \"Dobla bien la servilleta.\",\n",
    "         \"Eso, para empezar.\",\n",
    "         \"Extraiga la raíz cuadrada de tres mil trescientos trece.\",\n",
    "         \"¿Dónde está Tanganika? ¿Qué año nació Cervantes?\",\n",
    "         \"Le pondré un cero en conducta si habla con su compañero.\",\n",
    "         \"Eso, para seguir.\",\n",
    "         \"¿Le parece a usted correcto que un ingeniero haga versos?\",\n",
    "         \"La cultura es un adorno y el negocio es el negocio.\",\n",
    "         \"Si sigues con esa chica te cerraremos las puertas.\",\n",
    "         \"Eso, para vivir.\",\n",
    "         \"No seas tan loco. Sé educado. Sé correcto.\",\n",
    "         \"No bebas. No fumes. No tosas. No respires.\",\n",
    "         \"¡Ay, sí, no respirar! Dar el no a todos los nos.\",\n",
    "         \"Y descansar: morir.\"]\n",
    "```\n",
    "\n",
    "Imprimir el poema separándolo en estrofas de cuatro versos por una línea en blanco.\n",
    "\n",
    "```\n",
    "No cojas la cuchara con la mano izquierda.\n",
    "No pongas los codos en la mesa.\n",
    "Dobla bien la servilleta.\n",
    "Eso, para empezar.\n",
    "\n",
    "Extraiga la raíz cuadrada de tres mil trescientos trece.\n",
    "¿Dónde está Tanganika? ¿Qué año nació Cervantes?\n",
    "Le pondré un cero en conducta si habla con su compañero.\n",
    "Eso, para seguir.\n",
    "\n",
    "¿Le parece a usted correcto que un ingeniero haga versos?\n",
    "La cultura es un adorno y el negocio es el negocio.\n",
    "Si sigues con esa chica te cerraremos las puertas.\n",
    "Eso, para vivir.\n",
    "\n",
    "No seas tan loco. Sé educado. Sé correcto.\n",
    "No bebas. No fumes. No tosas. No respires.\n",
    "¡Ay, sí, no respirar! Dar el no a todos los nos.\n",
    "Y descansar: morir.\n",
    "```"
   ]
  },
  {
   "cell_type": "code",
   "execution_count": 5,
   "metadata": {},
   "outputs": [
    {
     "name": "stdout",
     "output_type": "stream",
     "text": [
      "No cojas la cuchara con la mano izquierda.\n",
      "No pongas los codos en la mesa.\n",
      "Dobla bien la servilleta.\n",
      "Eso, para empezar.\n",
      "\n",
      "Extraiga la raíz cuadrada de tres mil trescientos trece.\n",
      "¿Dónde está Tanganika? ¿Qué año nació Cervantes?\n",
      "Le pondré un cero en conducta si habla con su compañero.\n",
      "Eso, para seguir.\n",
      "\n",
      "¿Le parece a usted correcto que un ingeniero haga versos?\n",
      "La cultura es un adorno y el negocio es el negocio.\n",
      "Si sigues con esa chica te cerraremos las puertas.\n",
      "Eso, para vivir.\n",
      "\n",
      "No seas tan loco. Sé educado. Sé correcto.\n",
      "No bebas. No fumes. No tosas. No respires.\n",
      "¡Ay, sí, no respirar! Dar el no a todos los nos.\n",
      "Y descansar: morir.\n",
      "\n"
     ]
    }
   ],
   "source": [
    "poema = [\"No cojas la cuchara con la mano izquierda.\",\n",
    "         \"No pongas los codos en la mesa.\",\n",
    "         \"Dobla bien la servilleta.\",\n",
    "         \"Eso, para empezar.\",\n",
    "         \"Extraiga la raíz cuadrada de tres mil trescientos trece.\",\n",
    "         \"¿Dónde está Tanganika? ¿Qué año nació Cervantes?\",\n",
    "         \"Le pondré un cero en conducta si habla con su compañero.\",\n",
    "         \"Eso, para seguir.\",\n",
    "         \"¿Le parece a usted correcto que un ingeniero haga versos?\",\n",
    "         \"La cultura es un adorno y el negocio es el negocio.\",\n",
    "         \"Si sigues con esa chica te cerraremos las puertas.\",\n",
    "         \"Eso, para vivir.\",\n",
    "         \"No seas tan loco. Sé educado. Sé correcto.\",\n",
    "         \"No bebas. No fumes. No tosas. No respires.\",\n",
    "         \"¡Ay, sí, no respirar! Dar el no a todos los nos.\",\n",
    "         \"Y descansar: morir.\"]\n",
    "\n",
    "for i, verso in enumerate(poema):\n",
    "    print(verso)\n",
    "    if ((i+1) % 4) == 0:\n",
    "        print()"
   ]
  },
  {
   "cell_type": "markdown",
   "metadata": {},
   "source": [
    "**5. Ejercicio** Imprimir el poema incluyendo cada cinco versos el número de verso justificado a la derecha.\n",
    "\n",
    "``` \n",
    "poema = [\"Educar es lo mismo\",\n",
    "         \"que poner motor a una barca...\",\n",
    "         \"hay que medir, pesar, equilibrar\",\n",
    "         \"... y poner todo en marcha.\",\n",
    "         \"Para eso,\",\n",
    "         \"uno tiene que llevar en el alma\",\n",
    "         \"un poco de marino...\",\n",
    "         \"un poco de pirata...\",\n",
    "         \"un poco de poeta...\",\n",
    "         \"y un kilo y medio de paciencia\",\n",
    "         \"concentrada.\",\n",
    "         \"Pero es consolador soñar\",\n",
    "         \"mientras uno trabaja,\",\n",
    "         \"que ese barco, ese niño\",\n",
    "         \"irá muy lejos por el agua.\",\n",
    "         \"Soñar que ese navío\",\n",
    "         \"llevará nuestra carga de palabras\",\n",
    "         \"hacia puertos distantes,\",\n",
    "         \"hacia islas lejanas.\",\n",
    "         \"Soñar que cuando un día\",\n",
    "         \"esté durmiendo nuestra propia barca,\",\n",
    "         \"en barcos nuevos seguirá\",\n",
    "         \"nuestra bandera\",\n",
    "         \"enarbolada.\"]\n",
    "```\n",
    "\n",
    "La salida tiene que ser:\n",
    "\n",
    "```\n",
    "Educar es lo mismo\n",
    "que poner motor a una barca...\n",
    "hay que medir, pesar, equilibrar\n",
    "... y poner todo en marcha.\n",
    "Para eso,                                        5\n",
    "uno tiene que llevar en el alma\n",
    "un poco de marino...\n",
    "un poco de pirata...\n",
    "un poco de poeta...\n",
    "y un kilo y medio de paciencia                  10\n",
    "concentrada.\n",
    "Pero es consolador soñar\n",
    "mientras uno trabaja,\n",
    "que ese barco, ese niño\n",
    "irá muy lejos por el agua.                      15\n",
    "Soñar que ese navío\n",
    "llevará nuestra carga de palabras\n",
    "hacia puertos distantes,\n",
    "hacia islas lejanas.\n",
    "Soñar que cuando un día                         20\n",
    "esté durmiendo nuestra propia barca,\n",
    "en barcos nuevos seguirá\n",
    "nuestra bandera\n",
    "enarbolada.\n",
    "```\n"
   ]
  },
  {
   "cell_type": "code",
   "execution_count": 6,
   "metadata": {},
   "outputs": [
    {
     "name": "stdout",
     "output_type": "stream",
     "text": [
      "Educar es lo mismo\n",
      "que poner motor a una barca...\n",
      "hay que medir, pesar, equilibrar\n",
      "... y poner todo en marcha.\n",
      "Para eso,                                        5\n",
      "uno tiene que llevar en el alma\n",
      "un poco de marino...\n",
      "un poco de pirata...\n",
      "un poco de poeta...\n",
      "y un kilo y medio de paciencia                  10\n",
      "concentrada.\n",
      "Pero es consolador soñar\n",
      "mientras uno trabaja,\n",
      "que ese barco, ese niño\n",
      "irá muy lejos por el agua.                      15\n",
      "Soñar que ese navío\n",
      "llevará nuestra carga de palabras\n",
      "hacia puertos distantes,\n",
      "hacia islas lejanas.\n",
      "Soñar que cuando un día                         20\n",
      "esté durmiendo nuestra propia barca,\n",
      "en barcos nuevos seguirá\n",
      "nuestra bandera\n",
      "enarbolada.\n"
     ]
    }
   ],
   "source": [
    "# Imprimir cada cinco versos, el número de verso justificado a la derecha\n",
    "poema = [\"Educar es lo mismo\",\n",
    "         \"que poner motor a una barca...\",\n",
    "         \"hay que medir, pesar, equilibrar\",\n",
    "         \"... y poner todo en marcha.\",\n",
    "         \"Para eso,\",\n",
    "         \"uno tiene que llevar en el alma\",\n",
    "         \"un poco de marino...\",\n",
    "         \"un poco de pirata...\",\n",
    "         \"un poco de poeta...\",\n",
    "         \"y un kilo y medio de paciencia\",\n",
    "         \"concentrada.\",\n",
    "         \"Pero es consolador soñar\",\n",
    "         \"mientras uno trabaja,\",\n",
    "         \"que ese barco, ese niño\",\n",
    "         \"irá muy lejos por el agua.\",\n",
    "         \"Soñar que ese navío\",\n",
    "         \"llevará nuestra carga de palabras\",\n",
    "         \"hacia puertos distantes,\",\n",
    "         \"hacia islas lejanas.\",\n",
    "         \"Soñar que cuando un día\",\n",
    "         \"esté durmiendo nuestra propia barca,\",\n",
    "         \"en barcos nuevos seguirá\",\n",
    "         \"nuestra bandera\",\n",
    "         \"enarbolada.\"]\n",
    "\n",
    "for i, verso in enumerate(poema):\n",
    "    if (i+1) % 5 == 0:\n",
    "        n_espacios = 50 - len(verso) - len(str(i+1))\n",
    "        linea = verso + \" \"*n_espacios + str(i+1)\n",
    "        print(linea)\n",
    "    else:\n",
    "        print(verso)"
   ]
  },
  {
   "cell_type": "markdown",
   "metadata": {},
   "source": [
    "**6. Ejercicio** Dado el siguiente poema:\n",
    "\n",
    "```\n",
    "poema = [\"No cojas la cuchara con la mano izquierda.\",\n",
    "         \"No pongas los codos en la mesa.\",\n",
    "         \"Dobla bien la servilleta.\",\n",
    "         \"Eso, para empezar.\",\n",
    "         \"Extraiga la raíz cuadrada de tres mil trescientos trece.\",\n",
    "         \"¿Dónde está Tanganika? ¿Qué año nació Cervantes?\",\n",
    "         \"Le pondré un cero en conducta si habla con su compañero.\",\n",
    "         \"Eso, para seguir.\",\n",
    "         \"¿Le parece a usted correcto que un ingeniero haga versos?\",\n",
    "         \"La cultura es un adorno y el negocio es el negocio.\",\n",
    "         \"Si sigues con esa chica te cerraremos las puertas.\",\n",
    "         \"Eso, para vivir.\",\n",
    "         \"No seas tan loco. Sé educado. Sé correcto.\",\n",
    "         \"No bebas. No fumes. No tosas. No respires.\",\n",
    "         \"¡Ay, sí, no respirar! Dar el no a todos los nos.\",\n",
    "         \"Y descansar: morir.\"]\n",
    "```\n",
    "\n",
    "Imprimir un extracto de los versos escogido al azar. Es necesario incluir antes y después del extracto `[...]` en el caso de que hubiera más versos por encima, y por debajo respectivamente. Así, los siguientes tres extractos son salidas válidas de distintas ejecuciones:\n",
    "\n",
    "```\n",
    "[...]\n",
    "Dobla bien la servilleta.\n",
    "Eso, para empezar.\n",
    "Extraiga la raíz cuadrada de tres mil trescientos trece.\n",
    "¿Dónde está Tanganika? ¿Qué año nació Cervantes?\n",
    "[...]\n",
    "```\n",
    "\n",
    "```\n",
    "No cojas la cuchara con la mano izquierda.\n",
    "No pongas los codos en la mesa.\n",
    "Dobla bien la servilleta.\n",
    "[...]\n",
    "```\n",
    "\n",
    "```\n",
    "[...]\n",
    "¡Ay, sí, no respirar! Dar el no a todos los nos.\n",
    "Y descansar: morir.\n",
    "```"
   ]
  },
  {
   "cell_type": "code",
   "execution_count": 7,
   "metadata": {},
   "outputs": [
    {
     "name": "stdout",
     "output_type": "stream",
     "text": [
      "[...]\n",
      "Dobla bien la servilleta.\n",
      "Eso, para empezar.\n",
      "Extraiga la raíz cuadrada de tres mil trescientos trece.\n",
      "¿Dónde está Tanganika? ¿Qué año nació Cervantes?\n",
      "Le pondré un cero en conducta si habla con su compañero.\n",
      "Eso, para seguir.\n",
      "¿Le parece a usted correcto que un ingeniero haga versos?\n",
      "La cultura es un adorno y el negocio es el negocio.\n",
      "Si sigues con esa chica te cerraremos las puertas.\n",
      "Eso, para vivir.\n",
      "No seas tan loco. Sé educado. Sé correcto.\n",
      "No bebas. No fumes. No tosas. No respires.\n",
      "[...]\n"
     ]
    }
   ],
   "source": [
    "poema = [\"No cojas la cuchara con la mano izquierda.\",\n",
    "         \"No pongas los codos en la mesa.\",\n",
    "         \"Dobla bien la servilleta.\",\n",
    "         \"Eso, para empezar.\",\n",
    "         \"Extraiga la raíz cuadrada de tres mil trescientos trece.\",\n",
    "         \"¿Dónde está Tanganika? ¿Qué año nació Cervantes?\",\n",
    "         \"Le pondré un cero en conducta si habla con su compañero.\",\n",
    "         \"Eso, para seguir.\",\n",
    "         \"¿Le parece a usted correcto que un ingeniero haga versos?\",\n",
    "         \"La cultura es un adorno y el negocio es el negocio.\",\n",
    "         \"Si sigues con esa chica te cerraremos las puertas.\",\n",
    "         \"Eso, para vivir.\",\n",
    "         \"No seas tan loco. Sé educado. Sé correcto.\",\n",
    "         \"No bebas. No fumes. No tosas. No respires.\",\n",
    "         \"¡Ay, sí, no respirar! Dar el no a todos los nos.\",\n",
    "         \"Y descansar: morir.\"]\n",
    "\n",
    "from random import randint\n",
    "\n",
    "inf = randint(0, len(poema)-1)\n",
    "sup = randint(inf+1, len(poema))\n",
    "\n",
    "#print(inf, sup)\n",
    "\n",
    "if inf > 0:\n",
    "    print('[...]')\n",
    "\n",
    "for verso in poema[inf:sup]:\n",
    "    print(verso)     \n",
    "\n",
    "if sup < len(poema):\n",
    "    print('[...]')"
   ]
  }
 ],
 "metadata": {
  "kernelspec": {
   "display_name": "Python 3",
   "language": "python",
   "name": "python3"
  },
  "language_info": {
   "codemirror_mode": {
    "name": "ipython",
    "version": 3
   },
   "file_extension": ".py",
   "mimetype": "text/x-python",
   "name": "python",
   "nbconvert_exporter": "python",
   "pygments_lexer": "ipython3",
   "version": "3.6.1"
  }
 },
 "nbformat": 4,
 "nbformat_minor": 1
}
