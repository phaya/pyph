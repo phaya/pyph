{
 "cells": [
  {
   "cell_type": "markdown",
   "metadata": {},
   "source": [
    "# Definiendo funciones propias\n",
    "\n",
    "[Pablo A. Haya](https://pablohaya.com)"
   ]
  },
  {
   "cell_type": "markdown",
   "metadata": {},
   "source": [
    "Ya hemos visto lo fácil que es emplear una función en Python. Ahora bien, lo realmente potente y maravilloso es poder definir tus propias funciones. De esta manera, puedes ir creando un lenguaje propio. Vamos a verlo con un ejemplo. Supongamos que queremos alinear a la derecha un texto, esto es, que el final del texto coincida con el final de la línea. Una manera de hacerlo es añadir espacios al izquierda del texto hasta que consigamos la alineación correcta.\n",
    "\n",
    "El siguiente código nos muestra como se podría hacer:"
   ]
  },
  {
   "cell_type": "code",
   "execution_count": 101,
   "metadata": {},
   "outputs": [
    {
     "name": "stdout",
     "output_type": "stream",
     "text": [
      "                                                             Te comería a versos\n"
     ]
    }
   ],
   "source": [
    "txt = \"Te comería a versos\"\n",
    "\n",
    "long_linea = 80\n",
    "n_espacios = long_linea - len(txt)\n",
    "txt_alineado = n_espacios*\" \" + txt\n",
    "\n",
    "print(txt_alineado)"
   ]
  },
  {
   "cell_type": "markdown",
   "metadata": {},
   "source": [
    "Vamos a suponer que cada línea tiene una longitud máxima de 80 caracteres (si fuera más o menos sólo tendría que cambiarse ese número). Para calcular el número de espacios que necesitamos agregar restamos la longitud del texto `len(txt)` a la longitud de la línea. A continuación creamos una nueva cadena `txt_alineado` concatenando tanto espacios como hemos calculado `n_espacios*\" \"` al principio del texto original `txt`. Recordar que el operador `*` repite tantas veces como le indiquemos una cadena de caracteres, en este caso el espacio en blanco.\n",
    "\n",
    "Cada vez que tuvieramos que alinear a la derecha una frase, podríamos escribir este trozo de código, o mucho mejor, podemos crearnos una función que haga estas operaciones, y que unicamente tengamos que invocar con un texto para obtener un texto alineado, de la misma manera que invocamos len() para obtener la longitud.\n"
   ]
  },
  {
   "cell_type": "code",
   "execution_count": 1,
   "metadata": {
    "collapsed": true
   },
   "outputs": [],
   "source": [
    "def alinea_derecha(txt):\n",
    "    long_linea = 80\n",
    "    n_espacios = long_linea - len(txt)\n",
    "    txt_alineado = n_espacios*\" \" + txt\n",
    "    return (txt_alineado)"
   ]
  },
  {
   "cell_type": "markdown",
   "metadata": {},
   "source": [
    "Crearos una nueva función es tan sencillo como emplear la etiqueta `def` junto con el nombre de la función y los parámetros que recibe. Esta primera línea tiene que terminar, obligatoriamente, con `:`\n",
    "\n",
    "```\n",
    "    def alinea_derecha(txt):\n",
    "```\n",
    "\n",
    "A continuación incluimos el código que realiza el cálculo de los espacios y que genera la nueva cadena alineada a la derecha concatenando el número de espacios correctos.\n",
    "\n",
    "```\n",
    "    def alinea_derecha(txt):\n",
    "        long_linea = 80\n",
    "        n_espacios = long_linea - len(txt)\n",
    "        txt_alineado = n_espacios*\" \" + txt\n",
    "        return (txt_alineado)\n",
    "```\n",
    "\n",
    "Cada vez que se invoque a la función se devolverá como resultado el nuevo texto alineado a la derecha."
   ]
  },
  {
   "cell_type": "code",
   "execution_count": 17,
   "metadata": {},
   "outputs": [
    {
     "name": "stdout",
     "output_type": "stream",
     "text": [
      "                                                             Te comería a versos\n"
     ]
    }
   ],
   "source": [
    "txt = alinea_derecha(\"Te comería a versos\")\n",
    "print(txt)"
   ]
  },
  {
   "cell_type": "markdown",
   "metadata": {},
   "source": [
    "**Prueba tú mismo**. Imprime directamente el resultado de la función sin almancenarlo en una variable."
   ]
  },
  {
   "cell_type": "markdown",
   "metadata": {},
   "source": [
    "Ahora podemos llamar a la nueva función tantas veces como queramos evitando tener que escribir y recordar las engorrosas líneas de código que realizan el alineamiento"
   ]
  },
  {
   "cell_type": "code",
   "execution_count": 104,
   "metadata": {},
   "outputs": [
    {
     "name": "stdout",
     "output_type": "stream",
     "text": [
      "                                                          Asómate a la vergüenza\n",
      "                                                           cara de poca ventana,\n",
      "                                                         y échame un poco de sed\n",
      "                                                   que me estoy muriendo de agua\n"
     ]
    }
   ],
   "source": [
    "print(alinea_derecha(\"Asómate a la vergüenza\"))\n",
    "print(alinea_derecha(\"cara de poca ventana,\"))\n",
    "print(alinea_derecha(\"y échame un poco de sed\"))\n",
    "print(alinea_derecha(\"que me estoy muriendo de agua\"))"
   ]
  },
  {
   "cell_type": "markdown",
   "metadata": {},
   "source": [
    "Rizando el rizo, podemos mejorar nuestra función incluyendo la longitud de línea como parámetro, de manera que cuando la llamemos podamos variar esa longitud a nuestro antojo."
   ]
  },
  {
   "cell_type": "code",
   "execution_count": 22,
   "metadata": {
    "collapsed": true
   },
   "outputs": [],
   "source": [
    "def alinea_derecha(txt, long_linea):\n",
    "    n_espacios = long_linea - len(txt)\n",
    "    return (n_espacios*\" \" + txt)"
   ]
  },
  {
   "cell_type": "markdown",
   "metadata": {},
   "source": [
    "De esta manera, cada vez que llamamos a la función `alinea_derecha()` tenemos que indicar, además del texto, el tamaño de la línea. De esta manera, diferentes llamadas pueden realizar alineaciones de distinta longitud."
   ]
  },
  {
   "cell_type": "code",
   "execution_count": 19,
   "metadata": {},
   "outputs": [
    {
     "name": "stdout",
     "output_type": "stream",
     "text": [
      "                                                  Eres como media hora de recreo 80\n",
      "                                           en esta eternidad tan seria\n"
     ]
    }
   ],
   "source": [
    "print(alinea_derecha(\"Eres como media hora de recreo\"), 80)\n",
    "print(alinea_derecha(\"en esta eternidad tan seria\", 70))"
   ]
  },
  {
   "cell_type": "markdown",
   "metadata": {},
   "source": [
    "Un característica potente de Python, que no tienen todos los lenguajes de programación, consiste en poder indicar valores por defecto para los parámetros."
   ]
  },
  {
   "cell_type": "code",
   "execution_count": 20,
   "metadata": {
    "collapsed": true
   },
   "outputs": [],
   "source": [
    "def alinea_derecha(txt, long_linea = 80):\n",
    "    n_espacios = long_linea - len(txt)\n",
    "    return (n_espacios*\" \" + txt)"
   ]
  },
  {
   "cell_type": "markdown",
   "metadata": {},
   "source": [
    "Si te fijas hemos declarado un nuevo parámetro `long_linea`, y le hemos dado un valor por defecto (80). De esta manera podemos llamar a la función pasándole únicamente el texto, de manera que tome el valor de 80 como longitud de línea, o podemos modificar ese valor si así lo deseamos."
   ]
  },
  {
   "cell_type": "code",
   "execution_count": 21,
   "metadata": {},
   "outputs": [
    {
     "name": "stdout",
     "output_type": "stream",
     "text": [
      "                                                  Eres como media hora de recreo\n",
      "                                           en esta eternidad tan seria\n"
     ]
    }
   ],
   "source": [
    "print(alinea_derecha(\"Eres como media hora de recreo\"))\n",
    "print(alinea_derecha(\"en esta eternidad tan seria\", 70))"
   ]
  },
  {
   "cell_type": "markdown",
   "metadata": {},
   "source": [
    "## Ejercicios"
   ]
  },
  {
   "cell_type": "markdown",
   "metadata": {},
   "source": [
    "**1. Ejercicio** Realizar una función `carcajada()` que devuelve una risotada aleatoria (jaja, jejejeje, jojojo, jiji) La vocal que se utilice y la longitud de la risotada se escogerán al azar. El máximo de carcajadas se indicará como parámetro, siendo 10 por defecto. "
   ]
  },
  {
   "cell_type": "code",
   "execution_count": 2,
   "metadata": {},
   "outputs": [
    {
     "data": {
      "text/plain": [
       "'jujujujujujuju'"
      ]
     },
     "execution_count": 2,
     "metadata": {},
     "output_type": "execute_result"
    }
   ],
   "source": [
    "from random import randint\n",
    "from random import choice\n",
    "\n",
    "def carcajada(max=10):\n",
    "    len = randint(1, max)\n",
    "    syl = 'j' + choice(['a','e','i','o','u'])\n",
    "    return(syl*len)\n",
    "\n",
    "carcajada()"
   ]
  },
  {
   "cell_type": "markdown",
   "metadata": {},
   "source": [
    "**2. Ejercicio** Implementar una función `centra()` que dado un texto, devuelva una nueva versión con el número de espacio correctos para que se pueda imprimir centrada. Asumir que el tamaño de la línea son 80 caracteres.\n",
    "\n",
    "Una vez definida la función emplear el siguiente código para probarla:\n",
    "\n",
    "```\n",
    "print(centra(\"¿Y ha de morir contigo el mundo tuyo,\"))\n",
    "print(centra(\"la vieja vida en orden tuyo y nuevo?\"))\n",
    "print(centra(\"¿Los yunques y crisoles de tu alma\"))\n",
    "print(centra(\"trabajan para el polvo y para el viento?\"))\n",
    "```\n",
    "\n",
    "El resultado esperado serán las siguientes líneas centradas\n",
    "\n",
    "```\n",
    "                     ¿Y ha de morir contigo el mundo tuyo,\n",
    "                      la vieja vida en orden tuyo y nuevo?\n",
    "                       ¿Los yunques y crisoles de tu alma\n",
    "                    trabajan para el polvo y para el viento?\n",
    "```"
   ]
  },
  {
   "cell_type": "code",
   "execution_count": 3,
   "metadata": {},
   "outputs": [
    {
     "name": "stdout",
     "output_type": "stream",
     "text": [
      "                      ¿Y ha de morir contigo el mundo tuyo,\n",
      "                      la vieja vida en orden tuyo y nuevo?\n",
      "                       ¿Los yunques y crisoles de tu alma\n",
      "                    trabajan para el polvo y para el viento?\n"
     ]
    }
   ],
   "source": [
    "def centra(txt, long_linea = 80):    \n",
    "    n_espacios = round(long_linea/2 - len(txt)/2)\n",
    "    return (n_espacios*\" \" + txt)\n",
    "\n",
    "print(centra(\"¿Y ha de morir contigo el mundo tuyo,\"))\n",
    "print(centra(\"la vieja vida en orden tuyo y nuevo?\"))\n",
    "print(centra(\"¿Los yunques y crisoles de tu alma\"))\n",
    "print(centra(\"trabajan para el polvo y para el viento?\"))"
   ]
  },
  {
   "cell_type": "markdown",
   "metadata": {},
   "source": [
    "**3. Ejercicio** Realizar una función `rellena_puntos(txt, pag)` que permita rellenar con puntos  el título de una sección para generar una tabla de contenidos, de manera que los números donde comienza la sección aparezca alineados.\n",
    "\n",
    "La función recibe el título, y el número de página donde comienza, y devuelve el texto con los puntos.\n",
    "\n",
    "Ejemplo:\n",
    "\n",
    "```\n",
    "print(rellena_puntos(\"Capítulo 1. El principio\", 1))\n",
    "print(rellena_puntos(\"Capítulo 12. El final\", 123))\n",
    "```\n",
    "\n",
    "debería devolver:\n",
    "\n",
    "```\n",
    "Capítulo 1. El principio.......................................................1\n",
    "Capítulo 12. El final........................................................123\n",
    "```"
   ]
  },
  {
   "cell_type": "code",
   "execution_count": 5,
   "metadata": {},
   "outputs": [
    {
     "name": "stdout",
     "output_type": "stream",
     "text": [
      "Capítulo 1. El principio.......................................................1\n",
      "Capítulo 12. El final........................................................123\n"
     ]
    }
   ],
   "source": [
    "def rellena_puntos(txt, pag):\n",
    "    long_linea = 80\n",
    "    n_espacios = long_linea - len(txt) - len(str(pag))\n",
    "    return (txt + n_espacios*\".\" + str(pag))\n",
    "\n",
    "print(rellena_puntos(\"Capítulo 1. El principio\", 1))\n",
    "print(rellena_puntos(\"Capítulo 12. El final\", 123))"
   ]
  }
 ],
 "metadata": {
  "kernelspec": {
   "display_name": "Python 3",
   "language": "python",
   "name": "python3"
  },
  "language_info": {
   "codemirror_mode": {
    "name": "ipython",
    "version": 3
   },
   "file_extension": ".py",
   "mimetype": "text/x-python",
   "name": "python",
   "nbconvert_exporter": "python",
   "pygments_lexer": "ipython3",
   "version": "3.6.1"
  }
 },
 "nbformat": 4,
 "nbformat_minor": 1
}
