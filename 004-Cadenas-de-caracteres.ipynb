{
 "cells": [
  {
   "cell_type": "markdown",
   "metadata": {},
   "source": [
    "# Cadenas de caracteres\n",
    "\n",
    "[Pablo A. Haya](https://pablohaya.com)"
   ]
  },
  {
   "cell_type": "markdown",
   "metadata": {},
   "source": [
    "Hemos visto que la variables pueden almacenar números, pero también pueden guardar texto:"
   ]
  },
  {
   "cell_type": "code",
   "execution_count": null,
   "metadata": {},
   "outputs": [],
   "source": [
    "s = \"¡Oh monte, oh fuente, oh río,!\"\n",
    "print(s)"
   ]
  },
  {
   "cell_type": "markdown",
   "metadata": {},
   "source": [
    "`s` es una variable que almacena una cadena de caracteres, esto es, una serie de caracteres que representan un texto. Las cadenas de caracteres se representan incluyéndalas dentro de comillas doble (`\"\"`) como en el ejemplo, o comillas simples (`''`)."
   ]
  },
  {
   "cell_type": "markdown",
   "metadata": {},
   "source": [
    "Se puede incluir las comillas, ya sean dobles o simples, como parte del texto. Tan sencillo como emplear como delimitador las comillas contrarias. "
   ]
  },
  {
   "cell_type": "code",
   "execution_count": null,
   "metadata": {},
   "outputs": [],
   "source": [
    "t = 'Casi siempre, si no hay \"tú\" no hay \"yo\"'\n",
    "print(t)\n",
    "t = \"Casi siempre, si no hay 'tú' no hay 'yo'\"\n",
    "print(t)"
   ]
  },
  {
   "cell_type": "markdown",
   "metadata": {},
   "source": [
    "Otra alternativa es preceder las comillas con el caracter `\\`, lo cual es inevitable si queremos incluir ambos tipos de comillas en la misma variable."
   ]
  },
  {
   "cell_type": "code",
   "execution_count": null,
   "metadata": {},
   "outputs": [],
   "source": [
    "t = \"Casi siempre, si no hay \\\"tú\\\" no hay 'yo'\"\n",
    "print(t)"
   ]
  },
  {
   "cell_type": "markdown",
   "metadata": {},
   "source": [
    "Una función muy útil es  `len()` que nos permite saber el núero de caracteres que tiene una cadena."
   ]
  },
  {
   "cell_type": "code",
   "execution_count": null,
   "metadata": {},
   "outputs": [],
   "source": [
    "print(len(s))"
   ]
  },
  {
   "cell_type": "markdown",
   "metadata": {},
   "source": [
    "Aquí se cuentan todos los caracteres incluidos los espacios. Haz la prueba, y cuéntalos por ti mismo.\n",
    "\n",
    "Las cadenas se diferencian de los números en que se representan siempre encerradas entre comillas dobles `\"\"` (o simples como hemos visto más arriba). Así,"
   ]
  },
  {
   "cell_type": "code",
   "execution_count": null,
   "metadata": {
    "collapsed": true
   },
   "outputs": [],
   "source": [
    "str = \"1\"\n",
    "num = 1"
   ]
  },
  {
   "cell_type": "markdown",
   "metadata": {},
   "source": [
    "`str` y `num` almacenan datos distinos, ya que la primera es el dígito `1`, y la segunda es el número. "
   ]
  },
  {
   "cell_type": "markdown",
   "metadata": {},
   "source": [
    "Con las cadenas también se pueden realizar algunas operaciones aunque funcionan distintos que su equivalente números. Por ejemplo, la suma hace que se concatenen una detras de otra dos cadenas."
   ]
  },
  {
   "cell_type": "code",
   "execution_count": null,
   "metadata": {},
   "outputs": [],
   "source": [
    "s1 = \"¡Oh monte, oh \"\n",
    "s2 = \"fuente, oh río,!\"\n",
    "print(s1 + s2)\n",
    "\n",
    "print(len(s))\n",
    "print(len(s1)+len(s2))"
   ]
  },
  {
   "cell_type": "markdown",
   "metadata": {},
   "source": [
    "Mientras que la multiplican repite la cadena tantas veces como indiquemos."
   ]
  },
  {
   "cell_type": "code",
   "execution_count": null,
   "metadata": {},
   "outputs": [],
   "source": [
    "print(\"¡O\" + \"o\"*10 + \"h!\")"
   ]
  },
  {
   "cell_type": "markdown",
   "metadata": {},
   "source": [
    "**Prueba tú mismo**. Imprime el resultado de las siguientes dos operaciones:\n",
    "    \n",
    "1. `2+2`\n",
    "* `\"2\"+\"2\"`\n",
    "\n",
    "Explica la diferencia en el resultado."
   ]
  },
  {
   "cell_type": "markdown",
   "metadata": {},
   "source": [
    "No nos emocionemos ya que no todas las operaciones están permitadas, así **no** se puede sumar una cadena de caracteres con un número. Al ejecutar el siguiente código nos da un error donde nos indican en la última línea que las cadenas (`str`) no se llevan bien con los números `Integer`."
   ]
  },
  {
   "cell_type": "code",
   "execution_count": null,
   "metadata": {},
   "outputs": [],
   "source": [
    "print(s+n)"
   ]
  },
  {
   "cell_type": "markdown",
   "metadata": {},
   "source": [
    "Ni tampoco se puede llamar a una función con cualquier tipo de dato. Por ejemplo, la función `len` solo está definida para una cadena de caracteres, pero no para un número."
   ]
  },
  {
   "cell_type": "code",
   "execution_count": null,
   "metadata": {},
   "outputs": [],
   "source": [
    "print(len(n))"
   ]
  },
  {
   "cell_type": "markdown",
   "metadata": {},
   "source": [
    "Si que podemos convertir de un tipo a otro, transformando un número en una cadena de caracteres, y al revés, mediante dos funciones muy sencilas `str()` e `int()`. \n",
    "\n",
    "`str()` convierte cualquier dato en una cadena, mientras que 'int()' lo convierte en un número entero."
   ]
  },
  {
   "cell_type": "code",
   "execution_count": null,
   "metadata": {
    "collapsed": true
   },
   "outputs": [],
   "source": [
    "print(s + str(n))"
   ]
  },
  {
   "cell_type": "markdown",
   "metadata": {},
   "source": [
    "Vemos que ahora si que funciona la operación `+` ya que al convertir `n` en una cadena de caracteres es posible concatenarla a otra cadena."
   ]
  },
  {
   "cell_type": "code",
   "execution_count": null,
   "metadata": {
    "collapsed": true
   },
   "outputs": [],
   "source": [
    "print(int(s) + n)"
   ]
  },
  {
   "cell_type": "markdown",
   "metadata": {},
   "source": [
    "La conversión de número a cadena siempre va a funcionar, mientras que la contraria, como acabamos de ver, puede dar error. Para que la función `int()` pueda funcionar es preciso que contengan dígitos que se puedan intepretar como un número."
   ]
  },
  {
   "cell_type": "code",
   "execution_count": null,
   "metadata": {
    "collapsed": true
   },
   "outputs": [],
   "source": [
    "s3 = \"20\"\n",
    "print(int(s3) + n)"
   ]
  },
  {
   "cell_type": "markdown",
   "metadata": {},
   "source": [
    "Ahora si que funciona la conversión, ya que los digitos `\"20\"` se convierten al número `20` que es posible sumar al contenido de la variable `n`"
   ]
  },
  {
   "cell_type": "markdown",
   "metadata": {},
   "source": [
    "**Prueba tú mismo**. El siguiente código:\n",
    "    \n",
    "```\n",
    "x = 10\n",
    "print(x)\n",
    "x = str(x)\n",
    "print(x)\n",
    "```\n",
    "\n",
    "y explica que tipo de datos termina almacenado en la variable `x`."
   ]
  },
  {
   "cell_type": "markdown",
   "metadata": {},
   "source": [
    "## Ejercicios"
   ]
  },
  {
   "cell_type": "markdown",
   "metadata": {},
   "source": [
    "**1. Ejercicio** Imprimir una carcajada muy grande, algo así como:\n",
    "\n",
    "`jajajajajajajajajajajajajajajajajajajajajajajajajajajajajajajajajajajajajajajajajajaja\n",
    "jajajajajajajajajajajajajajajajajajajajajajajajajajajajajajajajajajajajajajajajajajajaja\n",
    "jajajajajajajajajajajajajajajajajajajajajajajajajajajajajajajajajajajajajajajajajajajaja\n",
    "jajajajajajajajajajajajajajajajajajajajajajajajajajajajajajajajajajajajajajajajajajajaja`"
   ]
  },
  {
   "cell_type": "markdown",
   "metadata": {},
   "source": [
    "**2. Ejercicio** Dado la longitud máxima que puede tener una línea `long_linea`, un titulo de un capítulo `txt`, y el número de página `npag`, realizar un programa que genera una línea de una tabla de contenidos, esto es, que rellene con puntos el espacio necesario para imprimir el título, y el número de página en el tamaño de la línea.\n",
    "\n",
    "Tener en cuenta que el número de página puede tener más de un dígito. \n",
    "\n",
    "Así por ejemplo, con la siguiente declaración de variables:\n",
    "\n",
    "```\n",
    "long_linea = 80\n",
    "txt = \"Capítulo 1. El principio\"\n",
    "npag = 10\n",
    "```\n",
    "\n",
    "tendría que imprlmir:\n",
    "\n",
    "`Capítulo 1. El principio......................................................10`"
   ]
  }
 ],
 "metadata": {
  "kernelspec": {
   "display_name": "Python 3",
   "language": "python",
   "name": "python3"
  },
  "language_info": {
   "codemirror_mode": {
    "name": "ipython",
    "version": 3
   },
   "file_extension": ".py",
   "mimetype": "text/x-python",
   "name": "python",
   "nbconvert_exporter": "python",
   "pygments_lexer": "ipython3",
   "version": "3.6.1"
  }
 },
 "nbformat": 4,
 "nbformat_minor": 1
}
