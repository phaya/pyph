{
 "cells": [
  {
   "cell_type": "markdown",
   "metadata": {},
   "source": [
    "# Notebooks: entorno de programación\n",
    "\n",
    "[Pablo A. Haya](https://pablohaya.com)"
   ]
  },
  {
   "cell_type": "markdown",
   "metadata": {},
   "source": [
    "Un _notebook_ (bloc de notas) es una aplicación que se ejecuta en un navegador web y que permite ejecutar código fuente, y combinar los resultados con textos en lenguaje natural.\n",
    "\n",
    "Cada _notebook_ está organizado en **celdas** que pueden ser de dos tipos: código fuente o de textos. Las primeras permiten escribir y ejecutar código en Python, de manera que se guarda tanto el código como el resultado. En las segundas se pueden añadir comentarios a los que se puede dar cierto formato.  "
   ]
  },
  {
   "cell_type": "markdown",
   "metadata": {},
   "source": [
    "La siguiente celda contiene código:"
   ]
  },
  {
   "cell_type": "code",
   "execution_count": 1,
   "metadata": {},
   "outputs": [
    {
     "data": {
      "text/plain": [
       "4"
      ]
     },
     "execution_count": 1,
     "metadata": {},
     "output_type": "execute_result"
    }
   ],
   "source": [
    "2+2"
   ]
  },
  {
   "cell_type": "markdown",
   "metadata": {},
   "source": [
    "Mientras que esta **celda** contiene texto con formato _Markdown_"
   ]
  },
  {
   "cell_type": "markdown",
   "metadata": {},
   "source": [
    "```\n",
    "Mientras que esta **celda** contiene texto con formato _Markdown_\n",
    "```"
   ]
  },
  {
   "cell_type": "markdown",
   "metadata": {},
   "source": [
    "Las siguientes celdas contienen distintos ejemplos en formato _Markdown_"
   ]
  },
  {
   "cell_type": "markdown",
   "metadata": {},
   "source": [
    "## Cabeceras"
   ]
  },
  {
   "cell_type": "markdown",
   "metadata": {},
   "source": [
    "```\n",
    "# Cabecera primer nivel\n",
    "## Cabecera segundo nivel\n",
    "### Cabecera tercer nivel\n",
    "#### Cabecera cuarto nivel\n",
    "##### Cabecera quinto nivel\n",
    "```"
   ]
  },
  {
   "cell_type": "markdown",
   "metadata": {},
   "source": [
    "# Cabecera primer nivel\n",
    "## Cabecera segundo nivel\n",
    "### Cabecera tercer nivel\n",
    "#### Cabecera cuarto nivel\n",
    "##### Cabecera quinto nivel"
   ]
  },
  {
   "cell_type": "markdown",
   "metadata": {},
   "source": [
    "## Formato del texto"
   ]
  },
  {
   "cell_type": "markdown",
   "metadata": {},
   "source": [
    "```\n",
    "**negrita**\n",
    "_itálica_\n",
    "`código`\n",
    "~~tachado~~\n",
    "> Cita\n",
    "```"
   ]
  },
  {
   "cell_type": "markdown",
   "metadata": {},
   "source": [
    "**negrita**\n",
    "\n",
    "_itálica_\n",
    "\n",
    "`código`\n",
    "\n",
    "~~tachado~~\n",
    "\n",
    "> Cita"
   ]
  },
  {
   "cell_type": "markdown",
   "metadata": {},
   "source": [
    "## Listas"
   ]
  },
  {
   "cell_type": "markdown",
   "metadata": {},
   "source": [
    "```\n",
    "* Item lista no numerada\n",
    "* Item lista no numerada\n",
    "...\n",
    "* Item lista no numerada\n",
    "```\n",
    "\n",
    "```\n",
    "1. Item lista numerada\n",
    "1. Item lista numerada\n",
    "...\n",
    "1. Item lista numerada\n",
    "```\n"
   ]
  },
  {
   "cell_type": "markdown",
   "metadata": {},
   "source": [
    "* Item lista no numerada\n",
    "* Item lista no numerada\n",
    "* Item lista no numerada\n",
    "\n",
    "\n",
    "1. Item lista numerada\n",
    "1. Item lista numerada\n",
    "1. Item lista numerada"
   ]
  },
  {
   "cell_type": "markdown",
   "metadata": {},
   "source": [
    "## Enlaces"
   ]
  },
  {
   "cell_type": "markdown",
   "metadata": {},
   "source": [
    "```\n",
    "[Página web de la UAM](https://www.uam.es)\n",
    "\n",
    "[Página web de la UAM](https://www.uam.es \"La UAM\")\n",
    "```"
   ]
  },
  {
   "cell_type": "markdown",
   "metadata": {},
   "source": [
    "[Página web de la UAM](https://www.uam.es)\n",
    "\n",
    "[Página web de la UAM](https://www.uam.es \"La UAM\")"
   ]
  },
  {
   "cell_type": "markdown",
   "metadata": {},
   "source": [
    "## Imágenes"
   ]
  },
  {
   "cell_type": "markdown",
   "metadata": {},
   "source": [
    "```\n",
    "![El logotipo de la UAM](www.uam.es/UAM/imagen/1233310437165/LOGO_UAM.png \"Logo UAM\")\n",
    "```"
   ]
  },
  {
   "cell_type": "markdown",
   "metadata": {},
   "source": [
    "![alt text](https://www.uam.es/UAM/imagen/1233310437165/LOGO_UAM.png \"Logo UAM\")"
   ]
  },
  {
   "cell_type": "markdown",
   "metadata": {},
   "source": [
    "## Atajos\n",
    "\n",
    "Los atajos son combinaciones de teclas que permiten realizar acciones sobre el _notebook_ evitando recurrir a los menús.\n",
    "\n",
    "El conjunto completo de atajos está accesible en:\n",
    "\n",
    "`Help > Keyboard Shorcut`\n",
    "\n",
    "Algunos de los más utilizados son:\n",
    "\n",
    "* Ejecutar una celda: `CRTL + ENTER`\n",
    "* Ejecutar una celda, y generar una nueva celda vacía: `ALT + ENTER`\n",
    "* Ejecutar una celda y seleccionar la siguiente: `SHIFT + ENTER`  \n",
    "* Cambiar el tipo de celda a texto: `ESC + m`\n",
    "* Cambiar el tipo de celda a código: `ESC + y`\n",
    "* Insertar un celda debajo: `ESC + b`\n",
    "* Insertar un celda debajo: `ESC + a`\n",
    "* Borrar una celda: `ESC + d + d`\n",
    "* Separar una celda: `CRTL + SHIFT + -`\n",
    "* Fusionar dos o más celdas seleccionadas: `SHIFT + M`"
   ]
  }
 ],
 "metadata": {
  "kernelspec": {
   "display_name": "Python 3",
   "language": "python",
   "name": "python3"
  },
  "language_info": {
   "codemirror_mode": {
    "name": "ipython",
    "version": 3
   },
   "file_extension": ".py",
   "mimetype": "text/x-python",
   "name": "python",
   "nbconvert_exporter": "python",
   "pygments_lexer": "ipython3",
   "version": "3.6.1"
  }
 },
 "nbformat": 4,
 "nbformat_minor": 2
}
