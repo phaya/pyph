{
 "cells": [
  {
   "cell_type": "markdown",
   "metadata": {},
   "source": [
    "## Diccionarios\n",
    "\n",
    "[Pablo A. Haya](https://pablohaya.com)"
   ]
  },
  {
   "cell_type": "markdown",
   "metadata": {},
   "source": [
    "Las listas son una estructura que permite guardar en una sola variable múltiples elementos. Cada elemento tiene una posición determinada que permite localizarlo dentro de la misma. \n",
    "\n",
    "Los diccionarios también permiten almacenar múltiples valores pero con la particularidad que cada valor se le asocía un nombre, usualmente denominada clave. Esta clave es lo que permite recuperar el valor, en vez de la posición.\n",
    "\n",
    "Los diccionarios se definen mediante los corchetes `{`y `}`. Cada elemento del diccionario se un par `clave`:`valor` donde la `clave`  tiene que se obligatóriamente una cadena de caracteres mientras que el `valor` puede ser de cualquier tipo. Los elementos del diccionaro se separan por comas, al igual que en las listas."
   ]
  },
  {
   "cell_type": "code",
   "execution_count": 2,
   "metadata": {
    "collapsed": true
   },
   "outputs": [],
   "source": [
    "poeta = {'apodo':'Rubén Darío', 'fechnac':[18,1,1867], 'latam':True}"
   ]
  },
  {
   "cell_type": "markdown",
   "metadata": {},
   "source": [
    "La variable `poeta` almacena un diccionario con tres elementos, cuyas claves son `apodo`, `fechanac`, y `latam`. Como podemos observar los valores pueden ser de distintos tipos. En el ejemplo, tenemos una cadena de caracteres `'Rubén Darío'`, una lista `[18,1,1867]`, y valor booleano `True`.\n",
    "\n",
    "Para recuperar una valor del diccionario se utiliza la misma sintaxis que con las listas y tuplas, pero empleando la clave en vez de la posición para referenciar al valor del elemento en cuestión."
   ]
  },
  {
   "cell_type": "code",
   "execution_count": 3,
   "metadata": {},
   "outputs": [
    {
     "name": "stdout",
     "output_type": "stream",
     "text": [
      "Rubén Darío\n"
     ]
    }
   ],
   "source": [
    "print(poeta['apodo'])"
   ]
  },
  {
   "cell_type": "markdown",
   "metadata": {},
   "source": [
    "**Pruéba tú mismo** Imprime el mes de nacimiento de Rubén Darío. "
   ]
  },
  {
   "cell_type": "markdown",
   "metadata": {},
   "source": [
    "Los diccionarios tiene distintos métodos muy útiles para poder operar con ellos. Por ejemplo, para obtener todas las claves del diccionario empleados `keys()`. "
   ]
  },
  {
   "cell_type": "code",
   "execution_count": 88,
   "metadata": {},
   "outputs": [
    {
     "name": "stdout",
     "output_type": "stream",
     "text": [
      "dict_keys(['apodo', 'fechnac', 'latam'])\n"
     ]
    }
   ],
   "source": [
    "print(poeta.keys())"
   ]
  },
  {
   "cell_type": "markdown",
   "metadata": {},
   "source": [
    "En cambio si lo que queremos son los valores utilizamos `values()`"
   ]
  },
  {
   "cell_type": "code",
   "execution_count": 89,
   "metadata": {},
   "outputs": [
    {
     "name": "stdout",
     "output_type": "stream",
     "text": [
      "dict_values(['Rubén Darío', (18, 1, 1867), True])\n"
     ]
    }
   ],
   "source": [
    "print(poeta.values())"
   ]
  },
  {
   "cell_type": "markdown",
   "metadata": {},
   "source": [
    "Mediante un bucle podemos imprimir todos los valores."
   ]
  },
  {
   "cell_type": "code",
   "execution_count": 90,
   "metadata": {},
   "outputs": [
    {
     "name": "stdout",
     "output_type": "stream",
     "text": [
      "Rubén Darío\n",
      "(18, 1, 1867)\n",
      "True\n"
     ]
    }
   ],
   "source": [
    "for v in poeta.values():\n",
    "    print(v)"
   ]
  },
  {
   "cell_type": "markdown",
   "metadata": {},
   "source": [
    "**Prueba tú mismo** Imprime todas las claves del diccionario."
   ]
  },
  {
   "cell_type": "markdown",
   "metadata": {},
   "source": [
    "A partir de las claves es posible siempre recuperar los valores."
   ]
  },
  {
   "cell_type": "code",
   "execution_count": 91,
   "metadata": {},
   "outputs": [
    {
     "name": "stdout",
     "output_type": "stream",
     "text": [
      "apodo -> Rubén Darío\n",
      "fechnac -> (18, 1, 1867)\n",
      "latam -> True\n"
     ]
    }
   ],
   "source": [
    "for k in poeta.keys():\n",
    "    print(k,\"->\", poeta[k])"
   ]
  },
  {
   "cell_type": "markdown",
   "metadata": {},
   "source": [
    "En el ejemplo anterior, la variable `k` va tomando cada clave del diccionario. En la expresión `d[k]`, `k` se sustituye por cada clave en concreto, obtiendo el valor correspondiente.\n",
    "\n",
    "De la misma manera que `enumerate()` devolvía las posiciones, y el valor, tenemos una manera más sencillo de recuperar todos los pares clave-valor con el método `items()`."
   ]
  },
  {
   "cell_type": "code",
   "execution_count": 92,
   "metadata": {},
   "outputs": [
    {
     "name": "stdout",
     "output_type": "stream",
     "text": [
      "apodo -> Rubén Darío\n",
      "fechnac -> (18, 1, 1867)\n",
      "latam -> True\n"
     ]
    }
   ],
   "source": [
    "for k,v in poeta.items():\n",
    "    print(k,'->', v)"
   ]
  },
  {
   "cell_type": "markdown",
   "metadata": {},
   "source": [
    "¿y si preguntamos por una clave que no existe en el diccionario?"
   ]
  },
  {
   "cell_type": "code",
   "execution_count": 93,
   "metadata": {},
   "outputs": [
    {
     "ename": "KeyError",
     "evalue": "'apellido'",
     "output_type": "error",
     "traceback": [
      "\u001b[0;31m---------------------------------------------------------------------------\u001b[0m",
      "\u001b[0;31mKeyError\u001b[0m                                  Traceback (most recent call last)",
      "\u001b[0;32m<ipython-input-93-28f2c0e79bf2>\u001b[0m in \u001b[0;36m<module>\u001b[0;34m\u001b[0m\n\u001b[0;32m----> 1\u001b[0;31m \u001b[0mpoeta\u001b[0m\u001b[0;34m[\u001b[0m\u001b[0;34m'apellido'\u001b[0m\u001b[0;34m]\u001b[0m\u001b[0;34m\u001b[0m\u001b[0m\n\u001b[0m",
      "\u001b[0;31mKeyError\u001b[0m: 'apellido'"
     ]
    }
   ],
   "source": [
    "poeta['apellido']"
   ]
  },
  {
   "cell_type": "markdown",
   "metadata": {},
   "source": [
    "El programa termina su ejecución ya que salta un error. Para evitar romper la ejecución es preciso comprobar primero si existe la clave con el operador `in`, y luego actuar en consecuencia."
   ]
  },
  {
   "cell_type": "code",
   "execution_count": 94,
   "metadata": {},
   "outputs": [
    {
     "name": "stdout",
     "output_type": "stream",
     "text": [
      "La clave apellido no existe\n"
     ]
    }
   ],
   "source": [
    "if 'apellido' in poeta.keys():\n",
    "    print(poeta['apellido'])\n",
    "else:\n",
    "    print(\"La clave apellido no existe\")"
   ]
  },
  {
   "cell_type": "markdown",
   "metadata": {},
   "source": [
    "## Ejercicios"
   ]
  },
  {
   "cell_type": "markdown",
   "metadata": {},
   "source": [
    "**1. Ejercicio** Dado el siguiente poema:\n",
    "\n",
    "```\n",
    "poema = [\"La\", \"verdad\", \"es\", \"que\", \n",
    "         \"grietas\", \n",
    "         \"no\", \"faltan\", \n",
    "         \"así\", \"al\", \"pasar\", \"recuerdo\", \n",
    "         \"las\", \"que\", \"separan\", \"a\", \"zurdos\", \"y\", \"diestros\", \n",
    "         \"a\", \"pequineses\", \"y\", \"moscovitas\", \n",
    "         \"a\", \"présbites\", \"y\", \"miopes\", \n",
    "         \"a\", \"gendarmes\", \"y\", \"prostitutas\", \n",
    "         \"a\", \"optimistas\", \"y\", \"abstemios\",\n",
    "         \"a\", \"sacerdotes\", \"y\", \"aduaneros\", \n",
    "         \"a\", \"exorcistas\", \"y\", \"maricones\",\n",
    "         \"a\", \"baratos\", \"e\", \"insobornables\",\n",
    "         \"a\", \"hijos\", \"pródigos\", \"y\", \"detectives\",\n",
    "         \"a\", \"Borges\", \"y\", \"Sábato\",\n",
    "         \"a\", \"mayúsculas\", \"y\", \"minúsculas\",\n",
    "         \"a\", \"pirotécnicos\", \"y\", \"bomberos\",\n",
    "         \"a\", \"mujeres\", \"y\", \"feministas\",\n",
    "         \"a\", \"acuarianos\", \"y\", \"taurinos\",\n",
    "         \"a\", \"profilácticos\", \"y\", \"revolucionarios\",\n",
    "         \"a\", \"vírgenes\", \"e\", \"impotentes\",\n",
    "         \"a\", \"agnósticos\", \"y\", \"monaguillos\",\n",
    "         \"a\", \"inmortales\", \"y\", \"suicidas\",\n",
    "         \"a\", \"franceses\", \"y\", \"no\", \"franceses\",\n",
    "         \"a\", \"corto\", \"o\", \"a\", \"larguísimo\", \"plazo\",\n",
    "         \"todas\", \"son\", \"sin\", \"embargo\",\n",
    "         \"remediables\",\n",
    "         \"hay\", \"una\", \"sola\", \"grieta\",\n",
    "         \"decididamente\", \"profunda\",\n",
    "         \"y\", \"es\", \"la\", \"que\", \"media\", \"entre\", \"la\", \"maravilla\", \"del\", \"hombre\",\n",
    "         \"y\", \"los\", \"desmaravilladores\",\n",
    "         \"aún\", \"es\", \"posible\", \"saltar\", \"de\", \"uno\", \"a\", \"otro\", \"borde\",\n",
    "         \"pero\", \"cuidado\",\n",
    "         \"aquí\", \"estamos\", \"todos\",\n",
    "         \"ustedes\", \"y\", \"nosotros\",\n",
    "         \"para\", \"ahondarla\",\n",
    "         \"señoras\", \"y\", \"señores\",\n",
    "         \"a\", \"elegir\",\n",
    "         \"a\", \"elegir\", \"de\", \"qué\", \"lado\",\n",
    "         \"ponen\", \"el\", \"pie.\"\n",
    "]\n",
    "```\n",
    "\n",
    "Imprimir el número de apariciones de cada palabra. Un posible extracto de la salida del programa es:\n",
    "\n",
    "```\n",
    "exorcistas 1\n",
    "ahondarla 1\n",
    "es 3\n",
    "no 2\n",
    "abstemios 1\n",
    "del 1\n",
    "larguísimo 1\n",
    "a 24\n",
    "```"
   ]
  },
  {
   "cell_type": "code",
   "execution_count": 1,
   "metadata": {},
   "outputs": [
    {
     "name": "stdout",
     "output_type": "stream",
     "text": [
      "La 1\n",
      "verdad 1\n",
      "es 3\n",
      "que 3\n",
      "grietas 1\n",
      "no 2\n",
      "faltan 1\n",
      "así 1\n",
      "al 1\n",
      "pasar 1\n",
      "recuerdo 1\n",
      "las 1\n",
      "separan 1\n",
      "a 24\n",
      "zurdos 1\n",
      "y 21\n",
      "diestros 1\n",
      "pequineses 1\n",
      "moscovitas 1\n",
      "présbites 1\n",
      "miopes 1\n",
      "gendarmes 1\n",
      "prostitutas 1\n",
      "optimistas 1\n",
      "abstemios 1\n",
      "sacerdotes 1\n",
      "aduaneros 1\n",
      "exorcistas 1\n",
      "maricones 1\n",
      "baratos 1\n",
      "e 2\n",
      "insobornables 1\n",
      "hijos 1\n",
      "pródigos 1\n",
      "detectives 1\n",
      "Borges 1\n",
      "Sábato 1\n",
      "mayúsculas 1\n",
      "minúsculas 1\n",
      "pirotécnicos 1\n",
      "bomberos 1\n",
      "mujeres 1\n",
      "feministas 1\n",
      "acuarianos 1\n",
      "taurinos 1\n",
      "profilácticos 1\n",
      "revolucionarios 1\n",
      "vírgenes 1\n",
      "impotentes 1\n",
      "agnósticos 1\n",
      "monaguillos 1\n",
      "inmortales 1\n",
      "suicidas 1\n",
      "franceses 2\n",
      "corto 1\n",
      "o 1\n",
      "larguísimo 1\n",
      "plazo 1\n",
      "todas 1\n",
      "son 1\n",
      "sin 1\n",
      "embargo 1\n",
      "remediables 1\n",
      "hay 1\n",
      "una 1\n",
      "sola 1\n",
      "grieta 1\n",
      "decididamente 1\n",
      "profunda 1\n",
      "la 2\n",
      "media 1\n",
      "entre 1\n",
      "maravilla 1\n",
      "del 1\n",
      "hombre 1\n",
      "los 1\n",
      "desmaravilladores 1\n",
      "aún 1\n",
      "posible 1\n",
      "saltar 1\n",
      "de 2\n",
      "uno 1\n",
      "otro 1\n",
      "borde 1\n",
      "pero 1\n",
      "cuidado 1\n",
      "aquí 1\n",
      "estamos 1\n",
      "todos 1\n",
      "ustedes 1\n",
      "nosotros 1\n",
      "para 1\n",
      "ahondarla 1\n",
      "señoras 1\n",
      "señores 1\n",
      "elegir 2\n",
      "qué 1\n",
      "lado 1\n",
      "ponen 1\n",
      "el 1\n",
      "pie. 1\n"
     ]
    }
   ],
   "source": [
    "poema = [\"La\", \"verdad\", \"es\", \"que\", \n",
    "         \"grietas\", \n",
    "         \"no\", \"faltan\", \n",
    "         \"así\", \"al\", \"pasar\", \"recuerdo\", \n",
    "         \"las\", \"que\", \"separan\", \"a\", \"zurdos\", \"y\", \"diestros\", \n",
    "         \"a\", \"pequineses\", \"y\", \"moscovitas\", \n",
    "         \"a\", \"présbites\", \"y\", \"miopes\", \n",
    "         \"a\", \"gendarmes\", \"y\", \"prostitutas\", \n",
    "         \"a\", \"optimistas\", \"y\", \"abstemios\",\n",
    "         \"a\", \"sacerdotes\", \"y\", \"aduaneros\", \n",
    "         \"a\", \"exorcistas\", \"y\", \"maricones\",\n",
    "         \"a\", \"baratos\", \"e\", \"insobornables\",\n",
    "         \"a\", \"hijos\", \"pródigos\", \"y\", \"detectives\",\n",
    "         \"a\", \"Borges\", \"y\", \"Sábato\",\n",
    "         \"a\", \"mayúsculas\", \"y\", \"minúsculas\",\n",
    "         \"a\", \"pirotécnicos\", \"y\", \"bomberos\",\n",
    "         \"a\", \"mujeres\", \"y\", \"feministas\",\n",
    "         \"a\", \"acuarianos\", \"y\", \"taurinos\",\n",
    "         \"a\", \"profilácticos\", \"y\", \"revolucionarios\",\n",
    "         \"a\", \"vírgenes\", \"e\", \"impotentes\",\n",
    "         \"a\", \"agnósticos\", \"y\", \"monaguillos\",\n",
    "         \"a\", \"inmortales\", \"y\", \"suicidas\",\n",
    "         \"a\", \"franceses\", \"y\", \"no\", \"franceses\",\n",
    "         \"a\", \"corto\", \"o\", \"a\", \"larguísimo\", \"plazo\",\n",
    "         \"todas\", \"son\", \"sin\", \"embargo\",\n",
    "         \"remediables\",\n",
    "         \"hay\", \"una\", \"sola\", \"grieta\",\n",
    "         \"decididamente\", \"profunda\",\n",
    "         \"y\", \"es\", \"la\", \"que\", \"media\", \"entre\", \"la\", \"maravilla\", \"del\", \"hombre\",\n",
    "         \"y\", \"los\", \"desmaravilladores\",\n",
    "         \"aún\", \"es\", \"posible\", \"saltar\", \"de\", \"uno\", \"a\", \"otro\", \"borde\",\n",
    "         \"pero\", \"cuidado\",\n",
    "         \"aquí\", \"estamos\", \"todos\",\n",
    "         \"ustedes\", \"y\", \"nosotros\",\n",
    "         \"para\", \"ahondarla\",\n",
    "         \"señoras\", \"y\", \"señores\",\n",
    "         \"a\", \"elegir\",\n",
    "         \"a\", \"elegir\", \"de\", \"qué\", \"lado\",\n",
    "         \"ponen\", \"el\", \"pie.\"\n",
    "]\n",
    "\n",
    "contador = {}\n",
    "for palabra in poema:\n",
    "    if palabra in contador:\n",
    "        contador[palabra] = contador[palabra] + 1\n",
    "    else:\n",
    "        contador[palabra] = 1\n",
    "\n",
    "for k,v in contador.items():\n",
    "    print(k, v)"
   ]
  }
 ],
 "metadata": {
  "kernelspec": {
   "display_name": "Python 3",
   "language": "python",
   "name": "python3"
  },
  "language_info": {
   "codemirror_mode": {
    "name": "ipython",
    "version": 3
   },
   "file_extension": ".py",
   "mimetype": "text/x-python",
   "name": "python",
   "nbconvert_exporter": "python",
   "pygments_lexer": "ipython3",
   "version": "3.6.1"
  }
 },
 "nbformat": 4,
 "nbformat_minor": 1
}
