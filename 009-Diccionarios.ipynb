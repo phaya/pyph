{
 "cells": [
  {
   "cell_type": "markdown",
   "metadata": {},
   "source": [
    "## Diccionarios\n",
    "\n",
    "[Pablo A. Haya](https://pablohaya.com)"
   ]
  },
  {
   "cell_type": "markdown",
   "metadata": {},
   "source": [
    "Las listas son una estructura que permite guardar en una sola variable múltiples elementos. Cada elemento tiene una posición determinada que permite localizarlo dentro de la misma. \n",
    "\n",
    "Los diccionarios también permiten almacenar múltiples valores pero con la particularidad que cada valor se le asocía un nombre, usualmente denominada clave. Esta clave es lo que permite recuperar el valor, en vez de la posición.\n",
    "\n",
    "Los diccionarios se definen mediante los corchetes `{`y `}`. Cada elemento del diccionario se un par `clave`:`valor` donde la `clave`  tiene que se obligatóriamente una cadena de caracteres mientras que el `valor` puede ser de cualquier tipo. Los elementos del diccionaro se separan por comas, al igual que en las listas."
   ]
  },
  {
   "cell_type": "code",
   "execution_count": null,
   "metadata": {
    "collapsed": true
   },
   "outputs": [],
   "source": [
    "poeta = {'apodo':'Rubén Darío', 'fechnac':[18,1,1867], 'latam':True}"
   ]
  },
  {
   "cell_type": "markdown",
   "metadata": {},
   "source": [
    "La variable `poeta` almacena un diccionario con tres elementos, cuyas claves son `apodo`, `fechanac`, y `latam`. Como podemos observar los valores pueden ser de distintos tipos. En el ejemplo, tenemos una cadena de caracteres `'Rubén Darío'`, una lista `[18,1,1867]`, y valor booleano `True`.\n",
    "\n",
    "Para recuperar una valor del diccionario se utiliza la misma sintaxis que con las listas y tuplas, pero empleando la clave en vez de la posición para referenciar al valor del elemento en cuestión."
   ]
  },
  {
   "cell_type": "code",
   "execution_count": null,
   "metadata": {},
   "outputs": [],
   "source": [
    "print(poeta['apodo'])"
   ]
  },
  {
   "cell_type": "markdown",
   "metadata": {},
   "source": [
    "**Pruéba tú mismo** Imprime el mes de nacimiento de Rubén Darío. "
   ]
  },
  {
   "cell_type": "markdown",
   "metadata": {},
   "source": [
    "Los diccionarios tiene distintos métodos muy útiles para poder operar con ellos. Por ejemplo, para obtener todas las claves del diccionario empleados `keys()`. "
   ]
  },
  {
   "cell_type": "code",
   "execution_count": null,
   "metadata": {},
   "outputs": [],
   "source": [
    "print(poeta.keys())"
   ]
  },
  {
   "cell_type": "markdown",
   "metadata": {},
   "source": [
    "En cambio si lo que queremos son los valores utilizamos `values()`"
   ]
  },
  {
   "cell_type": "code",
   "execution_count": null,
   "metadata": {},
   "outputs": [],
   "source": [
    "print(poeta.values())"
   ]
  },
  {
   "cell_type": "markdown",
   "metadata": {},
   "source": [
    "Mediante un bucle podemos imprimir todos los valores."
   ]
  },
  {
   "cell_type": "code",
   "execution_count": null,
   "metadata": {},
   "outputs": [],
   "source": [
    "for v in poeta.values():\n",
    "    print(v)"
   ]
  },
  {
   "cell_type": "markdown",
   "metadata": {},
   "source": [
    "**Prueba tú mismo** Imprime todas las claves del diccionario."
   ]
  },
  {
   "cell_type": "markdown",
   "metadata": {},
   "source": [
    "A partir de las claves es posible siempre recuperar los valores."
   ]
  },
  {
   "cell_type": "code",
   "execution_count": null,
   "metadata": {},
   "outputs": [],
   "source": [
    "for k in poeta.keys():\n",
    "    print(k,\"->\", poeta[k])"
   ]
  },
  {
   "cell_type": "markdown",
   "metadata": {},
   "source": [
    "En el ejemplo anterior, la variable `k` va tomando cada clave del diccionario. En la expresión `d[k]`, `k` se sustituye por cada clave en concreto, obtiendo el valor correspondiente.\n",
    "\n",
    "De la misma manera que `enumerate()` devolvía las posiciones, y el valor, tenemos una manera más sencillo de recuperar todos los pares clave-valor con el método `items()`."
   ]
  },
  {
   "cell_type": "code",
   "execution_count": null,
   "metadata": {},
   "outputs": [],
   "source": [
    "for k,v in poeta.items():\n",
    "    print(k,'->', v)"
   ]
  },
  {
   "cell_type": "markdown",
   "metadata": {},
   "source": [
    "¿y si preguntamos por una clave que no existe en el diccionario?"
   ]
  },
  {
   "cell_type": "code",
   "execution_count": null,
   "metadata": {},
   "outputs": [],
   "source": [
    "poeta['apellido']"
   ]
  },
  {
   "cell_type": "markdown",
   "metadata": {},
   "source": [
    "El programa termina su ejecución ya que salta un error. Para evitar romper la ejecución es preciso comprobar primero si existe la clave con el operador `in`, y luego actuar en consecuencia."
   ]
  },
  {
   "cell_type": "code",
   "execution_count": null,
   "metadata": {},
   "outputs": [],
   "source": [
    "if 'apellido' in poeta.keys():\n",
    "    print(poeta['apellido'])\n",
    "else:\n",
    "    print(\"La clave apellido no existe\")"
   ]
  },
  {
   "cell_type": "markdown",
   "metadata": {},
   "source": [
    "## Ejercicios"
   ]
  },
  {
   "cell_type": "markdown",
   "metadata": {},
   "source": [
    "**1. Ejercicio** Dado el siguiente poema:\n",
    "\n",
    "```\n",
    "poema = [\"La\", \"verdad\", \"es\", \"que\", \n",
    "         \"grietas\", \n",
    "         \"no\", \"faltan\", \n",
    "         \"así\", \"al\", \"pasar\", \"recuerdo\", \n",
    "         \"las\", \"que\", \"separan\", \"a\", \"zurdos\", \"y\", \"diestros\", \n",
    "         \"a\", \"pequineses\", \"y\", \"moscovitas\", \n",
    "         \"a\", \"présbites\", \"y\", \"miopes\", \n",
    "         \"a\", \"gendarmes\", \"y\", \"prostitutas\", \n",
    "         \"a\", \"optimistas\", \"y\", \"abstemios\",\n",
    "         \"a\", \"sacerdotes\", \"y\", \"aduaneros\", \n",
    "         \"a\", \"exorcistas\", \"y\", \"maricones\",\n",
    "         \"a\", \"baratos\", \"e\", \"insobornables\",\n",
    "         \"a\", \"hijos\", \"pródigos\", \"y\", \"detectives\",\n",
    "         \"a\", \"Borges\", \"y\", \"Sábato\",\n",
    "         \"a\", \"mayúsculas\", \"y\", \"minúsculas\",\n",
    "         \"a\", \"pirotécnicos\", \"y\", \"bomberos\",\n",
    "         \"a\", \"mujeres\", \"y\", \"feministas\",\n",
    "         \"a\", \"acuarianos\", \"y\", \"taurinos\",\n",
    "         \"a\", \"profilácticos\", \"y\", \"revolucionarios\",\n",
    "         \"a\", \"vírgenes\", \"e\", \"impotentes\",\n",
    "         \"a\", \"agnósticos\", \"y\", \"monaguillos\",\n",
    "         \"a\", \"inmortales\", \"y\", \"suicidas\",\n",
    "         \"a\", \"franceses\", \"y\", \"no\", \"franceses\",\n",
    "         \"a\", \"corto\", \"o\", \"a\", \"larguísimo\", \"plazo\",\n",
    "         \"todas\", \"son\", \"sin\", \"embargo\",\n",
    "         \"remediables\",\n",
    "         \"hay\", \"una\", \"sola\", \"grieta\",\n",
    "         \"decididamente\", \"profunda\",\n",
    "         \"y\", \"es\", \"la\", \"que\", \"media\", \"entre\", \"la\", \"maravilla\", \"del\", \"hombre\",\n",
    "         \"y\", \"los\", \"desmaravilladores\",\n",
    "         \"aún\", \"es\", \"posible\", \"saltar\", \"de\", \"uno\", \"a\", \"otro\", \"borde\",\n",
    "         \"pero\", \"cuidado\",\n",
    "         \"aquí\", \"estamos\", \"todos\",\n",
    "         \"ustedes\", \"y\", \"nosotros\",\n",
    "         \"para\", \"ahondarla\",\n",
    "         \"señoras\", \"y\", \"señores\",\n",
    "         \"a\", \"elegir\",\n",
    "         \"a\", \"elegir\", \"de\", \"qué\", \"lado\",\n",
    "         \"ponen\", \"el\", \"pie.\"\n",
    "]\n",
    "```\n",
    "\n",
    "Imprimir el número de apariciones de cada palabra. Un posible extracto de la salida del programa es:\n",
    "\n",
    "```\n",
    "exorcistas 1\n",
    "ahondarla 1\n",
    "es 3\n",
    "no 2\n",
    "abstemios 1\n",
    "del 1\n",
    "larguísimo 1\n",
    "a 24\n",
    "```"
   ]
  }
 ],
 "metadata": {
  "kernelspec": {
   "display_name": "Python 3",
   "language": "python",
   "name": "python3"
  },
  "language_info": {
   "codemirror_mode": {
    "name": "ipython",
    "version": 3
   },
   "file_extension": ".py",
   "mimetype": "text/x-python",
   "name": "python",
   "nbconvert_exporter": "python",
   "pygments_lexer": "ipython3",
   "version": "3.6.1"
  }
 },
 "nbformat": 4,
 "nbformat_minor": 1
}
