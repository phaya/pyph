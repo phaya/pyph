{
 "cells": [
  {
   "cell_type": "markdown",
   "metadata": {},
   "source": [
    "# Funciones\n",
    "\n",
    "[Pablo A. Haya](https://pablohaya.com)"
   ]
  },
  {
   "cell_type": "markdown",
   "metadata": {},
   "source": [
    "Las funciones son, sin duda, un elemento básico de cualquier lenguaje de programación. Python viene provisto de un [conjunto de funciones por defecto](https://docs.python.org/3/library/functions.html) listas para poder usarse. Ya hemos visto dos ejemplos: `print()` y `len()`. \n",
    "\n",
    "Veamos como se interpreta y se utiliza una función más en detalle. Pongamos por caso la función `round()` que si consultamos [la documentación](https://docs.python.org/3/library/functions.html#round) aparece:\n",
    "\n",
    "    round(number[, ndigits])\n",
    "\n",
    "    Return number rounded to ndigits precision after the decimal point. If ndigits is omitted or is None, it returns the nearest integer to its input.\n",
    "\n",
    "Las funciones se componen de un nombre y una lista de parámetros. En este caso el nombre es `round`, y los parámetros son `number`, y `ndigits`. Mientras que la función `len()` sólo tiene un parámetro, `round()` tiene dos. En general, una función puede tener un número arbitrario de parámetros. Cuando invocamos a la función tenemos que poner algún valor en cada parámetro, y según estos valores la función devolverá un resultado distinto\n",
    "\n",
    "En el caso de `round()`, la función devuelve el número incluido en 'number' redondeado tantos dígitos como indica `ndigits`. En el siguiente ejemplo vemos como se utiliza:"
   ]
  },
  {
   "cell_type": "code",
   "execution_count": null,
   "metadata": {
    "collapsed": true
   },
   "outputs": [],
   "source": [
    "print(2/3)\n",
    "print(round(2/3, 4))"
   ]
  },
  {
   "cell_type": "markdown",
   "metadata": {},
   "source": [
    "Puede ocurrir, como en el caso de `round()` que alguno de los parámetros sea opcional. Esto se indica porque en la documentación aparecen entre corchetes, como es el caso de `ndigits`. Así, podemos invocar `round()` unicamente con un número."
   ]
  },
  {
   "cell_type": "code",
   "execution_count": null,
   "metadata": {
    "collapsed": true
   },
   "outputs": [],
   "source": [
    "round(2/3)"
   ]
  },
  {
   "cell_type": "markdown",
   "metadata": {},
   "source": [
    "y, tal como indica la documentación, nos devuelve el entero más cercano, ya que es cómo si hubieramos llamada a la función con `ndigits = 0`.\n",
    "\n",
    "Otra función muy útil cuando estamos aprendiendo a programar es `help()` que nos imprime la documentación de cómo se utilizan otras funciones."
   ]
  },
  {
   "cell_type": "code",
   "execution_count": null,
   "metadata": {
    "collapsed": true
   },
   "outputs": [],
   "source": [
    "help(round)"
   ]
  },
  {
   "cell_type": "markdown",
   "metadata": {},
   "source": [
    "**Prueba tú mismo**. Comprueba los resultados de llamar a `round()` con el número de decimales a 0, y llamar a la función omitiendo el segundo parámetro, como en la celda anterior."
   ]
  },
  {
   "cell_type": "code",
   "execution_count": null,
   "metadata": {
    "collapsed": true
   },
   "outputs": [],
   "source": [
    "print(round(2/3, ndigits=0))\n",
    "print(round(2/3))"
   ]
  },
  {
   "cell_type": "markdown",
   "metadata": {},
   "source": [
    "El número de funciones que disponemos es enorme aunque lista para usar sólo tengamos la lista anterior. El resto se encuentran organizadas en módulos que son ficheros que agrupan funciones de temática similar. Python dispone de módulos para [cualquier cosa que se nos ocurra](https://docs.python.org/3/library/index.html) (operaciones matemáticas, procesamiento de textos, fechas, número aleatorios, criptografía...), y los que no encontremos seguro que nos puede ayudar Internet a localizar a alguien que haya programada una función similar a la que necesitamos.\n",
    "\n",
    "Para poder utilizar una función que se encuentra en un módulo es preciso importarlo (`import`) primero. Por ejemplo, si queremos utilizar `randint()` que es una función que genera números enteros al azar dentro de un rango dado, tenemos que importarla del módulo `random` que es donde se encuentra:  "
   ]
  },
  {
   "cell_type": "code",
   "execution_count": 32,
   "metadata": {},
   "outputs": [
    {
     "name": "stdout",
     "output_type": "stream",
     "text": [
      "85\n",
      "57\n"
     ]
    }
   ],
   "source": [
    "from random import randint\n",
    "\n",
    "n = randint(1, 100)\n",
    "print(n)\n",
    "n = randint(1, 100)\n",
    "print(n)"
   ]
  },
  {
   "cell_type": "markdown",
   "metadata": {},
   "source": [
    "\n",
    "Iremos viendo poco a poco distintas funciones que son muy útiles, y conociendo en que módulos se encuentran ubicadas. Para terminar manejando correctamente un lenguaje de programación es preciso conocer en profundidad los módulos que viene por defecto, lo que se suele llamar la **biblioteca estándar**, lo cual requiere mucha práctica y horas de programación. Piensa que las funciones encapsulan código que otros han considerado útil y han probado, ahorrando mucho tiempo ya que nos permite reutilizar código de manera sencilla y segura."
   ]
  },
  {
   "cell_type": "markdown",
   "metadata": {},
   "source": [
    "---\n",
    "\n",
    "**Para saber más**. \n",
    "\n",
    "Las funciones disponibles en el módulo `random` generan número _pseudoaleatorios_. Prueba el siguiente experimento para ver lo que significa.\n",
    "\n",
    "1. Importa la función `seed` del módulo `random`\n",
    "* Añade como primer instrucción la siguiente línea `seed(0)`.\n",
    "* Ejecuta la celda anterior, y anota los dos números que se imprimen.\n",
    "* Repite el paso 3 todas las veces que quieras.\n",
    "\n",
    "Puedes ejecutar el código hasta que te aburras, que siempre te saldrán los mismos dos números. Python, y cualquier lenguaje, genera secuencias de número aleatorios a partir de un número entero denominado semilla. Para cada semilla siempre se genera la misma secuencia de números aleatorios. \n",
    "\n",
    "La función `seed()` permite fijar una semilla de manera que siempre se genera la misma secuencia de número aleatorios. Pruebas a cambiar la semilla de 0, a otro número, y repite el experimiento. Si no se define la semilla, como estaba en el código original, ésta se calcula empleando la reloj del sistema, de manera que cada vez se obtiene una semilla distinta.\n",
    "\n",
    "El poder fijar la semilla permite realizar pruebas que sean reproducibles, ya que aunque la secuencia sea aleatoria, siempre se obtiene la mismas. De esta manera, es más sencillo encontrar posibles fallos en un código que necesite utilizar números aleatorios."
   ]
  },
  {
   "cell_type": "markdown",
   "metadata": {},
   "source": [
    "## Ejercicios"
   ]
  },
  {
   "cell_type": "markdown",
   "metadata": {},
   "source": [
    "**1. Ejercicio** Calcular cuantos libros caben en un lector de ebook de 16 GB si cada libro ocupa 2 MB. Imprimir el resultado siguiendo un formato comprensible.\n",
    "\n",
    "La salida que se espera sería:\n",
    "\n",
    "`8192 libros`\n",
    "\n",
    "Pista: \n",
    "\n",
    "Un Gigabyte (GB) son $2^{30}$ bytes, mientras que un Megabyte (MB) son $2^{20}$ bytes."
   ]
  },
  {
   "cell_type": "code",
   "execution_count": 2,
   "metadata": {},
   "outputs": [
    {
     "data": {
      "text/plain": [
       "'8192 libros'"
      ]
     },
     "execution_count": 2,
     "metadata": {},
     "output_type": "execute_result"
    }
   ],
   "source": [
    "str(round((16*2**30)/(2*2**20))) + ' libros'"
   ]
  },
  {
   "cell_type": "markdown",
   "metadata": {},
   "source": [
    "**2. Ejercicio** Imprimir una risotada donde el número de carcajadas (`'ja'`) se escoja aleatoriamente entre 10 y 200."
   ]
  },
  {
   "cell_type": "code",
   "execution_count": 3,
   "metadata": {},
   "outputs": [
    {
     "data": {
      "text/plain": [
       "'jajajajajajajajajajajajajajajajajajajajajajajajajajajajajajajajajajajajajajajajajajajajajajajajajajajajajajajajajajajajajajajajajajajajajajajajajajajajajajajajajajajajajajajajajajajajajajajajajajajajajajajajajajajajajajajajajajajajajajajajajajajajajajajajajajajajajajajajajajajajajajajajajajajajajajajajajajajajajajajajajajajajajajajajaja'"
      ]
     },
     "execution_count": 3,
     "metadata": {},
     "output_type": "execute_result"
    }
   ],
   "source": [
    "from random import randint\n",
    "\n",
    "'ja'*randint(10, 200)"
   ]
  }
 ],
 "metadata": {
  "kernelspec": {
   "display_name": "Python 3",
   "language": "python",
   "name": "python3"
  },
  "language_info": {
   "codemirror_mode": {
    "name": "ipython",
    "version": 3
   },
   "file_extension": ".py",
   "mimetype": "text/x-python",
   "name": "python",
   "nbconvert_exporter": "python",
   "pygments_lexer": "ipython3",
   "version": "3.6.1"
  }
 },
 "nbformat": 4,
 "nbformat_minor": 1
}
