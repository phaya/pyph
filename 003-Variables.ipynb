{
 "cells": [
  {
   "cell_type": "markdown",
   "metadata": {},
   "source": [
    "# Variables\n",
    "\n",
    "[Pablo A. Haya](https://pablohaya.com)"
   ]
  },
  {
   "cell_type": "markdown",
   "metadata": {},
   "source": [
    "Podemos realizar todas las operaciones que se nos vengan a la cabeza, y podemos decir que estamos programando, pero no podremos hacer programas realmente interesantes si no utilizamos **variables**. \n",
    "\n",
    "Una variable es un espacio del programa donde podemos almacenar datos, que bien los podemos definir nosotros, pueden ser el resultado de una función o incluso leerlos de un fichero o de una página web.\n",
    "\n",
    "Cada variable se le denomina con un nombre que permite, en cualquier momento, utilizarlo para recuperar el valor que almacenca. Veamos un ejemplo:"
   ]
  },
  {
   "cell_type": "code",
   "execution_count": 19,
   "metadata": {},
   "outputs": [
    {
     "name": "stdout",
     "output_type": "stream",
     "text": [
      "3\n"
     ]
    }
   ],
   "source": [
    "n = 3\n",
    "print(n)"
   ]
  },
  {
   "cell_type": "markdown",
   "metadata": {},
   "source": [
    "En la celda anterior han ocurrido varias cosas. Primeramente hemos declarado una variable que hemos llamado `n`, y le hemos asignado un valor `3`. Para ello hemos utilizado el operador `=` que al contrario de lo que nos han enseñado no significada *igual a*, sino que asigna un dato a una variable. \n",
    "\n",
    "Esta variable almacenerá el valor asignado durante todo el programa mientras que no lo cambiemos, y siempre que hagamos referencia a la variable es como si hicieramos referencia al dato que almacena. Así, la línea `print(n)` imprime en esta caso un `3` ya que sustituye el nombre de la variable por el valor que almacena.\n",
    "\n",
    "Veamos como cambiando el valor de la variable se modifica la salida de la función `print`."
   ]
  },
  {
   "cell_type": "code",
   "execution_count": 20,
   "metadata": {},
   "outputs": [
    {
     "name": "stdout",
     "output_type": "stream",
     "text": [
      "3\n",
      "7\n"
     ]
    }
   ],
   "source": [
    "n = 3\n",
    "print(n)\n",
    "n = 7\n",
    "print(n)"
   ]
  },
  {
   "cell_type": "markdown",
   "metadata": {},
   "source": [
    "**Prueba tú mismo**. Borra la primera instrucción `print(n)`, y vuelve ejecutar el código anterior ¿percibes algún cambio? ¿por qué no?"
   ]
  },
  {
   "cell_type": "markdown",
   "metadata": {},
   "source": [
    "Podemos realizar operaciones también con las variables, y guardar los resultados en nuevas variables"
   ]
  },
  {
   "cell_type": "code",
   "execution_count": 21,
   "metadata": {},
   "outputs": [
    {
     "name": "stdout",
     "output_type": "stream",
     "text": [
      "63.652748107910156\n"
     ]
    }
   ],
   "source": [
    "num_caracteres = 8343093\n",
    "tam_libro = num_caracteres * 8 / (1024*1024)\n",
    "print(tam_libro)"
   ]
  },
  {
   "cell_type": "markdown",
   "metadata": {},
   "source": [
    "En la anterior celda, obtenemos el tamaño en Megabytes que ocupan 8343093 caracteres, que son el número de caracteres que tiene El Quijote. Cada caracter ocupa 8 bytes con lo que multiplicamos el número de caracteres por 8. Para pasar a Megabyte dividimos por 1024*1024 bytes, que son el número de bytes que hay en un MB. El resultado lo guardamos en la variable `tam_libro`, e imprimimos."
   ]
  },
  {
   "cell_type": "markdown",
   "metadata": {},
   "source": [
    "**Prueba tú mismo**. ¿Cuántos Quijotes caben en un lector de libros electronicos de 8 GB de capacidad? Cálcula, en una primera línea de código, la capacidad del lector en MB, y guárdalo en una variable denominada `tam_ereader`. Una pista: un GB son 1024 MB. En la siguiente línea puedes imprimir el resultado dividiendo por el tamaño que ocupa cada Quijote calculado anteriormente."
   ]
  },
  {
   "cell_type": "code",
   "execution_count": 22,
   "metadata": {},
   "outputs": [
    {
     "name": "stdout",
     "output_type": "stream",
     "text": [
      "128.69829258765304\n"
     ]
    }
   ],
   "source": [
    "# Solución\n",
    "tam_ereader = 8 * 1024\n",
    "print(tam_ereader / tam_libro)"
   ]
  },
  {
   "cell_type": "markdown",
   "metadata": {},
   "source": [
    "---\n",
    "\n",
    "**Para saber más**\n",
    "\n",
    "Podemos crear tantas variables como queramos, lo único que tenemos que ser cuidadosos con los nombres que elegimos para que sea más fácil entender el código. Con una o dos variables no hay problema, pero si tenemos, pongamos cien, es realmente complicado saber para que sirve cada variable, y recordar que almacena si no tienen nombres significativos. Así, evitemos la tentación de nombrar las variables con las letras del abecedario, o con una letra con números sucesivos (a1, a2, a3...), y esforzemos un poco en poner nombres que signifiquen algo. \n",
    "\n",
    "Desafortunadamente no podemos utizar todos los caracteres que queramos en el nombre de una variable, así la `ñ` o lo caracteres acentuados están prohibidos. Tampoco pueda en empezar con un número, aunque si pueden contenerlos. En caso de que el nombre esté compuesta de varias palabras es habitual separarlas por `_` a modo de espacio, por ejempo, `texto_en_verso` podría ser un nombre válido mientras que `año` o `título` no lo son. Si no sabemos que nombre escoger si que existen algunos convenciones que todo el mundo utiliza, y que iremos viendo a lo largo del curso.  \n",
    "\n",
    "A la máquina realmente este tema no le importa mucho, va interpretar el programa independientemente del nombre que pongamos a las variables, pero, aunque suene un tanto paradójico, los programas que hagamos no solamente son interpretados por una máquina, sino también por otras personas que quieren usuarlos y modificarlos por ellos mismos, o por nosotros mismos en un futuro. Así que seamos claros cuando programemos.\n",
    "\n",
    "Esta propiedad del código fuente se denomina **legibilidad** y, afortunadamente, Python es uno de los lenguajes de programación que más cuidada que los programas sean legibles.\n",
    "\n",
    "---"
   ]
  },
  {
   "cell_type": "markdown",
   "metadata": {},
   "source": [
    "## Ejercicios"
   ]
  },
  {
   "cell_type": "markdown",
   "metadata": {},
   "source": [
    "**1. Ejercicio** La prueba de legibilidad de Flesch-Kincaid es un prueba desarrollada en 1975 para medir la facilidad de comprensión de un texto en inglés. \n",
    "\n",
    "$FRES=206.835 - 1.015 · (\\frac{total\\_words}{total\\_sentences}) - 84.6 · (\\frac{total\\_syllables}{total\\_words})$\n",
    "\n",
    "donde\n",
    "\n",
    "$FRES$ = _Flesch Reading-Ease Score_ (Puntuación de la prueba de legibilidad de Flesch-Kincaid)\n",
    "\n",
    "$total\\_words$ = número total de palabras en el texto\n",
    "\n",
    "$total\\_sentences$ = número total de sentencias\n",
    "\n",
    "$total\\_syllables$ = número de sílabas en el texto\n",
    "\n",
    "Calcular y almacenar en una variable `fres`, la puntuación de la prueba dado las siguientes métricas obtenidas de un extracto periodístico:\n",
    "\n",
    "```\n",
    "total_words = 139\n",
    "total_sentence = 4\n",
    "total_syllables = 226\n",
    "```\n",
    "\n",
    "El resultado debería ser:\n",
    "\n",
    "```\n",
    "print(fres)\n",
    "34.01267086330938\n",
    "```\n",
    "\n",
    "\n",
    "Kincaid, J.P., Fishburne, R.P., Rogers, R.L., & Chissom, B.S. (1975). Derivation of new readability formulas (automated readability index, fog count, and flesch reading ease formula) for Navy enlisted personnel. Research Branch Report 8–75. Chief of Naval Technical Training: Naval Air Station Memphis."
   ]
  },
  {
   "cell_type": "code",
   "execution_count": 11,
   "metadata": {},
   "outputs": [
    {
     "name": "stdout",
     "output_type": "stream",
     "text": [
      "34.01267086330938\n"
     ]
    }
   ],
   "source": [
    "total_words = 139\n",
    "total_sentence = 4\n",
    "total_syllables = 226\n",
    "\n",
    "# ASL = average sentence length (number of words divided by number of sentences)\n",
    "asl = total_words / total_sentence\n",
    "# ASW = average word length in syllables (number of syllables divided by number of words)\n",
    "asw = total_syllables / total_words\n",
    "\n",
    "fres = 206.835 - (1.015 * asl) - (84.6 * asw)\n",
    "print(fres)"
   ]
  }
 ],
 "metadata": {
  "kernelspec": {
   "display_name": "Python 3",
   "language": "python",
   "name": "python3"
  },
  "language_info": {
   "codemirror_mode": {
    "name": "ipython",
    "version": 3
   },
   "file_extension": ".py",
   "mimetype": "text/x-python",
   "name": "python",
   "nbconvert_exporter": "python",
   "pygments_lexer": "ipython3",
   "version": "3.6.1"
  }
 },
 "nbformat": 4,
 "nbformat_minor": 1
}
