{
 "cells": [
  {
   "cell_type": "markdown",
   "metadata": {},
   "source": [
    "## Listas\n",
    "\n",
    "[Pablo A. Haya](https://pablohaya.com)"
   ]
  },
  {
   "cell_type": "markdown",
   "metadata": {},
   "source": [
    "Las variables que hemos manejado hasta ahora permiten almacenar cualquier tipo de datos pero sólo un único dato por variable. En una mismos variable podemos almacenar un número, un frase, un valor verdadero o un valor falso, y si queremos guardar más de un dato tenemos que crearnos otra variable. Así, para almacenar los versos de un poema por separado podríamos hacer.   "
   ]
  },
  {
   "cell_type": "code",
   "execution_count": null,
   "metadata": {
    "collapsed": true
   },
   "outputs": [],
   "source": [
    "verso0 = \"Me levanto del nicho de mi cama.\"\n",
    "verso1 = \"Me suelto los versos por la espalda.\"\n",
    "verso2 = \"Inyecto en mis venas tu mirada.\"\n",
    "verso3 = \"Y descoso del pecho las puntadas\"\n",
    "verso4 = \"Que a la luz de tu ausencia me hilvanaba.\"\n",
    "verso5 = \"Y me pongo a vivir cuando me llamas...\""
   ]
  },
  {
   "cell_type": "markdown",
   "metadata": {},
   "source": [
    "Lo cual es un tanto engorroso, sobre todo si queremos guardar los 15 693 versos de la Iliada. Para solventar este escollo nos vienen al rescata las **listas** que nos permiten almacenar en un sola variable un número (casi) ilimiatado de datos. El siguiente código define una única variable de tipo lista, que hemos llamado `verso`, y que incluye todos los versos anteriores."
   ]
  },
  {
   "cell_type": "code",
   "execution_count": null,
   "metadata": {
    "collapsed": true
   },
   "outputs": [],
   "source": [
    "verso = [\"Me levanto del nicho de mi cama.\",\n",
    "         \"Me suelto los versos por la espalda.\",\n",
    "         \"Inyecto en mis venas tu mirada.\",\n",
    "         \"Y descoso del pecho las puntadas\",\n",
    "         \"Que a la luz de tu ausencia me hilvanaba.\",\n",
    "         \"Y me pongo a vivir cuando me llamas...\"]"
   ]
  },
  {
   "cell_type": "markdown",
   "metadata": {},
   "source": [
    "La lista se definen incluyendo todos sus elementos entre corchetes `[]`, y separándolos por comas `,` tal como se puede comprobar en el ejemplo anterior.\n",
    "\n",
    "¿Cómo se puede acceder a cada elemento? Muy fácil, a partir de la posición que ocupan, teniendo en cuenta que **el primer elemento ocupa la posición 0**.  "
   ]
  },
  {
   "cell_type": "code",
   "execution_count": null,
   "metadata": {},
   "outputs": [],
   "source": [
    "print(verso[0])\n",
    "print(verso[1])\n",
    "print(verso[2])\n",
    "print(verso[3])\n",
    "print(verso[4])\n",
    "print(verso[5])"
   ]
  },
  {
   "cell_type": "markdown",
   "metadata": {},
   "source": [
    "Cada elemento se accede mediante el nombre de la lista `verso` en este caso, y la posición que ocupa indicada entre corchetes `[]`. Recordar que **las posiciones empiezan en cero**, de manera que si queremos obtener el elemento i-ésimo sólo tenemos que restar uno al índice que incluyamos. \n",
    "\n",
    "Para obtener el tercer elemento:"
   ]
  },
  {
   "cell_type": "code",
   "execution_count": null,
   "metadata": {},
   "outputs": [],
   "source": [
    "# Acceder a un elemento de la lista, por ejemplo, al tercero (i = 3) sería lista[i-1]\n",
    "print(verso[2])"
   ]
  },
  {
   "cell_type": "markdown",
   "metadata": {},
   "source": [
    "**Prueba tú mismo**. A imprimir el quinto verso del poema."
   ]
  },
  {
   "cell_type": "markdown",
   "metadata": {},
   "source": [
    "También se pueden emplear posiciones negativas para empezar a contar desde el final de la lista.\n",
    "\n",
    "El último elemento se accedería como:"
   ]
  },
  {
   "cell_type": "code",
   "execution_count": null,
   "metadata": {},
   "outputs": [],
   "source": [
    "# Acceder al último elemento\n",
    "print(verso[-1])"
   ]
  },
  {
   "cell_type": "markdown",
   "metadata": {},
   "source": [
    "Con los índices -2, -3, -4 ... accedemos a la penúltima posición, a la antepenúltima, a la anteantepenúltima, y así sucesivamente.\n",
    "\n"
   ]
  },
  {
   "cell_type": "markdown",
   "metadata": {},
   "source": [
    "**Prueba tú mismo**. ¿Qué índice negativo tendriamos que poner para acceder al primer verso del poema?"
   ]
  },
  {
   "cell_type": "markdown",
   "metadata": {},
   "source": [
    "Si lo que necesitamos es conocer el número de elementos que tiene la lista podemos emplear la función `len()` que ya conocemos."
   ]
  },
  {
   "cell_type": "code",
   "execution_count": null,
   "metadata": {},
   "outputs": [],
   "source": [
    "# Obtener la longitud de una lista\n",
    "print(len(verso))"
   ]
  },
  {
   "cell_type": "markdown",
   "metadata": {},
   "source": [
    "Se pueden definir listas de cualquier tipo de datos, e incluso combinando en una misma lista elementos que sean de tipos de datos distintos. Las siguientes definiciones son todas válidas"
   ]
  },
  {
   "cell_type": "code",
   "execution_count": null,
   "metadata": {
    "collapsed": true
   },
   "outputs": [],
   "source": [
    "fecha = [1898, 1927, 1950, 1992]\n",
    "autores = [\"Garcilaso\", 1560, \"Neruda\", 1890]\n",
    "vocales = [\"a\", \"e\", \"i\", \"o\", \"u\"]"
   ]
  },
  {
   "cell_type": "markdown",
   "metadata": {},
   "source": [
    "Es más, ¡se puede definir listas cuyos elementos sean también listas!."
   ]
  },
  {
   "cell_type": "code",
   "execution_count": null,
   "metadata": {
    "collapsed": true
   },
   "outputs": [],
   "source": [
    "solea = [[\"Tengo\", \"un\", \"querer\", \"y\", \"una\" ,\"pena\",\".\"],\n",
    "         [\"La\", \"pena\", \"quiere\", \"que\", \"viva;\"],\n",
    "         [\"el\", \"querer\", \"quiere\", \"que\", \"muera\"]]"
   ]
  },
  {
   "cell_type": "markdown",
   "metadata": {},
   "source": [
    "Si te fijas con cuidado en el ejemplo verás que cada elemento de la lista es a su vez una lista que contiene cadenas de caracteres. Así, tenemos una lista que contiene tres listas. Por ejemplo, la segunda lista es `[\"La\", \"pena\", \"quiere\", \"que\", \"viva;\"]`.\n",
    "\n",
    "Para acceder a un elemento en concreto es preciso indicar tanto la posición de la lista donde se encuentra como la posición que ocupa en esa lista."
   ]
  },
  {
   "cell_type": "code",
   "execution_count": null,
   "metadata": {},
   "outputs": [],
   "source": [
    "print(solea[1][0])"
   ]
  },
  {
   "cell_type": "markdown",
   "metadata": {},
   "source": [
    "El primer índice `[1]` nos indica que queremos acceder a la segunda lista, mientras que `[0]` hace referencia la primer elemento de esa lista. Así, `print(solea[1][0])` imprime la primera palabra de la segunda lista. "
   ]
  },
  {
   "cell_type": "markdown",
   "metadata": {},
   "source": [
    "**Prueba tú mismo** Imprime el último elemento de la última lista."
   ]
  },
  {
   "cell_type": "markdown",
   "metadata": {},
   "source": [
    "Hasta ahora hemos visto como acceder a los elementos de una lista, pero ¿cómo podemos modificar el contenido de una lista? Aquí tenemos varias operaciones muy útiles. Primeramente vamos a ver que utilizando el operador `=` podemos cambiar el contenido de cualquier elemento de una lista."
   ]
  },
  {
   "cell_type": "code",
   "execution_count": null,
   "metadata": {},
   "outputs": [],
   "source": [
    "# Cambiar un elemento\n",
    "vocales = [\"a\", \"e\", \"i\", \"o\", \"u\"]\n",
    "vocales[2] = \"I\"\n",
    "vocales"
   ]
  },
  {
   "cell_type": "markdown",
   "metadata": {},
   "source": [
    "El ejemplo hemos modificado el tercer elemento asignándole un nuevo valor."
   ]
  },
  {
   "cell_type": "markdown",
   "metadata": {},
   "source": [
    "**Prueba tú mismo** Cambia el primer elemento de la lista `vocales` por la letra que tú quieras."
   ]
  },
  {
   "cell_type": "markdown",
   "metadata": {},
   "source": [
    "La segunda operación interesante es añadir nuevos elementos a la lista. Seguro que nos acordamos que el operador `+`, en el caso de las cadenas de caracteres, generaba una nueva cadena que era la concatenación de dos cadenas. Con la lista opera de la misma manera."
   ]
  },
  {
   "cell_type": "code",
   "execution_count": null,
   "metadata": {},
   "outputs": [],
   "source": [
    "print(vocales + ['A', 'E', 'I', 'O', 'U'])"
   ]
  },
  {
   "cell_type": "markdown",
   "metadata": {},
   "source": [
    "**Prueba tú mismo**. El código anterior, la variable `vocales` se mantiene inalterada ya que la lista resultante simplemente se imprime, pero no se guarda. Modifica el código para que la variable `vocales` termine almacenan tanto las minúsculas originales como las mayúsculas. "
   ]
  },
  {
   "cell_type": "markdown",
   "metadata": {},
   "source": [
    "Ten en cuenta que a una lista sólo se le puede concatenar otra lista, y qué este operador siempre añade la segunda lista al final de la primera."
   ]
  },
  {
   "cell_type": "markdown",
   "metadata": {},
   "source": [
    "**Prueba tú mismo**. Añade `ü` a la variable `vocales`. "
   ]
  },
  {
   "cell_type": "markdown",
   "metadata": {},
   "source": [
    "Otra operación fundamental es eliminar elementos de la lista. Para borrar un elemento lo podemos hacer indicando el índice con la función `del()`."
   ]
  },
  {
   "cell_type": "code",
   "execution_count": null,
   "metadata": {},
   "outputs": [],
   "source": [
    "vocales = ['a', 'e', 'i', 'o', 'u']\n",
    "del(vocales[0])\n",
    "print(vocales)"
   ]
  },
  {
   "cell_type": "markdown",
   "metadata": {},
   "source": [
    "Hasta ahora hemos visto que para poder operar sobre una variable empleamos funciones, como por ejemplo `del()`. Existe otra manera, que también vamos emplear a partir de ahora, que consiste en emplear _métodos_ Un método es una función que se encuentra asociado a una variable. Los métodos se ejecutan indicando el nombre de la variable, a continuación un punto, y luego el nombre del método:\n",
    "\n",
    "Por ejemplo, `vocales.append('á')` añade al final de la lista `vocales` el elemento `'á'`. En este caso la variable es `vocales`, y el método es `append()`.\n",
    "\n",
    "Vamos a probarlo:"
   ]
  },
  {
   "cell_type": "code",
   "execution_count": null,
   "metadata": {},
   "outputs": [],
   "source": [
    "vocales = ['a', 'e', 'i', 'o', 'u']\n",
    "print(vocales)\n",
    "vocales.append(\"á\")\n",
    "print(vocales)"
   ]
  },
  {
   "cell_type": "markdown",
   "metadata": {},
   "source": [
    "El método `append()` es equivalente a emplear el operador concatenación `+`."
   ]
  },
  {
   "cell_type": "markdown",
   "metadata": {},
   "source": [
    "**Prueba tú mismo** Implementa el código equivalente al ejemplo anterior empleando el operador `+`"
   ]
  },
  {
   "cell_type": "markdown",
   "metadata": {},
   "source": [
    "Al igual que las funciones, dependiendo del tipo de datos (cadena de caracteres, listas...) estarán disponibles unos métodos u otros."
   ]
  },
  {
   "cell_type": "markdown",
   "metadata": {},
   "source": [
    "Otro método interesante es `insert()` que permite añadir en la posición indicada un elemento. El siguiente código inserta el elemento `è` en la posición tercera."
   ]
  },
  {
   "cell_type": "code",
   "execution_count": null,
   "metadata": {},
   "outputs": [],
   "source": [
    "vocales = ['a', 'e', 'i', 'o', 'u']\n",
    "print(vocales)\n",
    "vocales.insert(3, 'é')\n",
    "print(vocales)"
   ]
  },
  {
   "cell_type": "markdown",
   "metadata": {},
   "source": [
    "**Prueba tú mismo** Añade el elemento `à` cómo segundo elemento de la variable `vocales`"
   ]
  },
  {
   "cell_type": "markdown",
   "metadata": {},
   "source": [
    "También disponemos de un método para eliminar elementos (`remove()`), pero a diferencia de la función `del()` se indica el elemento a eliminar en vez de la posición. Si hubiera más de un posible candidato se elimina la primera aparación que encuentre empezando desde la izquierda. "
   ]
  },
  {
   "cell_type": "code",
   "execution_count": null,
   "metadata": {},
   "outputs": [],
   "source": [
    "vocales = ['a', 'e', 'i', 'o', 'u']\n",
    "print(vocales)\n",
    "vocales.remove('i')\n",
    "print(vocales)"
   ]
  },
  {
   "cell_type": "markdown",
   "metadata": {},
   "source": [
    "Respiramos un poco ya que vamos a pasar a una de las funcionalidades más potentes de las listas pero también que requiere más atención para entenderla."
   ]
  },
  {
   "cell_type": "markdown",
   "metadata": {
    "collapsed": true
   },
   "source": [
    "Python dispone de una operación muy útil, que se llama **slicing** en inglés (cortar podríamos traducirla), que nos permite obtener un trozo de una lista indicando donde empieza y donde termina.\n",
    "\n",
    "Cada trozo vendrá definido por la posición `inicial` y la posición `final-1`."
   ]
  },
  {
   "cell_type": "code",
   "execution_count": null,
   "metadata": {},
   "outputs": [],
   "source": [
    "vocales = ['a', 'e', 'i', 'o', 'u']\n",
    "vocales[2:4]"
   ]
  },
  {
   "cell_type": "markdown",
   "metadata": {},
   "source": [
    "Recordar la lista vocales, y las posiciones de cada elemento\n",
    "\n",
    "`|-------------------|`  \n",
    "`| a | e | i | o | u |`  \n",
    "`| 0 | 1 | 2 | 3 | 4 |`    \n",
    "`|-------------------|`\n",
    "\n",
    "El trozo comienza en la posición 2, que corresponde a la `i`, y termina en la posición 4-1 = 3, que corresponde a la `o`. "
   ]
  },
  {
   "cell_type": "markdown",
   "metadata": {},
   "source": [
    "**Prueba tú mismo** Extrae de la lista vocales las tres primeras posiciones, guardala en una variable, e imprímela `['a','e','i']`"
   ]
  },
  {
   "cell_type": "markdown",
   "metadata": {},
   "source": [
    "Cada trozo es un nueva lista, incluso cuando el trozo contiene un único elemento."
   ]
  },
  {
   "cell_type": "code",
   "execution_count": null,
   "metadata": {},
   "outputs": [],
   "source": [
    "vocales[2:3]"
   ]
  },
  {
   "cell_type": "markdown",
   "metadata": {},
   "source": [
    "Aunque pueda resultar un poco confuso, de nuevo insistir en que el primer índice indica el primer elemento que se incluye en el trozo, y el segundo delimita el último elemento que *no* entre en el trozo. De ahí que para extraer un trozo de un solo elemento haya que indicar `vocales[2:3]`."
   ]
  },
  {
   "cell_type": "markdown",
   "metadata": {},
   "source": [
    "**Prueba tú mismo** Imprime `vocales[2:2]`, y razona el resultado."
   ]
  },
  {
   "cell_type": "markdown",
   "metadata": {},
   "source": [
    "Podemos cambiar varios elementos a la vez empleando *slicing*"
   ]
  },
  {
   "cell_type": "code",
   "execution_count": null,
   "metadata": {},
   "outputs": [],
   "source": [
    "vocales[0:2] = ['A', 'E']\n",
    "print(vocales)\n",
    "# Equivalente a:\n",
    "# vocales[0] = \"A\"\n",
    "# vocales[1] = \"E\""
   ]
  },
  {
   "cell_type": "markdown",
   "metadata": {},
   "source": [
    "**Prueba tú mismo** Sustituye las tres últimas vocales por sus formas en mayúsculas."
   ]
  },
  {
   "cell_type": "markdown",
   "metadata": {},
   "source": [
    "Un truco que hay que conocer es que se puede dejar vacío la posición inicial o final lo cual es equivalente a indicar que el trozo comience en la primera posición, o termine en la última respectivamente.\n",
    "\n",
    "El siguiente código crea una nueva lista con las tres primeras vocales."
   ]
  },
  {
   "cell_type": "code",
   "execution_count": null,
   "metadata": {},
   "outputs": [],
   "source": [
    "vocales[:3]"
   ]
  },
  {
   "cell_type": "markdown",
   "metadata": {},
   "source": [
    "lo cual es equivalente a poner `vocales[0:3]`."
   ]
  },
  {
   "cell_type": "markdown",
   "metadata": {},
   "source": [
    "**Prueba tú mismo**. A `vocales[0:3]`, y comprueba que el resultado es el mismo."
   ]
  },
  {
   "cell_type": "markdown",
   "metadata": {},
   "source": [
    "Mientras que el siguiente toma todas las vocales excepto la primera."
   ]
  },
  {
   "cell_type": "code",
   "execution_count": null,
   "metadata": {},
   "outputs": [],
   "source": [
    "vocales[1:]"
   ]
  },
  {
   "cell_type": "markdown",
   "metadata": {},
   "source": [
    "que es lo mismo que `vocales[1:5]`"
   ]
  },
  {
   "cell_type": "markdown",
   "metadata": {},
   "source": [
    "No hay nada que impida dejar vacios ambos límites."
   ]
  },
  {
   "cell_type": "markdown",
   "metadata": {},
   "source": [
    "**Prueba tú mismo**. A quitar los límites, es decir, a imprimir `vocales[:]`"
   ]
  },
  {
   "cell_type": "markdown",
   "metadata": {},
   "source": [
    "Se puede extender la operación trocear añadiendo un tercer número que nos indica cada cuantos elementos tomamos, y la dirección. Vamos a verlo con varios ejemplos."
   ]
  },
  {
   "cell_type": "code",
   "execution_count": null,
   "metadata": {},
   "outputs": [],
   "source": [
    "vocales[::2]"
   ]
  },
  {
   "cell_type": "markdown",
   "metadata": {},
   "source": [
    "Imprime las vocales en posiciones pares. Empezando a contar desde cero, imprime la posición 0, la 2 y la 4. La expresión `::2` indica que se tomen todos los elementos de la lista de dos en dos. Las dos primeras posiciones del _slicing_ están vacías (_todos los elemento_), mientras que la tercera posición encontramos un 2 (_de dos en dos_).  "
   ]
  },
  {
   "cell_type": "code",
   "execution_count": null,
   "metadata": {},
   "outputs": [],
   "source": [
    "vocales[1::2]"
   ]
  },
  {
   "cell_type": "markdown",
   "metadata": {},
   "source": [
    "En este caso se comienza desde el primer elemento hasta el último (`1::`), y se toman de dos en dos (`:2`), obtienendo las vocales en la posiciones impares."
   ]
  },
  {
   "cell_type": "markdown",
   "metadata": {},
   "source": [
    "Finalmente, si cambiamos el signo del tercer elemento del _slicing_ recorremos la lista desde el final."
   ]
  },
  {
   "cell_type": "code",
   "execution_count": null,
   "metadata": {},
   "outputs": [],
   "source": [
    "vocales[::-2]"
   ]
  },
  {
   "cell_type": "markdown",
   "metadata": {},
   "source": [
    "**Prueba tú mismo**. A imprimir al revés todas las vocales."
   ]
  },
  {
   "cell_type": "markdown",
   "metadata": {},
   "source": [
    "**Prueba tú mismo**. Adivina el resultado de la siguiente instrución `vocales[:-3:-1]` antes de ejecutarla."
   ]
  },
  {
   "cell_type": "code",
   "execution_count": null,
   "metadata": {},
   "outputs": [],
   "source": [
    "vocales[:-3:-1]"
   ]
  },
  {
   "cell_type": "markdown",
   "metadata": {},
   "source": [
    "En resumen, las dos primeras posiciones funcionan como hasta ahora, extrayendo un trozo de la lista, y la última posición indica cada cuantos elementos tomamos, y en qué dirección. "
   ]
  },
  {
   "cell_type": "markdown",
   "metadata": {},
   "source": [
    "---\n",
    "**Para saber más** A bote pronto nos podría parecer que imprimir `vocales`, y `vocales[:]` es la misma operación, pero existe una diferencia fundamental. Esta se pone de manifiesto cuando realizamos una asignación como vamos a ver.\n",
    "\n",
    "Hasta el momento, cuando realizamos una asignación de una variable a otra se copia el valor de la misma, de manera que si modifica la variable original no cambia el valor de la segunda. Así, el siguiente código:\n",
    "\n",
    "```\n",
    "x = 10\n",
    "y = x \n",
    "x = 20\n",
    "print(x,y)\n",
    "```\n",
    "\n",
    "devuelve `10 20` ya que el cambio de la variable `x` no afecta a `y`. En cambio, en la lista la asignaciones no producen una copia del valor de la lista, si no que en la nueva variable se guarda una referencia a lista original, como si le dieramos un nombre alternativo:\n",
    "\n",
    "```\n",
    "vocales = ['a', 'e', 'i', 'o', 'u']\n",
    "v = vocales\n",
    "v.append(\"X\")\n",
    "print(v)\n",
    "print(vocales)\n",
    "```\n",
    "\n",
    "Este código imprime la misma lista en ambos casos, ya que las modificaciones que se realizan en `v` también se realizan en `vocales`. Son, efectivamente, la misma lista. \n",
    "\n",
    "De este manera, si queremos que se produzca una copia en el caso de la lista, tenemos que asignar el resultado de la operación `vocales[:]`. En este caso si que se devuelve una copia de los valores de la lista de manera que:\n",
    "\n",
    "```\n",
    "vocales = [\"a\", \"e\", \"i\", \"o\", \"u\"]\n",
    "v = vocales[:]\n",
    "v.append(\"X\")\n",
    "print(v)\n",
    "print(vocales)\n",
    "```\n",
    "\n",
    "imprime dos listas distintas.\n",
    "\n",
    "---"
   ]
  },
  {
   "cell_type": "markdown",
   "metadata": {},
   "source": [
    "## Ejercicios"
   ]
  },
  {
   "cell_type": "markdown",
   "metadata": {},
   "source": [
    "**1. Ejercicio** Emplear la función `len` para acceder al último elemento de una lista. Probar con  la siguiente lista:\n",
    "\n",
    "```\n",
    "vocales = ['a','e','i','o','u']\n",
    "```"
   ]
  },
  {
   "cell_type": "markdown",
   "metadata": {},
   "source": [
    "**2. Ejercicio** Partiendo de la lista anterior `vocales`, crear dos nuevas listas `vocales_abiertas` y `vocales_cerradas` seleccionando los elementos correspondientes en cada caso de la primera lista. \n",
    "\n",
    "Imprimir el contenido de las dos nuevas lista, y comprobar que el resultado es correcto:\n",
    "\n",
    "```\n",
    "['a', 'e', 'o']\n",
    "['i', 'u']\n",
    "```"
   ]
  },
  {
   "cell_type": "markdown",
   "metadata": {},
   "source": [
    "**3. Ejercicio** Dado el siguiente poema:\n",
    "\n",
    "```\n",
    "poema = [\"Educar es lo mismo\",\n",
    "         \"que poner motor a una barca...\",\n",
    "         \"hay que medir, pesar, equilibrar\",\n",
    "         \"... y poner todo en marcha.\",\n",
    "         \"Para eso,\",\n",
    "         \"uno tiene que llevar en el alma\",\n",
    "         \"un poco de marino...\",\n",
    "         \"un poco de pirata...\",\n",
    "         \"un poco de poeta...\",\n",
    "         \"y un kilo y medio de paciencia\",\n",
    "         \"concentrada.\",\n",
    "         \"Pero es consolador soñar\",\n",
    "         \"mientras uno trabaja,\",\n",
    "         \"que ese barco, ese niño\",\n",
    "         \"irá muy lejos por el agua.\",\n",
    "         \"Soñar que ese navío\",\n",
    "         \"llevará nuestra carga de palabras\",\n",
    "         \"hacia puertos distantes,\",\n",
    "         \"hacia islas lejanas.\",\n",
    "         \"Soñar que cuando un día\",\n",
    "         \"esté durmiendo nuestra propia barca,\",\n",
    "         \"en barcos nuevos seguirá\",\n",
    "         \"nuestra bandera\",\n",
    "         \"enarbolada.\"]\n",
    "```\n",
    "\n",
    "Extraer en dos lista separadas los versos en posiciones impares(primero, tercero, quinto...) y los versos en posiciones pares (segunda, cuarta, sexta...).\n",
    "\n",
    "El resultado que tiene que salir por pantalla es:\n",
    "\n",
    "```\n",
    "impares: ['Educar es lo mismo', 'hay que medir, pesar, equilibrar', 'Para eso,', 'un poco de marino...', 'un poco de poeta...', 'concentrada.', 'mientras uno trabaja,', 'irá muy lejos por el agua.', 'llevará nuestra carga de palabras', 'hacia islas lejanas.', 'esté durmiendo nuestra propia barca,', 'nuestra bandera']\n",
    "\n",
    "pares ['que poner motor a una barca...', '... y poner todo en marcha.', 'uno tiene que llevar en el alma', 'un poco de pirata...', 'y un kilo y medio de paciencia', 'Pero es consolador soñar', 'que ese barco, ese niño', 'Soñar que ese navío', 'hacia puertos distantes,', 'Soñar que cuando un día', 'en barcos nuevos seguirá', 'enarbolada.']\n",
    "```\n",
    "\n",
    "Fíjate en el formato de salida ya que se incluye el nombre de la lista, además de los versos, y una línea en blanco como separador.\n"
   ]
  },
  {
   "cell_type": "markdown",
   "metadata": {},
   "source": [
    "**4. Ejercicio** Partiendo de la siguiente lista\n",
    "\n",
    "```\n",
    "poema = [\"Érase una vez\",\n",
    "         \"un lobito bueno\",\n",
    "         \"al que maltrataban\", \n",
    "         \"todos los corderos.\",\n",
    "         \"Y había también\",\n",
    "         \"un príncipe malo,\",\n",
    "         \"una bruja hermosa\",\n",
    "         \"y un pirata honrado.\",\n",
    "         \"Todas estas cosas\",\n",
    "         \"había una vez.\",\n",
    "         \"Cuando yo soñaba\",\n",
    "         \"un mundo al revés.\"]\n",
    "```\n",
    "\n",
    "crear una nueva lista que contenga únicamente los tres primeros y los tres últimos versos, y en medio de ellos, a modo de separación, un nuevo elemento que consiste en la cadena de caracteres `...`. \n",
    "\n",
    "Al imprimir la nueva lista, el resultado tendría que ser:\n",
    "\n",
    "```\n",
    "['Érase una vez', 'un lobito bueno', 'al que maltrataban', '...', 'había una vez.', 'Cuando yo soñaba', 'un mundo al revés.']\n",
    "```"
   ]
  },
  {
   "cell_type": "markdown",
   "metadata": {},
   "source": [
    "**5. Ejercicio** El anterior poema se ha organizado en tres estrofas. Cada estrofa contiene una lista de versos.\n",
    "\n",
    "```\n",
    "poema = [[\"Érase una vez\",\n",
    "         \"un lobito bueno\",\n",
    "         \"al que maltrataban\", \n",
    "         \"todos los corderos.\"],\n",
    "         [\"Y había también\",\n",
    "         \"un príncipe malo,\",\n",
    "         \"una bruja hermosa\",\n",
    "         \"y un pirata honrado.\"],\n",
    "         [\"Todas estas cosas\",\n",
    "         \"había una vez.\",\n",
    "         \"Cuando yo soñaba\",\n",
    "         \"un mundo al revés.\"]]\n",
    "```\n",
    "\n",
    "De esta manera, el poema queda cómo un lista que contiene tres listas (estrofas en este caso). \n",
    "\n",
    "A partir de este poema, crear e imprimir una lista que sea equivalente a la del ejercicio anterior. La salida, por tanto, tiene que ser exactamente la misma.\n"
   ]
  },
  {
   "cell_type": "markdown",
   "metadata": {},
   "source": [
    "**6. Ejercicio** Dado el siguiente poema\n",
    "\n",
    "```\n",
    "poema = [\"Educar es lo mismo\",\n",
    "         \"que poner motor a una barca...\",\n",
    "         \"hay que medir, pesar, equilibrar\",\n",
    "         \"... y poner todo en marcha.\",\n",
    "         \"Para eso,\",\n",
    "         \"uno tiene que llevar en el alma\",\n",
    "         \"un poco de marino...\",\n",
    "         \"un poco de pirata...\",\n",
    "         \"un poco de poeta...\",\n",
    "         \"y un kilo y medio de paciencia\",\n",
    "         \"concentrada.\",\n",
    "         \"Pero es consolador soñar\",\n",
    "         \"mientras uno trabaja,\",\n",
    "         \"que ese barco, ese niño\",\n",
    "         \"irá muy lejos por el agua.\",\n",
    "         \"Soñar que ese navío\",\n",
    "         \"llevará nuestra carga de palabras\",\n",
    "         \"hacia puertos distantes,\",\n",
    "         \"hacia islas lejanas.\",\n",
    "         \"Soñar que cuando un día\",\n",
    "         \"esté durmiendo nuestra propia barca,\",\n",
    "         \"en barcos nuevos seguirá\",\n",
    "         \"nuestra bandera\",\n",
    "         \"enarbolada.\"]\n",
    "```\n",
    "\n",
    "Imprimir un extracto de versos consecutivos del mismo elegido al azar.\n",
    "\n",
    "Una posible ejecución sería:\n",
    "\n",
    "```\n",
    "['mientras uno trabaja,', 'que ese barco, ese niño', 'irá muy lejos por el agua.', 'Soñar que ese navío', 'llevará nuestra carga de palabras']\n",
    "```\n",
    "\n",
    "La longitud de cada extracto puede ser distinta en cada ejecución."
   ]
  }
 ],
 "metadata": {
  "kernelspec": {
   "display_name": "Python 3",
   "language": "python",
   "name": "python3"
  },
  "language_info": {
   "codemirror_mode": {
    "name": "ipython",
    "version": 3
   },
   "file_extension": ".py",
   "mimetype": "text/x-python",
   "name": "python",
   "nbconvert_exporter": "python",
   "pygments_lexer": "ipython3",
   "version": "3.6.1"
  }
 },
 "nbformat": 4,
 "nbformat_minor": 1
}
