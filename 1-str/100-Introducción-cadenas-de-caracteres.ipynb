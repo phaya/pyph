{
  "cells": [
    {
      "cell_type": "markdown",
      "metadata": {
        "collapsed": true
      },
      "source": [
        "# Introducción a las cadenas de caracteres\n",
        "[Pablo A. Haya](https://pablohaya.com)"
      ]
    },
    {
      "cell_type": "markdown",
      "metadata": {},
      "source": [
        "Las cadenas de caracteres son el tipo de datos más básico que suele disponer un lenguaje de programación para almacenar y manipular texto. En `Python`, este tipo de datos se denonima `str`, y permite almacenar secuencias de caracteres. Puede contener cualquier tipo símbolos: alfabéticos, numéricos, puntuación, exclamación, interrogación...\n",
        "\n",
        "Una cadena de caracteres se delimita utilizando las comillas simples `'hola'`, las comillas dobles `\"hola\"` o las comillas triples `'''hola'''` u `\"\"\"hola\"\"\"`. En nuestros ejemplos tendremos preferencias por las dobles comillas.\n",
        "\n",
        "La siguiente línea crea la cadena `\"¡Oh capitán, mi capitán!\"`, y la asigna a la variable `s`."
      ]
    },
    {
      "cell_type": "code",
      "execution_count": 1,
      "metadata": {
        "trusted": true
      },
      "outputs": [],
      "source": [
        "s = str(\"¡Oh capitán, mi capitán!\")"
      ]
    },
    {
      "cell_type": "markdown",
      "metadata": {},
      "source": [
        "aunque se puede definir directamente omitendo la función `str`. La siguiente línea de código es equivalente a la anterior, y será la manera que emplearemos en el resto de ejemplos."
      ]
    },
    {
      "cell_type": "code",
      "execution_count": 2,
      "metadata": {
        "trusted": true
      },
      "outputs": [],
      "source": [
        "s = \"¡Oh capitán, mi capitán!\""
      ]
    },
    {
      "cell_type": "markdown",
      "metadata": {},
      "source": [
        "Es fácil comprobar en `Python` que efectivamente el tipo de datos es el correcto mediante la función `type`. "
      ]
    },
    {
      "cell_type": "code",
      "execution_count": 3,
      "metadata": {
        "trusted": true
      },
      "outputs": [
        {
          "data": {
            "text/plain": [
              "str"
            ]
          },
          "execution_count": 3,
          "metadata": {},
          "output_type": "execute_result"
        }
      ],
      "source": [
        "type(s)"
      ]
    },
    {
      "cell_type": "markdown",
      "metadata": {},
      "source": [
        "No existe diferencia entre las comillas simples y dobles, en cambio las comillas triples nos permiten crear cadenas de caracteres que tenga múltiple líneas."
      ]
    },
    {
      "cell_type": "code",
      "execution_count": 4,
      "metadata": {
        "trusted": true
      },
      "outputs": [],
      "source": [
        "poema = \"\"\"Contigo, mano a mano\n",
        "busquemos otros prados y otros ríos,\n",
        "otros valles floridos y sombríos,\n",
        "donde descanse, y siempre pueda verte\n",
        "ante los ojos míos,\n",
        "sin miedo y sobresalto de perderte. \n",
        "\"\"\""
      ]
    },
    {
      "cell_type": "markdown",
      "metadata": {},
      "source": [
        "Python 3.0 puede manipular cadenas de caracteres en cualquier idioma, así las siguientes cadenas son perfectamente válidas."
      ]
    },
    {
      "cell_type": "code",
      "execution_count": 1,
      "metadata": {
        "trusted": true
      },
      "outputs": [],
      "source": [
        "sj = \"私は蚊に刺されている\"\n",
        "sr = \"Если вы скажете мне, что они видят, что я оставляю все\""
      ]
    },
    {
      "cell_type": "markdown",
      "metadata": {},
      "source": [
        "Cada caracter se le asocia un código numérico siguiendo el estandar `unicode`. Mediante la función `ord()` obtenemos este identificador, mientras que la función `chr()` permite realizar la operación inversa, de un identificador devolver el caracter. Por ejemplo, el código unicode de la letra `a` minúscula es 97."
      ]
    },
    {
      "cell_type": "code",
      "execution_count": 27,
      "metadata": {
        "trusted": true
      },
      "outputs": [
        {
          "data": {
            "text/plain": [
              "97"
            ]
          },
          "execution_count": 27,
          "metadata": {},
          "output_type": "execute_result"
        }
      ],
      "source": [
        "ord('a')"
      ]
    },
    {
      "cell_type": "code",
      "execution_count": 28,
      "metadata": {
        "trusted": true
      },
      "outputs": [
        {
          "data": {
            "text/plain": [
              "'a'"
            ]
          },
          "execution_count": 28,
          "metadata": {},
          "output_type": "execute_result"
        }
      ],
      "source": [
        "chr(97)"
      ]
    },
    {
      "cell_type": "markdown",
      "metadata": {},
      "source": [
        "La función `chr()` requiere el código unicode en notación decimal, pero habitualmente cuando lo buscamos en Internet suele aparecer representando en hexadecimal. El código unicode de `\"ж\"` es `U+0436` que notación hexadecimal se corresponde con `0x0436`. Para realizar la conversión entre uno y otro se emplea la función `int()` indicando la base 16."
      ]
    },
    {
      "cell_type": "code",
      "execution_count": 31,
      "metadata": {
        "trusted": true
      },
      "outputs": [
        {
          "data": {
            "text/plain": [
              "'ж'"
            ]
          },
          "execution_count": 31,
          "metadata": {},
          "output_type": "execute_result"
        }
      ],
      "source": [
        "chr(int(\"0x0436\", 16))"
      ]
    },
    {
      "cell_type": "markdown",
      "metadata": {},
      "source": [
        "De la misma manera, la función `ord()` nos devuelve el código unicode en decimal, y para pasarlo a hexadecimal emplearemos la función `hex()`"
      ]
    },
    {
      "cell_type": "code",
      "execution_count": 32,
      "metadata": {
        "trusted": true
      },
      "outputs": [
        {
          "data": {
            "text/plain": [
              "'0x436'"
            ]
          },
          "execution_count": 32,
          "metadata": {},
          "output_type": "execute_result"
        }
      ],
      "source": [
        "hex(ord(\"ж\"))"
      ]
    },
    {
      "cell_type": "markdown",
      "metadata": {},
      "source": [
        "Los caracteres se encuentran ordenados alfabéticamente de tal manera que el siguiente código nos muestra todos los caracteres entre la `A` mayúscula y la `z` minúscula."
      ]
    },
    {
      "cell_type": "code",
      "execution_count": 42,
      "metadata": {
        "trusted": true
      },
      "outputs": [
        {
          "name": "stdout",
          "output_type": "stream",
          "text": [
            "ABCDEFGHIJKLMNOPQRSTUVWXYZ[\\]^_`abcdefghijklmnopqrstuvwxyz"
          ]
        }
      ],
      "source": [
        "for i in range(ord('A'), ord('z')+1):\n",
        "    print(chr(i), end=\"\")"
      ]
    },
    {
      "cell_type": "markdown",
      "metadata": {},
      "source": [
        "Aunque no se encuentran todos los caracteres latinos ya que no aparecen las vocales acentuadas, o la `ü` con diéreis. Estos caracteres tienen código unicode más elevado."
      ]
    },
    {
      "cell_type": "markdown",
      "metadata": {},
      "source": [
        "## Ejercicios"
      ]
    },
    {
      "cell_type": "markdown",
      "metadata": {},
      "source": [
        "**1. Ejercicio** Prueba a mostrar los códigos unicode en hexadecimal de las vocales acentuadas en minúsculas y mayúsculas. Comprueba que son correctos con la siguiente página https://unicode-table.com"
      ]
    },
    {
      "cell_type": "code",
      "execution_count": 43,
      "metadata": {
        "trusted": true
      },
      "outputs": [
        {
          "name": "stdout",
          "output_type": "stream",
          "text": [
            "0xc1 0xc9 0xcd 0xd3 0xda 0xe1 0xe9 0xed 0xf3 0xfa "
          ]
        }
      ],
      "source": [
        "for c in \"ÁÉÍÓÚáéíóú\":\n",
        "    print(hex(ord(c)), end=\" \")"
      ]
    }
  ],
  "metadata": {
    "interpreter": {
      "hash": "1e006a5f21c6b99520425e0c69708af3075077f7072f65b281cd01ec83c7c9ab"
    },
    "kernelspec": {
      "display_name": "Python 3.6",
      "language": "python",
      "name": "python3"
    },
    "language_info": {
      "codemirror_mode": {
        "name": "ipython",
        "version": 3
      },
      "file_extension": ".py",
      "mimetype": "text/x-python",
      "name": "python",
      "nbconvert_exporter": "python",
      "pygments_lexer": "ipython3",
      "version": "3.8.3"
    }
  },
  "nbformat": 4,
  "nbformat_minor": 2
}
