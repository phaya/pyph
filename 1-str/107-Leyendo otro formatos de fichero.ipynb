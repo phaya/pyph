{
  "cells": [
    {
      "metadata": {
        "collapsed": true
      },
      "cell_type": "markdown",
      "source": "# Leyendo otro formatos de fichero\n[Pablo A. Haya](https://pablohaya.com)"
    },
    {
      "metadata": {},
      "cell_type": "markdown",
      "source": "Existen ficheros de texto que tienen formatos especificos, como pueden ser CSV, JSON o XML, que pueden ser leidos con `Python` con ligeras modificaciones."
    },
    {
      "metadata": {},
      "cell_type": "markdown",
      "source": "Vamos a ver como se trabaja con fichero CSV que son muy habituales para compartir datos tabulares."
    },
    {
      "metadata": {
        "trusted": true
      },
      "cell_type": "code",
      "source": "import csv\n\nwith open('resources/norm.csv') as file:\n    reader = csv.DictReader(file)\n    for row in reader:\n        print(row['forma'], row['lema'], row['pos'])",
      "execution_count": null,
      "outputs": []
    },
    {
      "metadata": {},
      "cell_type": "markdown",
      "source": "**Prueba tú mismo** a crear un diccionario que contenga como claves la forma, y como valor los lemas a partir de las dos columnas del csv anterior. "
    },
    {
      "metadata": {},
      "cell_type": "markdown",
      "source": "Los campos de la cabecera se pueden recuperar como lista accediendo al atributo `fieldnames`. "
    },
    {
      "metadata": {
        "trusted": true
      },
      "cell_type": "code",
      "source": "import csv\n\nwith open('resources/norm.csv') as file:\n    reader = csv.DictReader(file)\n    print(reader.fieldnames)",
      "execution_count": null,
      "outputs": []
    },
    {
      "metadata": {},
      "cell_type": "markdown",
      "source": "**Prueba tú mismo** a dar formato a la cabecera imprimiendo cada campo separado por una coma"
    },
    {
      "metadata": {
        "trusted": true
      },
      "cell_type": "code",
      "source": "import csv\n\nwith open('resources/borrame.csv', 'w', ) as file:\n    fieldnames = ['Title', 'Year', 'Author']\n    writer = csv.DictWriter(file, fieldnames=fieldnames)\n\n    writer.writeheader()\n    writer.writerow({'Title': 'Lazarillo de Tormes', 'Year': '1554', 'Author': 'Anónimo'})\n    writer.writerow({'Title': 'El Quijote', 'Year': '1554', 'Author': 'Miguel de Cervantes'})\n    writer.writerow({'Title': 'Emilia Pardo Bazán', 'Year': '1886', 'Author': 'Emilia Pardo Bazán'})",
      "execution_count": null,
      "outputs": []
    }
  ],
  "metadata": {
    "kernelspec": {
      "name": "python36",
      "display_name": "Python 3.6",
      "language": "python"
    },
    "language_info": {
      "mimetype": "text/x-python",
      "nbconvert_exporter": "python",
      "name": "python",
      "pygments_lexer": "ipython3",
      "version": "3.6.6",
      "file_extension": ".py",
      "codemirror_mode": {
        "version": 3,
        "name": "ipython"
      }
    }
  },
  "nbformat": 4,
  "nbformat_minor": 2
}