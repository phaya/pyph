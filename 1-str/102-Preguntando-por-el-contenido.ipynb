{
  "cells": [
    {
      "cell_type": "markdown",
      "metadata": {
        "collapsed": true
      },
      "source": [
        "# Preguntando por el contenido\n",
        "[Pablo A. Haya](https://pablohaya.com)"
      ]
    },
    {
      "cell_type": "markdown",
      "metadata": {},
      "source": [
        "Más allá de utilizar una posición para preguntar por el contenio de la cadena, `Python` dispone de una serie de operadores y funciones que facilitan la vida para saber que almacena una cadena."
      ]
    },
    {
      "cell_type": "markdown",
      "metadata": {},
      "source": [
        "El operador más sencillo es `in` que permite preguntar si un determinado caracter o secuencia se encuentra dentro de otra cadena. El ejemplo más sencillo sería si un caracter está dentro de otra cadena:"
      ]
    },
    {
      "cell_type": "code",
      "execution_count": 1,
      "metadata": {
        "trusted": true
      },
      "outputs": [
        {
          "data": {
            "text/plain": [
              "True"
            ]
          },
          "execution_count": 1,
          "metadata": {},
          "output_type": "execute_result"
        }
      ],
      "source": [
        "v = \"e\"\n",
        "v in \"aeo\""
      ]
    },
    {
      "cell_type": "markdown",
      "metadata": {},
      "source": [
        "y complicando un poco más:"
      ]
    },
    {
      "cell_type": "code",
      "execution_count": 2,
      "metadata": {
        "trusted": true
      },
      "outputs": [
        {
          "data": {
            "text/plain": [
              "True"
            ]
          },
          "execution_count": 2,
          "metadata": {},
          "output_type": "execute_result"
        }
      ],
      "source": [
        "s = \"ch\"\n",
        "s in \"hachazo\""
      ]
    },
    {
      "cell_type": "markdown",
      "metadata": {},
      "source": [
        "mientras que el siguiente extracto devuelve `False`, ya que no basta con que estén los caracteres sino que tienen que aparecer consecutivos"
      ]
    },
    {
      "cell_type": "code",
      "execution_count": 3,
      "metadata": {
        "trusted": true
      },
      "outputs": [
        {
          "data": {
            "text/plain": [
              "False"
            ]
          },
          "execution_count": 3,
          "metadata": {},
          "output_type": "execute_result"
        }
      ],
      "source": [
        "s = \"ch\"\n",
        "s in \"calahorra\""
      ]
    },
    {
      "cell_type": "markdown",
      "metadata": {},
      "source": [
        "Dos métodos muy sencillos de emplear permiten saber si una cadena empieza (`startswith()`) o acaba (`endswith()`) por otra cadena. "
      ]
    },
    {
      "cell_type": "code",
      "execution_count": 4,
      "metadata": {
        "trusted": true
      },
      "outputs": [
        {
          "data": {
            "text/plain": [
              "True"
            ]
          },
          "execution_count": 4,
          "metadata": {},
          "output_type": "execute_result"
        }
      ],
      "source": [
        "\"hipermercado\".startswith(\"hiper\")"
      ]
    },
    {
      "cell_type": "markdown",
      "metadata": {},
      "source": [
        "**Prueba tú mismo** Comprobar si una palabra (ej. `\"apendicitis\"`) tiene un determinado sufijo (ej. `\"-itis\"`)"
      ]
    },
    {
      "cell_type": "markdown",
      "metadata": {},
      "source": [
        "Una alternativa al operador `in` es el método `find()` que devuelve la posición en la que se encuentra la primera aparación de una subcadena dentro de otra cadena."
      ]
    },
    {
      "cell_type": "code",
      "execution_count": 5,
      "metadata": {
        "trusted": true
      },
      "outputs": [
        {
          "name": "stdout",
          "output_type": "stream",
          "text": [
            "4\n",
            "2\n"
          ]
        }
      ],
      "source": [
        "print(\"vermú\".find(\"ú\"))\n",
        "print(\"vermú\".find(\"rmú\"))"
      ]
    },
    {
      "cell_type": "markdown",
      "metadata": {},
      "source": [
        "**Prueba tú mismo** que devuelve el método `find()` cuando busca una subcadena que no existe.  "
      ]
    },
    {
      "cell_type": "markdown",
      "metadata": {},
      "source": [
        "## Ejercicios"
      ]
    },
    {
      "cell_type": "markdown",
      "metadata": {},
      "source": [
        "**1. Ejercicio** Definir tres funciones `es_abierta(v)`, `es_cerrada(v)` y `es_vocal(v)`. La primera función determina si un caracter se corresponde a una vocal abierta (a, e, o), la segunda si es cerrada (i, u), y la tercera si es una vocal. Utilizar las dos primeras funciones para contruir la tercera función.\n",
        "\n",
        "La siguiente ejecución:\n",
        "\n",
        "```\n",
        "print(es_vocal(\"a\"))\n",
        "print(es_vocal(\"b\"))\n",
        "print(es_abierta(\"e\"))\n",
        "print(es_cerrada(\"e\"))\n",
        "```\n",
        "\n",
        "debería devolver:\n",
        "\n",
        "```\n",
        "True\n",
        "False\n",
        "True\n",
        "False\n",
        "```"
      ]
    },
    {
      "cell_type": "code",
      "execution_count": 1,
      "metadata": {
        "trusted": true
      },
      "outputs": [
        {
          "name": "stdout",
          "output_type": "stream",
          "text": [
            "True\n",
            "False\n",
            "True\n",
            "False\n"
          ]
        }
      ],
      "source": [
        "def es_abierta(v):\n",
        "    return v in \"aeoáéóAEOÁÉÓ\"\n",
        "\n",
        "def es_cerrada(v):\n",
        "    return v in \"iuíúüIUÍÚÜ\"\n",
        "\n",
        "def es_vocal(v):\n",
        "    return es_abierta(v) or es_cerrada(v)\n",
        "\n",
        "print(es_vocal(\"a\"))\n",
        "print(es_vocal(\"b\"))\n",
        "print(es_abierta(\"e\"))\n",
        "print(es_cerrada(\"e\"))"
      ]
    },
    {
      "cell_type": "markdown",
      "metadata": {},
      "source": [
        "**2. Ejercicio** Realizar una función `acentuada()` que devuelva verdadero si la palabra tiene acento, y falso en caso contrario."
      ]
    },
    {
      "cell_type": "code",
      "execution_count": null,
      "metadata": {
        "trusted": true
      },
      "outputs": [],
      "source": [
        "def acentuada(s):\n",
        "    return any([c in s for c in \"áéíóú\"])\n",
        "\n",
        "print(acentuada(\"bonsái\"))\n",
        "print(acentuada(\"bonsai\"))"
      ]
    },
    {
      "cell_type": "markdown",
      "metadata": {},
      "source": [
        "**3. Ejercicio** Implementar una función `es_enfermedad(word)` que devuelve `True` si la palabra es un término que hace referencia a una enfermedad, y `False`en caso contrario. Para ello se comprobará si la palabra termina con alguno de los siguientes sufijos:\n",
        "\n",
        "\"pata\",\"patía\",\"sis\",\"iasis\",\"osis\"\n",
        "\n",
        "La siguiente ejecución:\n",
        "\n",
        "```\n",
        "print(es_enfermedad(\"cardiopatía\"))\n",
        "print(es_enfermedad(\"apendicitis\"))\n",
        "```\n",
        "\n",
        "debería devolver:\n",
        "\n",
        "`True\n",
        "False`"
      ]
    },
    {
      "cell_type": "code",
      "execution_count": 2,
      "metadata": {
        "trusted": true
      },
      "outputs": [
        {
          "name": "stdout",
          "output_type": "stream",
          "text": [
            "True\n",
            "False\n"
          ]
        }
      ],
      "source": [
        "def es_enfermedad(s):\n",
        "    return any([s.endswith(sufijo) for sufijo in [\"pata\",\"patía\",\"sis\",\"iasis\",\"osis\"]])\n",
        "\n",
        "print(es_enfermedad(\"cardiopatía\"))\n",
        "print(es_enfermedad(\"apendicitis\"))"
      ]
    },
    {
      "cell_type": "markdown",
      "metadata": {},
      "source": [
        "**4. Ejercicio** Realizar una función `terminacon_vocal(w)` que devuelva verdadero si una palabra termina en vocal. \n",
        "\n",
        "La siguiente ejecución:\n",
        "\n",
        "```\n",
        "print(terminacon_vocal(\"odio\"))\n",
        "print(terminacon_vocal(\"amor\"))\n",
        "```\n",
        "\n",
        "debería devolver:\n",
        "\n",
        "```\n",
        "True\n",
        "False\n",
        "```"
      ]
    },
    {
      "cell_type": "code",
      "execution_count": 3,
      "metadata": {
        "trusted": true
      },
      "outputs": [
        {
          "name": "stdout",
          "output_type": "stream",
          "text": [
            "True\n",
            "False\n"
          ]
        }
      ],
      "source": [
        "def terminacon_vocal(s):\n",
        "    return any([s.lower().endswith(vocal) for vocal in \"aáeéiíoóuú\"])\n",
        "\n",
        "print(terminacon_vocal(\"odio\"))\n",
        "print(terminacon_vocal(\"amor\"))"
      ]
    },
    {
      "cell_type": "markdown",
      "metadata": {},
      "source": [
        "**5. Ejercicio** Definir una función `crea_plural()` que devuelve el plural de una palabra. "
      ]
    },
    {
      "cell_type": "code",
      "execution_count": 4,
      "metadata": {
        "trusted": true
      },
      "outputs": [
        {
          "name": "stdout",
          "output_type": "stream",
          "text": [
            "unos\n",
            "doses\n"
          ]
        }
      ],
      "source": [
        "def crea_plural(w):\n",
        "    if terminacon_vocal(w):\n",
        "        return w + \"s\"\n",
        "    else:\n",
        "        return w + \"es\"\n",
        "\n",
        "print(crea_plural(\"uno\"))\n",
        "print(crea_plural(\"dos\"))"
      ]
    },
    {
      "cell_type": "markdown",
      "metadata": {},
      "source": [
        "**6. Ejercicio** Realizar una función que reciba un número y una unidad de tiempo como cadena, y devuelva su representación como una cadena de caracteres.\n",
        "\n",
        "Ejemplo:\n",
        "\n",
        "```\n",
        "print(tiempo_a_cadena(10, \"minuto\"))\n",
        "print(tiempo_a_cadena(1, \"hora\"))\n",
        "```\n",
        "\n",
        "devuelva:\n",
        "\n",
        "```\n",
        "10 minutos\n",
        "1 hora\n",
        "```"
      ]
    },
    {
      "cell_type": "code",
      "execution_count": 5,
      "metadata": {
        "trusted": true
      },
      "outputs": [
        {
          "name": "stdout",
          "output_type": "stream",
          "text": [
            "10 minutos\n",
            "1 hora\n"
          ]
        }
      ],
      "source": [
        "def tiempo_a_cadena(n, s):\n",
        "    if n > 1:\n",
        "        s = crea_plural(s)\n",
        "    return str(n) + \" \" + s\n",
        "\n",
        "print(tiempo_a_cadena(10, \"minuto\"))\n",
        "print(tiempo_a_cadena(1, \"hora\"))"
      ]
    },
    {
      "cell_type": "markdown",
      "metadata": {},
      "source": [
        "**7. Ejercicio** Definir una función `conjuga` que dado un verbo regular en infinitivo y una lista de sufijos devuelva las formas conjugadas.\n",
        "\n",
        "Por ejemplo, si definimos `conjuga_presente(verbo)` como:\n",
        "\n",
        "`def conjuga_presente(verbo):\n",
        "    return conjuga(verbo, [\"o\", \"as\", \"a\", \"amos\", \"áis\", \"an\"])`\n",
        "\n",
        "y realizamos la siguiente ejecución:\n",
        "\n",
        "`print(conjuga_presente(\"saltar\"))`\n",
        "\n",
        "debería devolver:\n",
        "\n",
        "`['salto', 'saltas', 'salta', 'saltamos', 'saltáis', 'saltan']`"
      ]
    },
    {
      "cell_type": "code",
      "execution_count": 6,
      "metadata": {
        "trusted": true
      },
      "outputs": [
        {
          "name": "stdout",
          "output_type": "stream",
          "text": [
            "['salto', 'saltas', 'salta', 'saltamos', 'saltáis', 'saltan']\n"
          ]
        }
      ],
      "source": [
        "def conjuga(verbo, sufijos):\n",
        "    raiz = verbo[:-2]\n",
        "    return [raiz + sufijo for sufijo in sufijos]\n",
        "\n",
        "def conjuga_presente(verbo):\n",
        "    return conjuga(verbo, [\"o\", \"as\", \"a\", \"amos\", \"áis\", \"an\"])\n",
        "    \n",
        "print(conjuga_presente(\"saltar\"))"
      ]
    },
    {
      "cell_type": "markdown",
      "metadata": {},
      "source": [
        "**8. Ejercicio** Extrae los trigramas de una palabra. Un trigrama es una subsecuencia de 3 caracteres consecutivos."
      ]
    },
    {
      "cell_type": "code",
      "execution_count": 7,
      "metadata": {
        "trusted": true
      },
      "outputs": [
        {
          "data": {
            "text/plain": [
              "[('p', 'e', 'r'),\n",
              " ('e', 'r', 'i'),\n",
              " ('r', 'i', 's'),\n",
              " ('i', 's', 'c'),\n",
              " ('s', 'c', 'o'),\n",
              " ('c', 'o', 'p'),\n",
              " ('o', 'p', 'i'),\n",
              " ('p', 'i', 'o')]"
            ]
          },
          "execution_count": 7,
          "metadata": {},
          "output_type": "execute_result"
        }
      ],
      "source": [
        "def extrae_trigramas(texto):\n",
        "    trigramas = list()\n",
        "    for idx in range(0, len(texto)-2):\n",
        "        trigrama = (texto[idx], texto[idx+1], texto[idx+2])\n",
        "        trigramas.append(trigrama)\n",
        "    return(trigramas)\n",
        "\n",
        "extrae_trigramas(\"periscopio\")"
      ]
    },
    {
      "cell_type": "markdown",
      "metadata": {},
      "source": [
        "**9. Ejercicio** Encontrar las aparaciones de un determinada caracter en un cadena. Guardar todas las apariciones en un lista. Por ejemplo, las apariciones de 'a' en la cadena \"bacara\" son [1,3,5]"
      ]
    },
    {
      "cell_type": "code",
      "execution_count": 8,
      "metadata": {
        "trusted": true
      },
      "outputs": [
        {
          "name": "stdout",
          "output_type": "stream",
          "text": [
            "[1, 3, 5]\n"
          ]
        }
      ],
      "source": [
        "s = \"bacara\"\n",
        "d = []\n",
        "i = str.find(s, \"a\")\n",
        "while i != -1:\n",
        "    d.append(i)\n",
        "    i = str.find(s, \"a\", i+1)\n",
        "print(d)"
      ]
    }
  ],
  "metadata": {
    "kernelspec": {
      "display_name": "Python 3.6",
      "language": "python",
      "name": "python36"
    },
    "language_info": {
      "codemirror_mode": {
        "name": "ipython",
        "version": 3
      },
      "file_extension": ".py",
      "mimetype": "text/x-python",
      "name": "python",
      "nbconvert_exporter": "python",
      "pygments_lexer": "ipython3",
      "version": "3.6.6"
    }
  },
  "nbformat": 4,
  "nbformat_minor": 2
}
