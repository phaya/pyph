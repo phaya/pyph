{
  "cells": [
    {
      "cell_type": "markdown",
      "metadata": {
        "collapsed": true
      },
      "source": [
        "# Operaciones avanzadas para dar formato\n",
        "[Pablo A. Haya](https://pablohaya.com)"
      ]
    },
    {
      "cell_type": "markdown",
      "metadata": {},
      "source": [
        "Desde la versión de Python 3 se ha incorporado un nuevo mecanismo que permite dar formato al texto de manera bastante intutitiva. Veamos un ejemplo sencillo."
      ]
    },
    {
      "cell_type": "code",
      "execution_count": 1,
      "metadata": {
        "trusted": true
      },
      "outputs": [
        {
          "name": "stdout",
          "output_type": "stream",
          "text": [
            "Mi nombre es Pablito\n"
          ]
        }
      ],
      "source": [
        "print(\"Mi nombre es {}\".format(\"Pablito\"))"
      ]
    },
    {
      "cell_type": "markdown",
      "metadata": {},
      "source": [
        "Se define una cadena de caracteres en la cual se identifican los huecos que se quieren rellenar con paréntesis `{}`. El método `format()` indica los valores que habrá de sustituirse en los huecos indicados anteriormente.\n",
        "\n",
        "Se puede rellenar más de un hueco incluiyendo más de un argumento"
      ]
    },
    {
      "cell_type": "code",
      "execution_count": 2,
      "metadata": {
        "trusted": true
      },
      "outputs": [
        {
          "name": "stdout",
          "output_type": "stream",
          "text": [
            "Mi nombre es Pablito Haya\n"
          ]
        }
      ],
      "source": [
        "print(\"Mi nombre es {} {}\".format(\"Pablito\", \"Haya\"))"
      ]
    },
    {
      "cell_type": "markdown",
      "metadata": {},
      "source": [
        "Como podemos comprobar, los valores se asignan a los huecos en orden de aparición. Se puede alterar este orden numerando los huecos desde 0. "
      ]
    },
    {
      "cell_type": "code",
      "execution_count": 3,
      "metadata": {
        "trusted": true
      },
      "outputs": [
        {
          "name": "stdout",
          "output_type": "stream",
          "text": [
            "Mi nombre es Haya Coll Pablito\n"
          ]
        }
      ],
      "source": [
        "print(\"Mi nombre es {1} {2} {0}\".format(\"Pablito\", \"Haya\", \"Coll\"))"
      ]
    },
    {
      "cell_type": "markdown",
      "metadata": {},
      "source": [
        "ó se puede emplear etiquetas que faciliten referenciar donde se ubica cada valor."
      ]
    },
    {
      "cell_type": "code",
      "execution_count": 4,
      "metadata": {
        "trusted": true
      },
      "outputs": [
        {
          "name": "stdout",
          "output_type": "stream",
          "text": [
            "Mi nombre es Haya Coll Pablo\n"
          ]
        }
      ],
      "source": [
        "print(\"Mi nombre es {apellido1} {apellido2} {nombre}\".format(nombre=\"Pablo\", apellido1=\"Haya\", apellido2=\"Coll\"))"
      ]
    },
    {
      "cell_type": "markdown",
      "metadata": {},
      "source": [
        "En vez de facilitar los argumentos por separado se pueden agrupar en una lista."
      ]
    },
    {
      "cell_type": "code",
      "execution_count": 5,
      "metadata": {
        "trusted": true
      },
      "outputs": [
        {
          "name": "stdout",
          "output_type": "stream",
          "text": [
            "Mi nombre es Torrijos Caruda Carmen\n"
          ]
        }
      ],
      "source": [
        "print(\"Mi nombre es {d[1]} {d[2]} {d[0]}\".format(d=[\"Carmen\", \"Torrijos\", \"Caruda\"]))"
      ]
    },
    {
      "cell_type": "markdown",
      "metadata": {},
      "source": [
        "Fíjate que es preciso darle un nombre a la lista, y luego acceder a cada elemento de la lista por su posición (`d[0], d[1], d[2]...`)"
      ]
    },
    {
      "cell_type": "markdown",
      "metadata": {},
      "source": [
        "**Prueba tú mismo** A realizar un ejemplo donde se le suministre una lista de números, y comprobar que funciona la misma sintáxis que si fueran cadenas de caracteres."
      ]
    },
    {
      "cell_type": "markdown",
      "metadata": {},
      "source": [
        "Quizás lo más interesante de `format()` es poder transformar una cadena en otra cadena"
      ]
    },
    {
      "cell_type": "code",
      "execution_count": 6,
      "metadata": {
        "trusted": true
      },
      "outputs": [
        {
          "name": "stdout",
          "output_type": "stream",
          "text": [
            "usuario:pablohaya dominio:gmail.com\n"
          ]
        }
      ],
      "source": [
        "print(\"usuario:{l[0]} dominio:{l[1]}\".format(l=\"pablohaya@gmail.com\".split(\"@\")))"
      ]
    },
    {
      "cell_type": "markdown",
      "metadata": {},
      "source": [
        "Al dividir la dirección de correo por el caracter `@` se obtiene una lista con dos valores que podemos utilizar para componer una nueva cadena."
      ]
    },
    {
      "cell_type": "markdown",
      "metadata": {},
      "source": [
        "Si tenemos un diccionario podemos utilizar las claves del mismo para incluir los valores en los huecos. Los `**` asteriscos son necesarios, y lo que consiguen es expandir el diccionario en múltiples parámetros.\n",
        "Es como si se hubiera llamada la función con `s.format(nombre=\"Hodor\", apellido=\"Hodor!\")`"
      ]
    },
    {
      "cell_type": "code",
      "execution_count": 7,
      "metadata": {
        "trusted": true
      },
      "outputs": [
        {
          "data": {
            "text/plain": [
              "'Hodor Hodor!'"
            ]
          },
          "execution_count": 7,
          "metadata": {},
          "output_type": "execute_result"
        }
      ],
      "source": [
        "data = {'nombre': 'Hodor', 'apellido': 'Hodor!'}\n",
        "s = \"{nombre} {apellido}\"\n",
        "s.format(**data)"
      ]
    },
    {
      "cell_type": "markdown",
      "metadata": {},
      "source": [
        "**Alineación a la izquierda y a la derecha**"
      ]
    },
    {
      "cell_type": "markdown",
      "metadata": {},
      "source": [
        "Se pueden incluir parámetros dentro de los huecos que modifican la presentación, como por ejemplo, conseguir alinear a la cadena, ya sea a izquierda, derecha o centro.\n",
        "\n",
        "Hay que indicar tanto la dirección como el número de espacios a cubrir."
      ]
    },
    {
      "cell_type": "code",
      "execution_count": 8,
      "metadata": {
        "trusted": true
      },
      "outputs": [
        {
          "name": "stdout",
          "output_type": "stream",
          "text": [
            "Mi nombre es Haya Coll       | Pablo\n"
          ]
        }
      ],
      "source": [
        "print(\"Mi nombre es {1} {2:<10} | {0}\".format(\"Pablo\", \"Haya\", \"Coll\"))"
      ]
    },
    {
      "cell_type": "markdown",
      "metadata": {},
      "source": [
        "El símbolo `\"<\"` después de los `\":\"` puntos indica que la alineación es a la izquierda. `10` es el número de espacios que se reservan. Si la cadena tiene menos caracteres, se rellenan con espacios en blanco hasta cubrir los 10.\n",
        "\n",
        "El símbolo en sentido contrario indica alineación a la derecha."
      ]
    },
    {
      "cell_type": "code",
      "execution_count": 10,
      "metadata": {
        "trusted": true
      },
      "outputs": [
        {
          "data": {
            "text/plain": [
              "'Mi nombre es Haya Coll,    Pablo'"
            ]
          },
          "execution_count": 10,
          "metadata": {},
          "output_type": "execute_result"
        }
      ],
      "source": [
        "\"Mi nombre es {1} {2}, {0:>8}\".format(\"Pablo\", \"Haya\", \"Coll\")"
      ]
    },
    {
      "cell_type": "markdown",
      "metadata": {},
      "source": [
        "**Prueba tú mismo** A emplear el símbolo `^` y ver el resultado."
      ]
    },
    {
      "cell_type": "markdown",
      "metadata": {},
      "source": [
        "Se puede sustituir los espacios en blanco por cualquier caracter, como en el siguiente ejemplo que se añaden `\".\"`"
      ]
    },
    {
      "cell_type": "code",
      "execution_count": 11,
      "metadata": {
        "trusted": true
      },
      "outputs": [
        {
          "data": {
            "text/plain": [
              "'Introducción............................10'"
            ]
          },
          "execution_count": 11,
          "metadata": {},
          "output_type": "execute_result"
        }
      ],
      "source": [
        "\"{:.<40}{}\".format('Introducción', 10)"
      ]
    },
    {
      "cell_type": "markdown",
      "metadata": {},
      "source": [
        "Se pueden utilizar etiquetas para incluir los parámetros de alineado y ancho dentro de la llamada a `format()`."
      ]
    },
    {
      "cell_type": "code",
      "execution_count": 12,
      "metadata": {
        "trusted": true
      },
      "outputs": [
        {
          "data": {
            "text/plain": [
              "'..................El principito...................'"
            ]
          },
          "execution_count": 12,
          "metadata": {},
          "output_type": "execute_result"
        }
      ],
      "source": [
        "'{:.{alineado}{ancho}}'.format('El principito', alineado='^', ancho=50)"
      ]
    },
    {
      "cell_type": "markdown",
      "metadata": {},
      "source": [
        "**Recortar**"
      ]
    },
    {
      "cell_type": "markdown",
      "metadata": {},
      "source": [
        "Se puede delimitar el número de caracteres a mostrar indicándolos después del número de espacios."
      ]
    },
    {
      "cell_type": "code",
      "execution_count": 13,
      "metadata": {
        "trusted": true
      },
      "outputs": [
        {
          "data": {
            "text/plain": [
              "'García Má           , Gabriel'"
            ]
          },
          "execution_count": 13,
          "metadata": {},
          "output_type": "execute_result"
        }
      ],
      "source": [
        "'{1:20.9}, {0}'.format(\"Gabriel\", \"García Márquez\")"
      ]
    },
    {
      "cell_type": "markdown",
      "metadata": {},
      "source": [
        "En el ejemplo se reservan 20 huecos, pero sólo se utilizan 9."
      ]
    },
    {
      "cell_type": "markdown",
      "metadata": {},
      "source": [
        "**Prueba tú mismo** Tomando el ejemplo anterior omite el número de espacios (`{1:.9}`), y mira como queda la salida."
      ]
    },
    {
      "cell_type": "markdown",
      "metadata": {},
      "source": [
        "**Prueba tú mismo** a combinar tanto recotar caracteres, e sustituir el relleno con espacios por el relleno con puntos. "
      ]
    },
    {
      "cell_type": "markdown",
      "metadata": {},
      "source": [
        "**Números**"
      ]
    },
    {
      "cell_type": "code",
      "execution_count": 14,
      "metadata": {
        "trusted": true
      },
      "outputs": [
        {
          "name": "stdout",
          "output_type": "stream",
          "text": [
            "..................42\n"
          ]
        }
      ],
      "source": [
        "print('{:.>20d}'.format(42))"
      ]
    },
    {
      "cell_type": "code",
      "execution_count": 15,
      "metadata": {
        "trusted": true
      },
      "outputs": [
        {
          "name": "stdout",
          "output_type": "stream",
          "text": [
            "_________100\n",
            "________1000\n",
            "_______10000\n",
            "______100000\n",
            "_____1000000\n",
            "____10000000\n",
            "___100000000\n",
            "__1000000000\n",
            "_________100\n",
            "________1000\n",
            "_______10000\n",
            "______100000\n",
            "_____1000000\n",
            "____10000000\n",
            "___100000000\n",
            "__1000000000\n"
          ]
        }
      ],
      "source": [
        "for exponent in range(2, 10):\n",
        "    print(\"{:_>12d}\".format(10**exponent))\n",
        "    \n",
        "exponent = 2\n",
        "while exponent < 10:\n",
        "    print(\"{:_>12d}\".format(10**exponent))\n",
        "    exponent = exponent + 1"
      ]
    },
    {
      "cell_type": "code",
      "execution_count": 16,
      "metadata": {
        "trusted": true
      },
      "outputs": [
        {
          "data": {
            "text/plain": [
              "'42.400000'"
            ]
          },
          "execution_count": 16,
          "metadata": {},
          "output_type": "execute_result"
        }
      ],
      "source": [
        "'{:f}'.format(42.4)"
      ]
    },
    {
      "cell_type": "code",
      "execution_count": 17,
      "metadata": {
        "trusted": true
      },
      "outputs": [
        {
          "data": {
            "text/plain": [
              "'3.1416'"
            ]
          },
          "execution_count": 17,
          "metadata": {},
          "output_type": "execute_result"
        }
      ],
      "source": [
        "from math import pi\n",
        "\n",
        "'{:.4f}'.format(pi)"
      ]
    },
    {
      "cell_type": "code",
      "execution_count": 18,
      "metadata": {
        "trusted": true
      },
      "outputs": [
        {
          "name": "stdout",
          "output_type": "stream",
          "text": [
            "+42\n",
            "-42\n"
          ]
        }
      ],
      "source": [
        "print('{:+d}'.format(42))\n",
        "print('{:+d}'.format(-42))"
      ]
    },
    {
      "cell_type": "code",
      "execution_count": 19,
      "metadata": {
        "trusted": true
      },
      "outputs": [
        {
          "name": "stdout",
          "output_type": "stream",
          "text": [
            " 42\n",
            "-42\n"
          ]
        }
      ],
      "source": [
        "print('{: d}'.format(42))\n",
        "print('{: d}'.format(-42))"
      ]
    },
    {
      "cell_type": "code",
      "execution_count": null,
      "metadata": {
        "trusted": true
      },
      "outputs": [],
      "source": [
        "from datetime import datetime\n",
        "\n",
        "'{:%Y-%m-%d %H:%M}'.format(datetime.now())"
      ]
    }
  ],
  "metadata": {
    "kernelspec": {
      "display_name": "Python 3.6",
      "language": "python",
      "name": "python36"
    },
    "language_info": {
      "codemirror_mode": {
        "name": "ipython",
        "version": 3
      },
      "file_extension": ".py",
      "mimetype": "text/x-python",
      "name": "python",
      "nbconvert_exporter": "python",
      "pygments_lexer": "ipython3",
      "version": "3.6.6"
    }
  },
  "nbformat": 4,
  "nbformat_minor": 2
}
