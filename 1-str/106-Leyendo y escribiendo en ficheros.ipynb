{
  "cells": [
    {
      "metadata": {
        "collapsed": true
      },
      "cell_type": "markdown",
      "source": "# Leyendo y escribendo en un fichero\n[Pablo A. Haya](https://pablohaya.com)"
    },
    {
      "metadata": {},
      "cell_type": "markdown",
      "source": "Hasta el momento hemos trabajado con textos que definíamos en el propio código empleando variables que inicializamos con una cadena de caracteres. En cambio, la mayor parte de los textos interesantes los encontramos en ficheros externos. `Python` incluye funciones que facilitan leer ficheros, y cargar el contenido en variables.\n\nLas operaciones básicas para trabajar con el contenido de un fichero son:\n\n1. Abrimos el fichero indicando la ruta donde se encuentra.\n2. Leemos el texto, y lo almacenamos en una variable.\n\nEl siguiente código abre un fichero, guarda el contenido en la variable `text`, e imprime la longitud del mismo."
    },
    {
      "metadata": {
        "trusted": true
      },
      "cell_type": "code",
      "source": "with open(\"corpus/pg320.txt\") as file:\n    text = file.read()\nprint(len(text))",
      "execution_count": null,
      "outputs": []
    },
    {
      "metadata": {},
      "cell_type": "markdown",
      "source": "El primer paso lo realizamos con la función `open()` conjuntamente con el comando `with`. Este último indica el ámbito donde el fichero se encuentra abierto. Fuera del `with`, el fichero se cierra, y no se puede trabajar con él hasta que no se vuelva a reabrir.\n\nLa ruta la podemos definir de manera absoluta o relativa. Las rutas absolutas especifican la localización del fichero desde la raiz de la unidad de disco. Por ejemplo, `C:\\Users\\pablo\\documents\\corpus\\Lazarillo.txt`. En cambio, las rutas relativas parten desde el directorio donde se encuentra el propio _notebook_. Así, si el notebook está ubicado en `C:\\Users\\pablo\\documents`, la ruta relativa del archivo sería `corpus\\Lazarillo.txt`. \n\nCuando el `notebook` que queremos abrir se encuentra en otra rama del árbol de directorios, se puede utilizar `..` para hacer referencia al directorio superior. Por ejemplo, si el bloc de notas se encuentra en `C:\\Users\\pablo\\programas\\analiza.ipynb`, para poder hacer referencia al fichero `Lazarillo.txt` pondríamos la ruta `..\\corpus\\Lazarillo.txt`.  \n\nCon el fichero localizado, la manera más sencilla para leer el texto es mediante el método `read()` que permite leer **todo** el contenido del fichero, y volcarlo en una variable."
    },
    {
      "metadata": {},
      "cell_type": "markdown",
      "source": "Una vez que tenemos una cadena de caracteres podemos realizar cualquiera de la manipulaciones que ya conocemos:"
    },
    {
      "metadata": {
        "trusted": true
      },
      "cell_type": "code",
      "source": "print(text[:100].upper())",
      "execution_count": null,
      "outputs": []
    },
    {
      "metadata": {},
      "cell_type": "markdown",
      "source": "El método `read()` permite limitar el número de caracteres que queremos leer."
    },
    {
      "metadata": {
        "trusted": true
      },
      "cell_type": "code",
      "source": "with open(\"corpus/pg320.txt\") as file:\n    text = file.read(100)\nprint(len(text))\nprint(text)",
      "execution_count": null,
      "outputs": []
    },
    {
      "metadata": {},
      "cell_type": "markdown",
      "source": "Otra facilidad que nos aporta `Python` es leer línea a línea mediante el método `readlines()`"
    },
    {
      "metadata": {
        "trusted": true
      },
      "cell_type": "code",
      "source": "with open(\"corpus/pg320.txt\") as file:\n    lines = file.readlines()\nprint(lines[:10])",
      "execution_count": null,
      "outputs": []
    },
    {
      "metadata": {},
      "cell_type": "markdown",
      "source": "Como se puede comprobar el resultado que devuelve `readlines()` es una lista cuyos elementos son las líneas leidas. Estas líneas incluyen el caracter `\\n` que indica el salto de líneas. Cuando aparece únicamente este caracter es que hemos leido una línea en blanco.  "
    },
    {
      "metadata": {},
      "cell_type": "markdown",
      "source": "**Prueba tú mismo** Imprime el número de líneas que tiene el fichero anterior."
    },
    {
      "metadata": {},
      "cell_type": "markdown",
      "source": "---\n**Para saber más**\n\nTanto el método `read()` como `readlines()` leen en memoria siempre todos los caracteres. En el caso de archivos muy voluminosos es posible que sea necesario manipularlos por partes. De esta manera, el número de caracteres que se cargan en memoria no supere un máximo durante toda la ejecución del programa.\n\nEl siguiente código permite pasar a mayúsculas un texto leyendo bloques de 1024 caracteres cada vez. También se podría haber utilizado `readlines()`. Recuerda que el parámetro `end` de la función `print()` evita que se descompoga el texto al eliminar el fin de línea."
    },
    {
      "metadata": {
        "trusted": true
      },
      "cell_type": "code",
      "source": "with open('corpus/pg320.txt') as file:\n    while True:\n        s = file.read(1024)\n        if not s:\n            break\n        print(s.upper(), end=\"\")",
      "execution_count": null,
      "outputs": []
    },
    {
      "metadata": {},
      "cell_type": "markdown",
      "source": "---"
    },
    {
      "metadata": {},
      "cell_type": "markdown",
      "source": "De la misma manera que se puede leer de un fichero, se puede escribir el contenido de una cadena de caracteres en fichero nuevo con el método `write()`."
    },
    {
      "metadata": {
        "trusted": true
      },
      "cell_type": "code",
      "source": "text = \"Hola mundo!\"\nwith open(\"resources/borra.me\", \"w\") as file:\n    file.write(text)",
      "execution_count": null,
      "outputs": []
    },
    {
      "metadata": {},
      "cell_type": "markdown",
      "source": "La sintaxis es similar añadiendo el parámetro `w` que indica que se crea un nuevo fichero, y se abre en modo escritura. Hay que tener en cuenta que si ya existiera un fichero con el mismo nombre se sobreesribe el contenido antiguo por el nuevo."
    },
    {
      "metadata": {
        "trusted": true
      },
      "cell_type": "markdown",
      "source": "Para comprobar que hemos creado un nuevo archivo, leemos su contenido."
    },
    {
      "metadata": {
        "trusted": true
      },
      "cell_type": "code",
      "source": "with open(\"resources/borra.me\") as file:\n    text = file.read()\nprint(text)",
      "execution_count": null,
      "outputs": []
    },
    {
      "metadata": {},
      "cell_type": "markdown",
      "source": "**Prueba tú mismo** Copia el contenido de un archivo de texto en otro archivo"
    },
    {
      "metadata": {},
      "cell_type": "markdown",
      "source": "**Prueba tú mismo** Cambia el modo de `w` a `a` y comprueba que en vez de sobreescribir se añade el contenido al final del fichero."
    },
    {
      "metadata": {},
      "cell_type": "markdown",
      "source": "**Prueba tú mismo** a eliminar el parámetro `end` del código anterior, y mira como cambia la salida."
    },
    {
      "metadata": {},
      "cell_type": "markdown",
      "source": "---\n**Para saber más**\n\nPor defecto, el modo en que se abre un fichero es lectura (`r` de read). No es necesario especificarlo en la función `open()` como hemos comprobado. Los otros dos modos son escritura (`w` de write), y añadir (`a` de append). Tanto `w` como `a` crean un nuevo fichero si no existería.\n\nOtro modo avanzado es `x` que crea un nuevo fichero, y en caso de que ya existira notifica un error, y no permite seguir con la operación (al contrario que `w` que sobreescribe el contenido).\n\n---"
    },
    {
      "metadata": {
        "trusted": true
      },
      "cell_type": "code",
      "source": "#\"\\n\".join(list_of_lines)\n# file.write(lines)\n",
      "execution_count": null,
      "outputs": []
    },
    {
      "metadata": {},
      "cell_type": "markdown",
      "source": "## Ejercicios"
    },
    {
      "metadata": {},
      "cell_type": "markdown",
      "source": "**1. Ejercicio** Leer un fichero e imprimirlo eliminando las líneas en blanco"
    },
    {
      "metadata": {
        "trusted": true
      },
      "cell_type": "code",
      "source": "with open(\"corpus/pg320.txt\") as file:\n    lines = file.readlines()\n    print(len(lines))\n\nnew_lines = [line for line in lines if not line == \"\\n\"]\nprint(len(new_lines))",
      "execution_count": null,
      "outputs": []
    },
    {
      "metadata": {},
      "cell_type": "markdown",
      "source": "**2. Ejercicio** Desarrollar un programa que devuelva los tokens de un fichero de texto. Se imprimirá un token por línea en el mismo orden que se leen. Crear una funcion `limpia()` que elimine todos los caracteres al principio y al final del token que no le pertenezcen. "
    },
    {
      "metadata": {
        "trusted": true
      },
      "cell_type": "code",
      "source": "from string import whitespace\nfrom string import punctuation\n\ndef limpia(s):\n    return s.strip(punctuation + whitespace + \"¿¡«»\")\n\nwith open(\"corpus/pg320.txt\") as file:\n    texto = file.read()\n    for token in texto.split()[200:220]:\n        print(limpia(token))    ",
      "execution_count": null,
      "outputs": []
    },
    {
      "metadata": {},
      "cell_type": "markdown",
      "source": "**3. Ejercicio** Ampliar el ejecicio anterior para que los tokens que se muestran sean únicos, y se muestren ordenados. Añadir una función adicional `normaliza()` que pase a mayúsculas el token una vez limpiado. Ademas, emplear la siguiente función `unique()`:\n\n```\ndef sort-u(l):\n    return(sorted(list(set(l))))\n```"
    },
    {
      "metadata": {
        "trusted": true
      },
      "cell_type": "code",
      "source": "from string import whitespace\nfrom string import punctuation\n\ndef limpia(s):\n    return(s.strip(punctuation + whitespace + \"¿¡«»\"))\n\ndef normaliza(s):\n    return(limpia(s).lower())\n\ndef unique(l):\n    return(list(set(l)))\n\nwith open(\"corpus/pg320.txt\") as file:\n    texto = file.read()\n    tokens = [normaliza(token) for token in texto.split()]\n    tokens = sorted(unique(tokens))\n    for token in tokens[-120:-100]:\n        print(token)",
      "execution_count": null,
      "outputs": []
    },
    {
      "metadata": {},
      "cell_type": "markdown",
      "source": "**4. Ejercicio** Añadir al listado anterior el token original además del normalizado separado un espacio"
    },
    {
      "metadata": {
        "trusted": true
      },
      "cell_type": "code",
      "source": "from string import whitespace\nfrom string import punctuation\n\ndef limpia(s):\n    return(s.strip(punctuation + whitespace + \"¿¡«»\"))\n           \ndef normaliza(s):\n    return(limpia(s).lower())\n\ndef unique(l):\n    return(list(set(l)))\n\nwith open(\"corpus/pg320.txt\") as file:\n    texto = file.read()\n    \n   # tokens = {normaliza(token):limpia(token) for token in texto.split()}\n    tokens = {} \n    for token in texto.split():\n        key = normaliza(token)\n        if not key in tokens:\n            tokens[key] = []\n        tokens[key].append(limpia(token))\n    \n    for k,v in sorted(tokens.items()):\n        print(k,unique(v))",
      "execution_count": null,
      "outputs": []
    },
    {
      "metadata": {},
      "cell_type": "markdown",
      "source": "**5. Ejercicio** Extraer todas las siglas de un texto (_palabras en mayúsculas_) en orden de aparición."
    },
    {
      "metadata": {
        "trusted": true
      },
      "cell_type": "code",
      "source": "from string import whitespace\nfrom string import punctuation\n\ndef limpia(s):\n    return(s.strip(punctuation + whitespace + \"¿¡«»\"))\n           \ndef normaliza(s):\n    return(limpia(s).lower())\n\ndef unique(l):\n    return(list(set(l)))\n\ndef es_mayuscula(c):\n    return(c == c.upper())\n\ndef es_sigla(s):\n    return(len(s) > 1 and \n           all([(es_mayuscula(c) or c == \".\") and not c.isdigit() for c in s]))\n\nwith open(\"corpus/pg320.txt\") as file:\n    texto = file.read()\n    tokens = [limpia(token) for token in texto.split()]\n    tokens = sorted(unique(tokens))\n    for token in tokens:\n        if es_sigla(token):\n            print(token)",
      "execution_count": null,
      "outputs": []
    },
    {
      "metadata": {},
      "cell_type": "markdown",
      "source": "**6. Ejercicio** Eliminar de un texto una serie de palabras prohibidas que se encuentran definidas en otro fichero.  "
    },
    {
      "metadata": {
        "trusted": true
      },
      "cell_type": "code",
      "source": "def limpia(s):\n    return(s.strip(punctuation + whitespace + \"¿¡«»\"))\n           \ndef normaliza(s):\n    return(limpia(s).lower())\n\nsentence = \"En lugar de la Mancha de cuyo nombre no quiero acordarme\"\nwith open(\"resources/spanish\") as f:\n    stopwords = [w.strip() for w in f.readlines()]\n    newsentence = [w for w in sentence.split() if not normaliza(w) in stopwords]\n\nprint(sentence) \nprint(\" \".join(newsentence)) ",
      "execution_count": null,
      "outputs": []
    },
    {
      "metadata": {},
      "cell_type": "markdown",
      "source": "**7. Ejercicio** Extraer los lemas de un texto en orden de aparición. Emplear un fichero externo que contenga una relación de lemas y formas."
    },
    {
      "metadata": {
        "trusted": true
      },
      "cell_type": "code",
      "source": "import csv\nfrom string import punctuation\nfrom string import whitespace\n\ndef limpia(s):\n    return(s.strip(punctuation + whitespace + \"¿¡«»\"))\n           \ndef normaliza(s):\n    return(limpia(s).lower())\n\nwith open(\"resources/lemmatization-es.txt\", encoding=\"utf-8-sig\") as file:\n    reader = csv.DictReader(file, delimiter='\\t')\n\n    formas = {}\n    for row in reader:\n        formas[row[\"forma\"]] = row[\"lema\"]\n    \n    with open(\"corpus/pg320.txt\") as file:\n        texto = file.read()\n        \n    for token in texto.split():\n        token = normaliza(token)\n        if token in formas.keys():\n            print(formas[token].upper())\n        else:\n            print(token)",
      "execution_count": null,
      "outputs": []
    },
    {
      "metadata": {},
      "cell_type": "markdown",
      "source": "**8. Ejercicio** Leer el fichero XXX, y guardar en otro fichero todos la frecuencia de aparición de los términos ordenados de mayor a menor "
    }
  ],
  "metadata": {
    "kernelspec": {
      "name": "python36",
      "display_name": "Python 3.6",
      "language": "python"
    },
    "language_info": {
      "mimetype": "text/x-python",
      "nbconvert_exporter": "python",
      "name": "python",
      "pygments_lexer": "ipython3",
      "version": "3.6.6",
      "file_extension": ".py",
      "codemirror_mode": {
        "version": 3,
        "name": "ipython"
      }
    }
  },
  "nbformat": 4,
  "nbformat_minor": 2
}