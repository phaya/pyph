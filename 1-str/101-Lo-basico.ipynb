{
  "cells": [
    {
      "cell_type": "markdown",
      "metadata": {
        "collapsed": true
      },
      "source": [
        "# Lo básico\n",
        "[Pablo A. Haya](https//pablohaya.com)"
      ]
    },
    {
      "cell_type": "markdown",
      "metadata": {},
      "source": [
        "Entre las operaciones más sencillas que se nos puede ocurrir es preguntar por el contenido de la cadena. Por ejemplo, si necesitamos saber el número de caracteres ya he visto que se emplea la función `len`."
      ]
    },
    {
      "cell_type": "code",
      "execution_count": 2,
      "metadata": {
        "trusted": true
      },
      "outputs": [
        {
          "data": {
            "text/plain": [
              "24"
            ]
          },
          "execution_count": 2,
          "metadata": {},
          "output_type": "execute_result"
        }
      ],
      "source": [
        "s = \"¡Oh capitán, mi capitán!\"\n",
        "len(s)"
      ]
    },
    {
      "cell_type": "markdown",
      "metadata": {
        "trusted": true
      },
      "source": [
        "o si queremos acceder a un determinado caracter utilizamos la posición del mismo entre corchetes `[]` Por ejemplo, para leer el primer caracter sería: "
      ]
    },
    {
      "cell_type": "code",
      "execution_count": 3,
      "metadata": {
        "trusted": true
      },
      "outputs": [
        {
          "data": {
            "text/plain": [
              "'¡'"
            ]
          },
          "execution_count": 3,
          "metadata": {},
          "output_type": "execute_result"
        }
      ],
      "source": [
        "s[0]"
      ]
    },
    {
      "cell_type": "markdown",
      "metadata": {},
      "source": [
        "Al igual que la lista, las posiciones **comienzan en 0**. Así, la posición de la 'h' en `Python` sería la 2.  "
      ]
    },
    {
      "cell_type": "markdown",
      "metadata": {},
      "source": [
        "**Prueba tú mismo** ¿Cuál sería la posición para acceder al caracter `'m'` de la cadena de caracteres almacenada en `s`. "
      ]
    },
    {
      "cell_type": "code",
      "execution_count": 4,
      "metadata": {
        "trusted": true
      },
      "outputs": [
        {
          "data": {
            "text/plain": [
              "'!'"
            ]
          },
          "execution_count": 4,
          "metadata": {},
          "output_type": "execute_result"
        }
      ],
      "source": [
        "s[-1]"
      ]
    },
    {
      "cell_type": "markdown",
      "metadata": {},
      "source": [
        "El mecanismo de _slicing_ también funciona con las cadenas de caracteres. Así, también podemos extraer una subcadena indicando la posición `inicial` y `final+1` separadas por `:`. La primera aparición de `'capitán'` en el texto se recuperaría con las posiciones 4 (donde comienza), y 11 (la posición siguiente al fin de la cadena). "
      ]
    },
    {
      "cell_type": "code",
      "execution_count": 5,
      "metadata": {
        "trusted": true
      },
      "outputs": [
        {
          "data": {
            "text/plain": [
              "'capitán'"
            ]
          },
          "execution_count": 5,
          "metadata": {},
          "output_type": "execute_result"
        }
      ],
      "source": [
        "s[4:11]"
      ]
    },
    {
      "cell_type": "markdown",
      "metadata": {},
      "source": [
        "Por ejemplo, si queremos quedarnos con toda la cadena menos los cuatro primeros caracteres sería:  "
      ]
    },
    {
      "cell_type": "code",
      "execution_count": 6,
      "metadata": {
        "trusted": true
      },
      "outputs": [
        {
          "data": {
            "text/plain": [
              "'capitán, mi capitán!'"
            ]
          },
          "execution_count": 6,
          "metadata": {},
          "output_type": "execute_result"
        }
      ],
      "source": [
        "s[4:]"
      ]
    },
    {
      "cell_type": "markdown",
      "metadata": {},
      "source": [
        "**Prueba tú mismo** ¿Cómo sería el _slicing_ para eliminar el último caracter?"
      ]
    },
    {
      "cell_type": "markdown",
      "metadata": {},
      "source": [
        "**Prueba tú mismo** ¿Cómo sería la expresión para quedarnos con los tres primeros caracteres?"
      ]
    },
    {
      "cell_type": "markdown",
      "metadata": {},
      "source": [
        "Recordemos que el operador `+` permite crear una nueva cadena que es la concatenación de ambas."
      ]
    },
    {
      "cell_type": "code",
      "execution_count": 7,
      "metadata": {
        "trusted": true
      },
      "outputs": [
        {
          "data": {
            "text/plain": [
              "'Para comienzo de lo cual dispuso la adversa fortuna lugar oportuno'"
            ]
          },
          "execution_count": 7,
          "metadata": {},
          "output_type": "execute_result"
        }
      ],
      "source": [
        "s1 = \"Para comienzo de lo cual dispuso\"\n",
        "s2 = \" la adversa fortuna lugar oportuno\"\n",
        "s1 + s2"
      ]
    },
    {
      "cell_type": "markdown",
      "metadata": {},
      "source": [
        "Es importante tener en cuenta que en Python las cadenas de caracteres *no* se pueden modificar una vez creadas, esto es, son inmutables."
      ]
    },
    {
      "cell_type": "code",
      "execution_count": 8,
      "metadata": {
        "trusted": true
      },
      "outputs": [
        {
          "ename": "TypeError",
          "evalue": "'str' object does not support item assignment",
          "output_type": "error",
          "traceback": [
            "\u001b[0;31m---------------------------------------------------------------------------\u001b[0m",
            "\u001b[0;31mTypeError\u001b[0m                                 Traceback (most recent call last)",
            "\u001b[0;32m<ipython-input-8-6f960e68adaa>\u001b[0m in \u001b[0;36m<module>\u001b[0;34m\u001b[0m\n\u001b[0;32m----> 1\u001b[0;31m \u001b[0ms\u001b[0m\u001b[0;34m[\u001b[0m\u001b[0;36m0\u001b[0m\u001b[0;34m]\u001b[0m \u001b[0;34m=\u001b[0m \u001b[0;34m\"¿\"\u001b[0m\u001b[0;34m\u001b[0m\u001b[0m\n\u001b[0m",
            "\u001b[0;31mTypeError\u001b[0m: 'str' object does not support item assignment"
          ]
        }
      ],
      "source": [
        "s[0] = \"¿\""
      ]
    },
    {
      "cell_type": "markdown",
      "metadata": {},
      "source": [
        "Lo dejá bien claro `Python` cuando intentamos modificar una cadena de caracteres. Es preciso crear una nueva cadena de caracteres, ya sea mediante _slicing_, mediante concatenación, o combinación de ambas."
      ]
    },
    {
      "cell_type": "markdown",
      "metadata": {},
      "source": [
        "**Prueba tú mismo** Crear una nueva cadena donde las exclamaciones se sustituyan por signos de interrogación."
      ]
    },
    {
      "cell_type": "markdown",
      "metadata": {},
      "source": [
        "Los operadores relacionales también funcionan con las cadenas de caracteres. Podemos comprobar si dos caracteres son iguales."
      ]
    },
    {
      "cell_type": "code",
      "execution_count": 9,
      "metadata": {
        "trusted": true
      },
      "outputs": [
        {
          "data": {
            "text/plain": [
              "True"
            ]
          },
          "execution_count": 9,
          "metadata": {},
          "output_type": "execute_result"
        }
      ],
      "source": [
        "s[1] == 'O'"
      ]
    },
    {
      "cell_type": "markdown",
      "metadata": {},
      "source": [
        "**Prueba tú mismo** Realizar una expresión que compruebe si la primera letra de una palabra es igual que la última"
      ]
    },
    {
      "cell_type": "markdown",
      "metadata": {},
      "source": [
        "También podemos utilizarlos para comparar cadenas de caracteres completas. Así, los operadores `==` ó `!=` que permiten saber si dos cadenas contienen los mismos caracteres, o son distintas respectivamente."
      ]
    },
    {
      "cell_type": "code",
      "execution_count": 10,
      "metadata": {
        "trusted": true
      },
      "outputs": [
        {
          "data": {
            "text/plain": [
              "False"
            ]
          },
          "execution_count": 10,
          "metadata": {},
          "output_type": "execute_result"
        }
      ],
      "source": [
        "\"Vetusta\" == \"Oviedo\""
      ]
    },
    {
      "cell_type": "code",
      "execution_count": 11,
      "metadata": {
        "trusted": true
      },
      "outputs": [
        {
          "data": {
            "text/plain": [
              "True"
            ]
          },
          "execution_count": 11,
          "metadata": {},
          "output_type": "execute_result"
        }
      ],
      "source": [
        "\"Vetusta\" != \"Oviedo\""
      ]
    },
    {
      "cell_type": "markdown",
      "metadata": {},
      "source": [
        "y el resto de operadores de comparación `>`, `<`, `<=`, y `>=`, que indican cual de las dos cadenas es menor o mayor siguiendo el orden lexicográfico, esto es, comprobando el orden caracter a caracter."
      ]
    },
    {
      "cell_type": "code",
      "execution_count": 12,
      "metadata": {
        "trusted": true
      },
      "outputs": [
        {
          "data": {
            "text/plain": [
              "True"
            ]
          },
          "execution_count": 12,
          "metadata": {},
          "output_type": "execute_result"
        }
      ],
      "source": [
        "\"Vetusta\" > \"Oviedo\""
      ]
    },
    {
      "cell_type": "markdown",
      "metadata": {},
      "source": [
        "`\"Vetusta\"` es mayor que `\"Oviedo\"` ya que la `'V'` mayúscula aparece después que la `'O'`. Piensa que si asignáramos un número a cada letra según el orden de aparición, a la `'V'` le correspondería un número mayor que la `'O'`.\n",
        "\n",
        "Hay que tener en cuenta que en esta ordenación primero aparecen todas las mayúsculas, y luego aparecen todas las minúsculas. Por lo que una letra minúscula siempre será mayor que cualquier mayúsculas.\n",
        "\n",
        "Si cambiamos la `'O'` por su versión en minúscula vemos que cambia el resultado."
      ]
    },
    {
      "cell_type": "code",
      "execution_count": 13,
      "metadata": {
        "trusted": true
      },
      "outputs": [
        {
          "data": {
            "text/plain": [
              "False"
            ]
          },
          "execution_count": 13,
          "metadata": {},
          "output_type": "execute_result"
        }
      ],
      "source": [
        "\"Vetusta\" > \"oviedo\""
      ]
    },
    {
      "cell_type": "markdown",
      "metadata": {},
      "source": [
        "En caso de coincidir los caracteres iniciales de las ambas cadenas, se buscaría el primer caracter distinto para decidir el orden."
      ]
    },
    {
      "cell_type": "markdown",
      "metadata": {},
      "source": [
        "**Prueba tú mismo** ¿Qué cadena es mayor `\"Vetusta\"` ó `\"Vetusto\"`?"
      ]
    },
    {
      "cell_type": "markdown",
      "metadata": {},
      "source": [
        "**Prueba tú mismo** ¿Qué cadena es mayor `\"10\"` ó `\"9\"`?"
      ]
    },
    {
      "cell_type": "markdown",
      "metadata": {},
      "source": [
        "**Prueba tú mismo** ¿Qué cadena es mayor `\"uno\"` ó `\"1\"`?"
      ]
    },
    {
      "cell_type": "markdown",
      "metadata": {},
      "source": [
        "**Prueba tú mismo** ¿Qué cadena es mayor `\"una\"` ó `\"unas\"`?"
      ]
    },
    {
      "cell_type": "markdown",
      "metadata": {},
      "source": [
        "## Ejercicios"
      ]
    },
    {
      "cell_type": "markdown",
      "metadata": {},
      "source": [
        "**1. Ejercicio** Realizar una función `apertura_cierre()` que devuelve verdadero si una palabra empieza por un signo de interrogación, exclamación o paréntesis, y tiene el termino de cierre correspondiente.\n",
        "\n",
        "La siguiente ejecución:\n",
        "\n",
        "```\n",
        "print(apertura_cierre(\"¿Cómo?\"))\n",
        "print(apertura_cierre(\"Qué tal?\"))\n",
        "print(apertura_cierre(\"¡¡¡Gol!!!\"))\n",
        "```\n",
        "\n",
        "debería devolver:\n",
        "\n",
        "```\n",
        "True\n",
        "False\n",
        "True\n",
        "```"
      ]
    },
    {
      "cell_type": "code",
      "execution_count": 3,
      "metadata": {
        "trusted": true
      },
      "outputs": [
        {
          "name": "stdout",
          "output_type": "stream",
          "text": [
            "True\n",
            "False\n",
            "True\n"
          ]
        }
      ],
      "source": [
        "def apertura_cierre(w):\n",
        "    return (w[0] == '¿' and w[-1] == '?') or \\\n",
        "           (w[0] == '¡' and w[-1] == '!') or \\\n",
        "           (w[0] == '(' and w[-1] == ')')\n",
        "\n",
        "print(apertura_cierre(\"¿Cómo?\"))\n",
        "print(apertura_cierre(\"Qué tal?\"))\n",
        "print(apertura_cierre(\"¡¡¡Gol!!!\"))"
      ]
    },
    {
      "cell_type": "markdown",
      "metadata": {},
      "source": [
        "**2. Ejercicio** Un palíndromo es una palabra que se lee igual de izquierda a derecha que de derecha a izquierda. Implementar una función `es_palindromo(w)` que identifique si una palabra es palíndromo."
      ]
    },
    {
      "cell_type": "code",
      "execution_count": 1,
      "metadata": {
        "trusted": true
      },
      "outputs": [
        {
          "name": "stdout",
          "output_type": "stream",
          "text": [
            "True\n",
            "False\n"
          ]
        }
      ],
      "source": [
        "def es_palindromo(w):    \n",
        "    return w == w[::-1]\n",
        "\n",
        "print(es_palindromo(\"ana\"))\n",
        "print(es_palindromo(\"pepe\"))"
      ]
    }
  ],
  "metadata": {
    "kernelspec": {
      "display_name": "Python 3.6",
      "language": "python",
      "name": "python36"
    },
    "language_info": {
      "codemirror_mode": {
        "name": "ipython",
        "version": 3
      },
      "file_extension": ".py",
      "mimetype": "text/x-python",
      "name": "python",
      "nbconvert_exporter": "python",
      "pygments_lexer": "ipython3",
      "version": "3.6.6"
    }
  },
  "nbformat": 4,
  "nbformat_minor": 2
}
