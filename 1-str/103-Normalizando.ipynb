{
  "cells": [
    {
      "cell_type": "markdown",
      "metadata": {
        "collapsed": true
      },
      "source": [
        "# Normalizando\n",
        "[Pablo A. Haya](https://pablohaya.com)"
      ]
    },
    {
      "cell_type": "markdown",
      "metadata": {},
      "source": [
        "Ya hemos comentado que *no* es posible en `Python` cambiar el contenido de una cadena de caracteres. Lo que si podemos es generar una nueva cadena. El sigui`ente conjunto de métodos nos permiten crean nuevas cadenas que reflejan un cambio sobre la original. Por ejemplo, para cambiar todos los caracteres a minúsculas. "
      ]
    },
    {
      "cell_type": "code",
      "execution_count": 1,
      "metadata": {
        "trusted": true
      },
      "outputs": [
        {
          "name": "stdout",
          "output_type": "stream",
          "text": [
            "garcilaso de la vega\n"
          ]
        }
      ],
      "source": [
        "poeta = \"Garcilaso de la Vega\"\n",
        "print(poeta.lower())"
      ]
    },
    {
      "cell_type": "markdown",
      "metadata": {},
      "source": [
        "El resultado de llamar al método `lower()` es una nueva cadena que contiene los caracteres en minúsculas de la cadena original. La mayor parte de los métodos se pueden también llamar como funciones."
      ]
    },
    {
      "cell_type": "markdown",
      "metadata": {},
      "source": [
        "**Prueba tú mismo** el método `upper()` que es el equivalente a `lower()` pero para pasar a mayúsculas"
      ]
    },
    {
      "cell_type": "markdown",
      "metadata": {},
      "source": [
        "El método `lower()` se puede utilizar cuando se quiere comparar dos cadenas, de manera que la comparación no sea insensible a si están escritas en mayúsculas o minúsculas."
      ]
    },
    {
      "cell_type": "code",
      "execution_count": 2,
      "metadata": {
        "trusted": true
      },
      "outputs": [
        {
          "data": {
            "text/plain": [
              "True"
            ]
          },
          "execution_count": 2,
          "metadata": {},
          "output_type": "execute_result"
        }
      ],
      "source": [
        "poeta1 = \"Garcilaso de la Vega\"\n",
        "poeta2 = \"Garcilaso De La Vega\"\n",
        "poeta1.lower() == poeta2.lower()"
      ]
    },
    {
      "cell_type": "markdown",
      "metadata": {},
      "source": [
        "Existen lenguajes que tiene grafemas que solo tienen una tipo de representación, como `ß` en alemán que  tiene versión alternativa. En este caso se puede emplear el método `casefold()` que realiza una normalización más agresiva."
      ]
    },
    {
      "cell_type": "code",
      "execution_count": 3,
      "metadata": {
        "trusted": true
      },
      "outputs": [
        {
          "name": "stdout",
          "output_type": "stream",
          "text": [
            "strasse\n",
            "straße\n"
          ]
        }
      ],
      "source": [
        "print(\"Straße\".casefold())\n",
        "print(\"Straße\".lower())"
      ]
    },
    {
      "cell_type": "markdown",
      "metadata": {},
      "source": [
        "Es posible que nos interese sólo pasar a mayúsculas el primer caracter `capitalize()`, o modificar los primeros caracteres de cada palabra `title()`."
      ]
    },
    {
      "cell_type": "code",
      "execution_count": 4,
      "metadata": {
        "trusted": true
      },
      "outputs": [
        {
          "name": "stdout",
          "output_type": "stream",
          "text": [
            "Gabriel\n",
            "Cien Años De Soledad\n"
          ]
        }
      ],
      "source": [
        "nombre = \"gabriel\"\n",
        "print(nombre.capitalize())\n",
        "\n",
        "titulo = \"cien años de soledad\"\n",
        "print(titulo.title())"
      ]
    },
    {
      "cell_type": "markdown",
      "metadata": {},
      "source": [
        "Otra normalización bastante habitual es eliminar caracteres de una palabra al principio o al final que no forman parte de la misma. Por ejemplo, símbolos de puntuación o espacios en blanco.\n",
        "\n",
        "El método `strip()` permite realizar esta funcionalidad especificación la lista de caracteres que se quiere eliminar."
      ]
    },
    {
      "cell_type": "code",
      "execution_count": 5,
      "metadata": {
        "trusted": true
      },
      "outputs": [
        {
          "data": {
            "text/plain": [
              "'hola'"
            ]
          },
          "execution_count": 5,
          "metadata": {},
          "output_type": "execute_result"
        }
      ],
      "source": [
        "\" ¡hola!. \".strip(\"!¡. ,\")"
      ]
    },
    {
      "cell_type": "markdown",
      "metadata": {},
      "source": [
        "**Prueba tu mismo** las versiones `lstrip()` y `rstrip()` del método anterior."
      ]
    },
    {
      "cell_type": "markdown",
      "metadata": {},
      "source": [
        "**Prueba tu mismo** Prueba a eliminar los puntos con `strip()` de \"R.A.E.\""
      ]
    },
    {
      "cell_type": "markdown",
      "metadata": {},
      "source": [
        "También es posible sustituir un caracter, o conjunto de caracteres por otro con el método `replace()`."
      ]
    },
    {
      "cell_type": "code",
      "execution_count": 6,
      "metadata": {
        "trusted": true
      },
      "outputs": [
        {
          "data": {
            "text/plain": [
              "'macarena'"
            ]
          },
          "execution_count": 6,
          "metadata": {},
          "output_type": "execute_result"
        }
      ],
      "source": [
        "\"alcarena\".replace(\"al\", \"ma\")"
      ]
    },
    {
      "cell_type": "markdown",
      "metadata": {},
      "source": [
        "**Prueba tú mismo** si es posible sustituir más de una aparición a la vez. Por ejemplo, cambiar todas las apariciones de una letra por otra."
      ]
    },
    {
      "cell_type": "markdown",
      "metadata": {},
      "source": [
        "**Prueba tú mismo** a normalizar el acrónimo \"R.A.E.\" eliminando los puntos."
      ]
    },
    {
      "cell_type": "markdown",
      "metadata": {},
      "source": [
        "## Ejercicios"
      ]
    },
    {
      "cell_type": "markdown",
      "metadata": {},
      "source": [
        "**1. Ejercicio** Realiza dos funciones `es_plural()` y `es_singular()` que devuelvan verdadero o falso dependiendo de si la función termina en `s` o no. Construir las funciones de manera que una llame a la otra.\n",
        "\n",
        "```\n",
        "print(es_plural(\"palabras\"))\n",
        "print(es_plural(\"PALABRAS\"))\n",
        "print(es_singular(\"palabras\"))\n",
        "```\n",
        "\n",
        "debería devolver `True`, `True` y `False` respectivamente."
      ]
    },
    {
      "cell_type": "code",
      "execution_count": 2,
      "metadata": {
        "trusted": true
      },
      "outputs": [
        {
          "name": "stdout",
          "output_type": "stream",
          "text": [
            "True\n",
            "True\n",
            "False\n"
          ]
        }
      ],
      "source": [
        "def es_plural(s):\n",
        "    return s.lower().endswith(\"s\")\n",
        "\n",
        "def es_singular(s):\n",
        "    return not es_plural(s)\n",
        "\n",
        "print(es_plural(\"palabras\"))\n",
        "print(es_plural(\"PALABRAS\"))\n",
        "print(es_singular(\"palabras\"))"
      ]
    },
    {
      "cell_type": "markdown",
      "metadata": {},
      "source": [
        "**2. Ejercicio** Realizar una función alternativa a `startswith()` que sea indepediente de que la palabra empiece por minúscula o mayúscula. \n",
        "\n",
        "Por ejemplo:\n",
        "\n",
        "```\n",
        "print(comienza_por(\"Octavio\", \"oct\"))\n",
        "print(comienza_por(\"paz\", \"P\"))\n",
        "```"
      ]
    },
    {
      "cell_type": "code",
      "execution_count": 3,
      "metadata": {
        "trusted": true
      },
      "outputs": [
        {
          "name": "stdout",
          "output_type": "stream",
          "text": [
            "True\n",
            "True\n"
          ]
        }
      ],
      "source": [
        "def comienza_por(s, c):\n",
        "    return s.lower().startswith(c.lower())\n",
        "\n",
        "print(comienza_por(\"Octavio\", \"oct\"))\n",
        "print(comienza_por(\"paz\", \"P\"))"
      ]
    },
    {
      "cell_type": "markdown",
      "metadata": {},
      "source": [
        "**3. Ejercicio** Realizar una función `normaliza()` que elimine los caracteres antes y después. Usar las constantes `whitespace` y `punctuation` del módulo `string`.\n",
        "\n",
        "Ejemplo:\n",
        "\n",
        "```\n",
        "print(normaliza(\"¡¿lugar?!, \"))\n",
        "```"
      ]
    },
    {
      "cell_type": "code",
      "execution_count": 4,
      "metadata": {
        "trusted": true
      },
      "outputs": [
        {
          "name": "stdout",
          "output_type": "stream",
          "text": [
            "lugar\n"
          ]
        }
      ],
      "source": [
        "from string import whitespace\n",
        "from string import punctuation\n",
        "\n",
        "def normaliza(s):\n",
        "    return s.strip(punctuation + whitespace + \"¿¡\")\n",
        "        \n",
        "print(normaliza(\"¡¿lugar?!, \"))"
      ]
    },
    {
      "cell_type": "markdown",
      "metadata": {},
      "source": [
        "**4. Ejercicio** Implementar una función que `vocal_o_consonante(s)` que devuelva \"v\" si es vocal, y \"c\" si es consonante. En cualquier otro caso, tendrá que devolver \" \".\n",
        "\n",
        "La siguiente ejecución:\n",
        "\n",
        "```\n",
        "print(vocal_o_consonante(\"B\"))\n",
        "print(vocal_o_consonante(\"á\"))\n",
        "```\n",
        "\n",
        "debería devolver:\n",
        "\n",
        "```\n",
        "c\n",
        "v\n",
        "```"
      ]
    },
    {
      "cell_type": "code",
      "execution_count": 8,
      "metadata": {
        "trusted": true
      },
      "outputs": [
        {
          "name": "stdout",
          "output_type": "stream",
          "text": [
            "c\n",
            "v\n"
          ]
        }
      ],
      "source": [
        "consonants_lowercase = \"bcdfghjklmnñpqrstvwxyz\"\n",
        "consonants = consonants_lowercase + consonants_lowercase.upper()\n",
        "\n",
        "def es_vocal(c):\n",
        "    return c.lower() in \"aeiouáéíóúü\"\n",
        "\n",
        "def es_consonante(s):\n",
        "    return s in consonants\n",
        "\n",
        "def vocal_o_consonante(s):\n",
        "    if es_vocal(s):\n",
        "        return \"v\"\n",
        "    elif es_consonante(s):\n",
        "        return \"c\"\n",
        "    else:\n",
        "        return \" \" \n",
        "\n",
        "print(vocal_o_consonante(\"B\"))\n",
        "print(vocal_o_consonante(\"á\"))"
      ]
    },
    {
      "cell_type": "markdown",
      "metadata": {},
      "source": [
        "**5. Ejercicio** Definir una función `siglas(w)` que dado una palabra elimine los puntos y blancos de separación que pueda tener en cualquier posición."
      ]
    },
    {
      "cell_type": "code",
      "execution_count": null,
      "metadata": {
        "trusted": true
      },
      "outputs": [],
      "source": [
        "def siglas(s):\n",
        "    return s.replace(\".\",\"\").replace(\" \",\"\")\n",
        "\n",
        "print(siglas(\"O.N.U.\"))\n",
        "print(siglas(\"O N U \"))"
      ]
    },
    {
      "cell_type": "markdown",
      "metadata": {},
      "source": [
        "**6. Ejercicio** Define una función `elimina_acento(s)` que reciba una cadena de caracteres, y devuelva la misma cadena reemplazando las vocales acentuadas por no acentuadas (si hubiera alguna). "
      ]
    },
    {
      "cell_type": "code",
      "execution_count": 10,
      "metadata": {
        "trusted": true
      },
      "outputs": [
        {
          "name": "stdout",
          "output_type": "stream",
          "text": [
            "Camion\n",
            "Enredo\n",
            "ESDRUJULA\n",
            "ESDRUJULA\n",
            "Penelope\n"
          ]
        }
      ],
      "source": [
        "def elimina_acento(s):\n",
        "    acento = {\"á\":\"a\", \"é\":\"e\", \"í\":\"i\", \"ó\":\"o\", \"ú\":\"u\", \"ü\":\"u\",\n",
        "              \"Á\":\"A\", \"É\":\"E\", \"Í\":\"I\", \"Ó\":\"O\", \"Ú\":\"U\", \"Ü\":\"U\"}\n",
        "    sn = \"\"\n",
        "    for c in s:\n",
        "        if c in acento.keys():\n",
        "            sn = sn + acento[c]\n",
        "        else:\n",
        "            sn = sn + c\n",
        "    return(sn)\n",
        "\n",
        "print(elimina_acento(\"Camión\"))\n",
        "print(elimina_acento(\"Enredo\"))\n",
        "print(elimina_acento(\"ESDRÚJULA\"))\n",
        "print(elimina_acento(\"ESDRÚJULA\"))\n",
        "print(elimina_acento(\"Penélope\"))"
      ]
    }
  ],
  "metadata": {
    "kernelspec": {
      "display_name": "Python 3.6",
      "language": "python",
      "name": "python36"
    },
    "language_info": {
      "codemirror_mode": {
        "name": "ipython",
        "version": 3
      },
      "file_extension": ".py",
      "mimetype": "text/x-python",
      "name": "python",
      "nbconvert_exporter": "python",
      "pygments_lexer": "ipython3",
      "version": "3.6.6"
    }
  },
  "nbformat": 4,
  "nbformat_minor": 2
}
