{
  "cells": [
    {
      "metadata": {
        "collapsed": true
      },
      "cell_type": "markdown",
      "source": "# Separando y juntando palabras\n[Pablo A. Haya Coll](https://pablohaya.com)"
    },
    {
      "metadata": {},
      "cell_type": "markdown",
      "source": "Una operación muy habitual es extraer de un texto en los términos que lo componen (en ingles se habla de _tokens_). El método `split()` permite separar los términos utilizando, por defecto, el espacio como delimitador de cada término.  "
    },
    {
      "metadata": {
        "trusted": true
      },
      "cell_type": "code",
      "source": "s = \"Viento en popa a toda vela no corta el mar sino vuela\"\nprint(s.split())",
      "execution_count": 2,
      "outputs": [
        {
          "output_type": "stream",
          "text": "['Viento', 'en', 'popa', 'a', 'toda', 'vela', 'no', 'corta', 'el', 'mar', 'sino', 'vuela']\n",
          "name": "stdout"
        }
      ]
    },
    {
      "metadata": {},
      "cell_type": "markdown",
      "source": "Se puede cambiar el término delimitador por defecto."
    },
    {
      "metadata": {
        "trusted": true
      },
      "cell_type": "code",
      "source": "s = \"Viento#en#popa#a#toda#vela#no#corta#el#mar#sino#vuela\"\nprint(s.split(\"#\"))",
      "execution_count": 3,
      "outputs": [
        {
          "output_type": "stream",
          "text": "['Viento', 'en', 'popa', 'a', 'toda', 'vela', 'no', 'corta', 'el', 'mar', 'sino', 'vuela']\n",
          "name": "stdout"
        }
      ]
    },
    {
      "metadata": {},
      "cell_type": "markdown",
      "source": "**Prueba tu mismo** Separa por comas el siguiente texto \"\""
    },
    {
      "metadata": {},
      "cell_type": "markdown",
      "source": "**Prueba tú mismo** Realiza un `split()` por una cadena de dos o más caracteres"
    },
    {
      "metadata": {},
      "cell_type": "markdown",
      "source": "**Prueba tú mismo** a partir una palabra que contiene más de una aparación del separador. Ejemplo, separar  \"R.A.E.\" por el punto."
    },
    {
      "metadata": {},
      "cell_type": "markdown",
      "source": "Otra manipulación básica es dividir una cadena en dos partes con `partition()`. En este caso es necesario indicar el separador como argumento. Este método devuelve una tupla que contiene la primera parte, el separador, y la última parte."
    },
    {
      "metadata": {
        "trusted": true
      },
      "cell_type": "code",
      "source": "\"pablohaya@gmail.com\".partition(\"@\")",
      "execution_count": 4,
      "outputs": [
        {
          "output_type": "execute_result",
          "execution_count": 4,
          "data": {
            "text/plain": "('pablohaya', '@', 'gmail.com')"
          },
          "metadata": {}
        }
      ]
    },
    {
      "metadata": {},
      "cell_type": "markdown",
      "source": "Finalmente, disponemos del método `join()` que nos permite convertir una lista de términos de nuevo en una cadena de caracteres. Este método se invoca sobre una cadena de caracteres que se empleará como pegamento entre los términos. Así,"
    },
    {
      "metadata": {
        "trusted": true
      },
      "cell_type": "code",
      "source": "\" \".join([\"Con\", \"diez\", \"cañones\", \"por\", \"banda\"])",
      "execution_count": 5,
      "outputs": [
        {
          "output_type": "execute_result",
          "execution_count": 5,
          "data": {
            "text/plain": "'Con diez cañones por banda'"
          },
          "metadata": {}
        }
      ]
    },
    {
      "metadata": {},
      "cell_type": "markdown",
      "source": "Los términos de la lista que se indica en el método `join()` se juntan empleando el espacio `\" \"` como separador."
    },
    {
      "metadata": {},
      "cell_type": "markdown",
      "source": "**Prueba tú mismo** Sustituir el espacio en blanco por diferentes separadores, incluyen cadenas de más de un caracter."
    },
    {
      "metadata": {},
      "cell_type": "markdown",
      "source": "**Prueba tú mismo** Dado las siguientes siglas `\"R.A.E.\"` eliminar los puntos utilizando una combinación de `split()` y `join()`."
    },
    {
      "metadata": {},
      "cell_type": "markdown",
      "source": "## Ejercicios"
    },
    {
      "metadata": {},
      "cell_type": "markdown",
      "source": "**1. Ejercicio** Realizar una función que dada una frase devuelva una nueva frase sustituyendo las vocales por `v`, y las consonantes por `c`. Ayuda: utilizar la función `vocal_o_consonante()` definida en 103-Normalizando. "
    },
    {
      "metadata": {
        "trusted": true
      },
      "cell_type": "code",
      "source": "word = \"En un lugar de la Mancha\"\n\nconsonants_lowercase = \"bcdfghjklmnñpqrstvwxyz\"\nconsonants = consonants_lowercase + consonants_lowercase.upper()\n\ndef es_vocal(c):\n    return c.lower() in \"aeiouáéíóúü\"\n\ndef es_consonante(s):\n    return s in consonants\n\ndef vocal_o_consonante(s):\n    if es_vocal(s):\n        return \"v\"\n    elif es_consonante(s):\n        return \"c\"\n    else:\n        return \" \" \n\ndef v_o_c(word):\n    return ''.join([vocal_o_consonante(ch) for ch in word])\n\nprint(v_o_c(\"En un lugar de la Mancha\"))",
      "execution_count": 2,
      "outputs": [
        {
          "output_type": "stream",
          "text": "vc vc cvcvc cv cv cvcccv\n",
          "name": "stdout"
        }
      ]
    },
    {
      "metadata": {},
      "cell_type": "markdown",
      "source": "**2. Ejercicio** Repetir el  ejercicio anterior pero distinguiendo entre mayúsculas y minúscula V,C,v,c"
    },
    {
      "metadata": {
        "trusted": true
      },
      "cell_type": "code",
      "source": "word = \"En un lugar de la Mancha\"\n\ndef es_mayuscula(c):\n    return c.upper() == c\n\nprint(es_mayuscula(\"c\"))\nprint(es_mayuscula(\"D\"))\n\ndef v_o_c(c):\n    if es_mayuscula(c):\n        return vocal_o_consonante(c).upper()\n    else:\n        return vocal_o_consonante(c)\n    \ndef V_O_C(word):\n    return ''.join([v_o_c(ch) for ch in word])\n\nprint(V_O_C(\"En un lugar de la Mancha\"))",
      "execution_count": 4,
      "outputs": [
        {
          "output_type": "stream",
          "text": "False\nTrue\nVc vc cvcvc cv cv Cvcccv\n",
          "name": "stdout"
        }
      ]
    }
  ],
  "metadata": {
    "kernelspec": {
      "name": "python36",
      "display_name": "Python 3.6",
      "language": "python"
    },
    "language_info": {
      "mimetype": "text/x-python",
      "nbconvert_exporter": "python",
      "name": "python",
      "pygments_lexer": "ipython3",
      "version": "3.6.6",
      "file_extension": ".py",
      "codemirror_mode": {
        "version": 3,
        "name": "ipython"
      }
    }
  },
  "nbformat": 4,
  "nbformat_minor": 2
}