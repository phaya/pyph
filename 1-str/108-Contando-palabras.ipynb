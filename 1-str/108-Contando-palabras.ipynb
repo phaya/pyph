{
  "cells": [
    {
      "cell_type": "markdown",
      "metadata": {
        "collapsed": true
      },
      "source": [
        "# Contando caracteres y palabras\n",
        "[Pablo A. Haya](https://pablohaya.com)"
      ]
    },
    {
      "cell_type": "markdown",
      "metadata": {},
      "source": [
        "Contar es la operación matemática más básica que aprendemos en la escuela. Es habitual que los procesadores de textos incluyen métricas donde se muestran el número de caracteres o de palabras. \n",
        "\n",
        "En `Python` disponemos de la clase `Counter` que permitee contar el número de repeticiones de cada elemento de una lista."
      ]
    },
    {
      "cell_type": "code",
      "execution_count": 1,
      "metadata": {
        "trusted": true
      },
      "outputs": [
        {
          "name": "stdout",
          "output_type": "stream",
          "text": [
            "Counter({'Pablito': 2, 'clavó': 2, 'clavito': 2, 'un': 1, 'que': 1})\n"
          ]
        }
      ],
      "source": [
        "tokens = ['Pablito','clavó', 'un', 'clavito', 'que', 'clavito', 'clavó', 'Pablito']\n",
        "\n",
        "from collections import Counter\n",
        "cnt = Counter(tokens)\n",
        "print(cnt)"
      ]
    },
    {
      "cell_type": "markdown",
      "metadata": {},
      "source": [
        "El resultado es un diccionario donde cada clave es un elemento de la lista, y e valor es el número de veces que se repite en la lista.\n",
        "\n",
        "Si creamos un contador con una cadena de caracteres este lo interpreta como una lista de caracteres. De esta manera es directo obtener el número de apariciones de cada caracter en un texto. "
      ]
    },
    {
      "cell_type": "code",
      "execution_count": 2,
      "metadata": {
        "trusted": true
      },
      "outputs": [
        {
          "name": "stdout",
          "output_type": "stream",
          "text": [
            "Counter({' ': 7, 'a': 6, 'l': 6, 'i': 4, 't': 4, 'o': 4, 'c': 4, 'v': 4, 'P': 2, 'b': 2, 'ó': 2, 'u': 2, 'n': 1, '.': 1, '¿': 1, 'Q': 1, 'é': 1, '?': 1})\n"
          ]
        }
      ],
      "source": [
        "txt = \"Pablito clavó un clavito. ¿Qué clavito clavó Pablito?\"\n",
        "cnt = Counter(txt)\n",
        "print(cnt)"
      ]
    },
    {
      "cell_type": "markdown",
      "metadata": {},
      "source": [
        "**Prueba tú mismo** Imprime únicamente el número de vocales en el trabalenguas anterior. "
      ]
    },
    {
      "cell_type": "markdown",
      "metadata": {},
      "source": [
        "Obtener el número total de caracteres es muy sencillo. Se obtienen todos los valores del diccionario, y se suman con la función `sum()` "
      ]
    },
    {
      "cell_type": "code",
      "execution_count": 7,
      "metadata": {
        "trusted": true
      },
      "outputs": [
        {
          "data": {
            "text/plain": [
              "53"
            ]
          },
          "execution_count": 7,
          "metadata": {},
          "output_type": "execute_result"
        }
      ],
      "source": [
        "sum(cnt.values())"
      ]
    },
    {
      "cell_type": "markdown",
      "metadata": {},
      "source": [
        "**Prueba tú mismo** Cálcula el número de caracteres del trabalenguas anterior excluyendo los espacios. "
      ]
    },
    {
      "cell_type": "markdown",
      "metadata": {},
      "source": [
        "El número de apariciones se denomina *frecuencia absoluta*. Para comparar la frecuencia de palabras entre textos que tienen distinta extensión es preciso normalizar estas frecuencias. Esta normalización se realiza dividiendo cada frecuencia absoluta por el número total de caracteres o palabras según lo que estemos midiendo. La frecuencia una vez normalizada se denomina *frecuencia relativa*.\n"
      ]
    },
    {
      "cell_type": "code",
      "execution_count": 33,
      "metadata": {},
      "outputs": [
        {
          "data": {
            "text/plain": [
              "[('P', 0.04),\n",
              " ('a', 0.11),\n",
              " ('b', 0.04),\n",
              " ('l', 0.11),\n",
              " ('i', 0.08),\n",
              " ('t', 0.08),\n",
              " ('o', 0.08),\n",
              " (' ', 0.13),\n",
              " ('c', 0.08),\n",
              " ('v', 0.08),\n",
              " ('ó', 0.04),\n",
              " ('u', 0.04),\n",
              " ('n', 0.02),\n",
              " ('.', 0.02),\n",
              " ('¿', 0.02),\n",
              " ('Q', 0.02),\n",
              " ('é', 0.02),\n",
              " ('?', 0.02)]"
            ]
          },
          "execution_count": 33,
          "metadata": {},
          "output_type": "execute_result"
        }
      ],
      "source": [
        "n = sum(cnt.values())\n",
        "[(c, round(cnt[c]/n, 2)) for c in cnt.keys()]\n"
      ]
    },
    {
      "cell_type": "markdown",
      "metadata": {},
      "source": [
        "**Prueba tú mismo** Modifica el código anterior para presentar la frecuencia relativa como un porcentaje. "
      ]
    },
    {
      "cell_type": "code",
      "execution_count": 49,
      "metadata": {},
      "outputs": [
        {
          "data": {
            "text/plain": [
              "[('a', '19 %'),\n",
              " ('l', '5 %'),\n",
              " ('e', '9 %'),\n",
              " ('j', '7 %'),\n",
              " ('n', '5 %'),\n",
              " ('d', '7 %'),\n",
              " ('r', '5 %'),\n",
              " (' ', '15 %'),\n",
              " ('/', '3 %'),\n",
              " ('y', '5 %'),\n",
              " ('b', '1 %'),\n",
              " ('o', '5 %'),\n",
              " ('s', '1 %'),\n",
              " ('t', '1 %')]"
            ]
          },
          "execution_count": 49,
          "metadata": {},
          "output_type": "execute_result"
        }
      ],
      "source": [
        "n = sum(cnt.values())\n",
        "[(c, str(int(cnt[c]/n*100)) + \" %\") for c in cnt.keys()]"
      ]
    },
    {
      "cell_type": "code",
      "execution_count": 47,
      "metadata": {},
      "outputs": [
        {
          "data": {
            "text/plain": [
              "'9'"
            ]
          },
          "execution_count": 47,
          "metadata": {},
          "output_type": "execute_result"
        }
      ],
      "source": [
        "str(int(5/n*100))"
      ]
    },
    {
      "cell_type": "markdown",
      "metadata": {},
      "source": [
        "## Ejercicios"
      ]
    },
    {
      "cell_type": "markdown",
      "metadata": {},
      "source": [
        "**1. Ejercicio** Dado el siguiente poema `\"alejandra alejandra / y debajo estoy yo / alejandra\"` calcular las frecuencias relativas de cada caracter e imprimirlas ordenadas de mayor a menor."
      ]
    },
    {
      "cell_type": "code",
      "execution_count": 38,
      "metadata": {},
      "outputs": [
        {
          "name": "stdout",
          "output_type": "stream",
          "text": [
            "[('a', 0.2), (' ', 0.16), ('e', 0.1), ('j', 0.08), ('d', 0.08), ('l', 0.06), ('n', 0.06), ('r', 0.06), ('y', 0.06), ('o', 0.06), ('/', 0.04), ('b', 0.02), ('s', 0.02), ('t', 0.02)]\n"
          ]
        }
      ],
      "source": [
        "from collections import Counter\n",
        "\n",
        "txt = \"alejandra alejandra / y debajo estoy yo / alejandra\"\n",
        "cnt = Counter(txt)\n",
        "\n",
        "n = sum(cnt.values())\n",
        "freq_rel = [(c, round(cnt[c]/n, 2)) for c in cnt.keys()]\n",
        "freq_rel.sort(key=lambda x : x[1], reverse=True)\n",
        "\n",
        "print(freq_rel)"
      ]
    },
    {
      "cell_type": "markdown",
      "metadata": {},
      "source": [
        "**2. Ejercicio** Realizar una función que reciba una lista y devuelva una tupla con la frecuencia absoluta y relativa para cada token. Incluir un parámetro opcional para determinar el número de decimales que se inicializa a dos."
      ]
    },
    {
      "cell_type": "code",
      "execution_count": 101,
      "metadata": {},
      "outputs": [
        {
          "name": "stdout",
          "output_type": "stream",
          "text": [
            "[('a', 10, 0.2), (' ', 8, 0.16), ('e', 5, 0.1), ('j', 4, 0.08), ('d', 4, 0.08), ('l', 3, 0.06), ('n', 3, 0.06), ('r', 3, 0.06), ('y', 3, 0.06), ('o', 3, 0.06), ('/', 2, 0.04), ('b', 1, 0.02), ('s', 1, 0.02), ('t', 1, 0.02)]\n"
          ]
        }
      ],
      "source": [
        "from collections import Counter\n",
        "\n",
        "def freq(txt, digits=2):\n",
        "    cnt = Counter(txt)\n",
        "\n",
        "    n = sum(cnt.values())\n",
        "    freq_rel = [(c, cnt[c], round(cnt[c]/n, digits)) for c in cnt.keys()]\n",
        "    freq_rel.sort(key=lambda x : x[1], reverse=True)\n",
        "    return(freq_rel)\n",
        "\n",
        "txt = \"alejandra alejandra / y debajo estoy yo / alejandra\"\n",
        "print(freq(txt))"
      ]
    },
    {
      "cell_type": "markdown",
      "metadata": {},
      "source": [
        "**3. Ejercicio** Extraer las _frecuencias absolutas y relativas_ de las 20 palabras más empleadas en el _Lazarillo de Tormes_."
      ]
    },
    {
      "cell_type": "code",
      "execution_count": 102,
      "metadata": {},
      "outputs": [],
      "source": [
        "from string import whitespace\n",
        "from string import punctuation\n",
        "\n",
        "def normaliza(s):\n",
        "    return s.strip(punctuation + whitespace + \"¿¡\").lower()\n",
        "\n",
        "def tokeniza(txt):\n",
        "    return([normaliza(t) for t in txt.split()])"
      ]
    },
    {
      "cell_type": "code",
      "execution_count": 103,
      "metadata": {},
      "outputs": [
        {
          "name": "stdout",
          "output_type": "stream",
          "text": [
            "['la', 'vida', 'de', 'lazarillo', 'de', 'tormes', 'y', 'de', 'sus', 'fortunas', 'y', 'adversidades', 'autor', 'desconocido', 'edición', 'de', 'burgos', '1554', 'interpolaciones', 'de']\n"
          ]
        }
      ],
      "source": [
        "with open(\"corpus/pg320.txt\", encoding=\"utf8\", mode=\"r\") as f:\n",
        "    tokens = tokeniza(f.read())\n",
        "\n",
        "print(tokens[0:20])"
      ]
    },
    {
      "cell_type": "code",
      "execution_count": 95,
      "metadata": {},
      "outputs": [
        {
          "data": {
            "text/plain": [
              "20089"
            ]
          },
          "execution_count": 95,
          "metadata": {},
          "output_type": "execute_result"
        }
      ],
      "source": [
        "len(tokens)"
      ]
    },
    {
      "cell_type": "code",
      "execution_count": 104,
      "metadata": {},
      "outputs": [
        {
          "data": {
            "text/plain": [
              "[('y', 1146, 0.06),\n",
              " ('que', 901, 0.04),\n",
              " ('de', 759, 0.04),\n",
              " ('la', 529, 0.03),\n",
              " ('a', 484, 0.02),\n",
              " ('el', 463, 0.02),\n",
              " ('en', 429, 0.02),\n",
              " ('no', 343, 0.02),\n",
              " ('por', 283, 0.01),\n",
              " ('con', 281, 0.01),\n",
              " ('me', 258, 0.01),\n",
              " ('lo', 214, 0.01),\n",
              " ('yo', 211, 0.01),\n",
              " ('mi', 198, 0.01),\n",
              " ('un', 164, 0.01),\n",
              " ('se', 160, 0.01),\n",
              " ('los', 158, 0.01),\n",
              " ('le', 147, 0.01),\n",
              " ('como', 146, 0.01),\n",
              " ('las', 139, 0.01)]"
            ]
          },
          "execution_count": 104,
          "metadata": {},
          "output_type": "execute_result"
        }
      ],
      "source": [
        "freq(tokens)[:20]"
      ]
    },
    {
      "cell_type": "code",
      "execution_count": 105,
      "metadata": {},
      "outputs": [
        {
          "data": {
            "text/plain": [
              "[('quedamos', 1, 0.0),\n",
              " ('conformes', 1, 0.0),\n",
              " ('siento', 1, 0.0),\n",
              " ('atajo', 1, 0.0),\n",
              " ('digáis', 1, 0.0),\n",
              " ('pese', 1, 0.0),\n",
              " ('mercedes', 1, 0.0),\n",
              " ('merezco', 1, 0.0),\n",
              " ('hostia', 1, 0.0),\n",
              " ('consagrada', 1, 0.0),\n",
              " ('dijere', 1, 0.0),\n",
              " ('mataré', 1, 0.0),\n",
              " ('victorioso', 1, 0.0),\n",
              " ('emperador', 1, 0.0),\n",
              " ('cortes', 1, 0.0),\n",
              " ('regocijos', 1, 0.0),\n",
              " ('prosperidad', 1, 0.0),\n",
              " ('cumbre', 1, 0.0),\n",
              " ('sucediere', 1, 0.0),\n",
              " ('avisaré', 1, 0.0)]"
            ]
          },
          "execution_count": 105,
          "metadata": {},
          "output_type": "execute_result"
        }
      ],
      "source": [
        "freq(tokens)[-20:]"
      ]
    },
    {
      "cell_type": "markdown",
      "metadata": {},
      "source": [
        "**4. Ejercicio** Una variante de la _frecuencia relativa_ es la _normalización de frecuencias por millón de palabras_. Esta se calcula multiplicando la _frecuencia relativa_ por un millón. Modificar la función `freq` para realizar una normalización  Realizar una función que devuelva la frecuencia relativa normalizada por millón de palabras con dos decimales."
      ]
    },
    {
      "cell_type": "code",
      "execution_count": 110,
      "metadata": {},
      "outputs": [
        {
          "name": "stdout",
          "output_type": "stream",
          "text": [
            "[('de', 5, 250.0), ('y', 2, 100.0), ('la', 1, 50.0), ('vida', 1, 50.0), ('lazarillo', 1, 50.0), ('tormes', 1, 50.0), ('sus', 1, 50.0), ('fortunas', 1, 50.0), ('adversidades', 1, 50.0), ('autor', 1, 50.0), ('desconocido', 1, 50.0), ('edición', 1, 50.0), ('burgos', 1, 50.0), ('1554', 1, 50.0), ('interpolaciones', 1, 50.0)]\n",
            "[('de', 5, 0.25), ('y', 2, 0.1), ('la', 1, 0.05), ('vida', 1, 0.05), ('lazarillo', 1, 0.05), ('tormes', 1, 0.05), ('sus', 1, 0.05), ('fortunas', 1, 0.05), ('adversidades', 1, 0.05), ('autor', 1, 0.05), ('desconocido', 1, 0.05), ('edición', 1, 0.05), ('burgos', 1, 0.05), ('1554', 1, 0.05), ('interpolaciones', 1, 0.05)]\n"
          ]
        }
      ],
      "source": [
        "from collections import Counter\n",
        "\n",
        "def freq(txt, digits=2, norm=1):\n",
        "    cnt = Counter(txt)\n",
        "\n",
        "    n = sum(cnt.values())\n",
        "    freq_rel = [(c, cnt[c], round(cnt[c]/n*norm, digits)) for c in cnt.keys()]\n",
        "    freq_rel.sort(key=lambda x : x[1], reverse=True)\n",
        "    return(freq_rel)\n",
        "\n",
        "print(freq(tokens[:20], norm=1E3))\n",
        "print(freq(tokens[:20]))"
      ]
    },
    {
      "cell_type": "markdown",
      "metadata": {},
      "source": [
        "**5. Ejercicio** Extraer la  _normalización de frecuencias por millón de palabras_ de las 20 palabras más empleadas en el _Lazarillo de Tormes_."
      ]
    }
  ],
  "metadata": {
    "interpreter": {
      "hash": "1e006a5f21c6b99520425e0c69708af3075077f7072f65b281cd01ec83c7c9ab"
    },
    "kernelspec": {
      "display_name": "Python 3.6",
      "language": "python",
      "name": "python3"
    },
    "language_info": {
      "codemirror_mode": {
        "name": "ipython",
        "version": 3
      },
      "file_extension": ".py",
      "mimetype": "text/x-python",
      "name": "python",
      "nbconvert_exporter": "python",
      "pygments_lexer": "ipython3",
      "version": "3.8.3"
    }
  },
  "nbformat": 4,
  "nbformat_minor": 2
}
